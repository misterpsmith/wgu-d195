{
 "cells": [
  {
   "cell_type": "markdown",
   "metadata": {},
   "source": [
    "# Project: Analysis of Airline Delay and Cancellation Data, 2009 - 2018\n",
    "\n",
    "A 2010 report sponsored by the Federal Aviation Administration (FAA) analyzed a variety of cost components caused by flight delays. This included the cost to airlines, cost to passengers, cost of lost demand, as well as the indirect impact of delay on the US economy. The report concluded that the total cost of all US air transportation delays in 2007 was **$32.9 billion**. Clearly, flight delays are a serious and widespread problem in the US. An exploration of multi-year (2009 - 2018) airline delay and cancellation data will be made to determine what are the causes of airline delays.\n",
    "\n",
    "Import required libraries:"
   ]
  },
  {
   "cell_type": "code",
   "execution_count": 35,
   "metadata": {},
   "outputs": [],
   "source": [
    "# import libraries here; add more as necessary.\n",
    "import numpy as np\n",
    "import pandas as pd\n",
    "import matplotlib.pyplot as plot\n",
    "import seaborn as sb\n",
    "\n",
    "from sklearn.impute import SimpleImputer\n",
    "from sklearn.preprocessing import StandardScaler\n",
    "from sklearn.decomposition import PCA\n",
    "from sklearn.cluster import KMeans\n",
    "\n",
    "# magic word for producing visualizations in notebook\n",
    "%matplotlib inline"
   ]
  },
  {
   "cell_type": "markdown",
   "metadata": {},
   "source": [
    "### Load the Data\n",
    "\n",
    "Airline Delay and Cancellation Data datasets were collected from www.kaggle.com. This data has been combined from multiple US Government (Bureau of Transportation Statistics) datasets. This department was founded in 1966 and its mandate was to collect and disseminate transportation statistics. It provides various publicly downloadable datasets.\n",
    "\n",
    "Note that I will not use any restricted, private, or propriety data in this analysis.\n",
    "\n",
    "These datasets will be cleansed and combined to form a multi-year dataset in an effort to offer additional insights.\n",
    "\n",
    "There are ten data files associated with this project:\n",
    "\n",
    "- `2009.csv`: Airline Delay and Cancellation Data dataset for 2009.\n",
    "- `2010.csv`: Airline Delay and Cancellation Data dataset for 2010.\n",
    "- `2011.csv`: Airline Delay and Cancellation Data dataset for 2011.\n",
    "- `2012.csv`: Airline Delay and Cancellation Data dataset for 2012.\n",
    "- `2013.csv`: Airline Delay and Cancellation Data dataset for 2013.\n",
    "- `2014.csv`: Airline Delay and Cancellation Data dataset for 2014.\n",
    "- `2015.csv`: Airline Delay and Cancellation Data dataset for 2015.\n",
    "- `2016.csv`: Airline Delay and Cancellation Data dataset for 2016.\n",
    "- `2017.csv`: Airline Delay and Cancellation Data dataset for 2017.\n",
    "- `2018.csv`: Airline Delay and Cancellation Data dataset for 2018.\n",
    "\n",
    "Each row of the demographics files represents a single person, but also includes information outside of individuals, including information about their household, building, and neighborhood. You will use this information to cluster the general population into groups with similar demographic properties. Then, you will see how the people in the customers dataset fit into those created clusters. The hope here is that certain clusters are over-represented in the customers data, as compared to the general population; those over-represented clusters will be assumed to be part of the core userbase. This information can then be used for further applications, such as targeting for a marketing campaign.\n",
    "\n",
    "To start off with, load in the demographics data for the general population into a pandas DataFrame, and do the same for the feature attributes summary. Note for all of the `.csv` data files in this project: they're semicolon (`;`) delimited, so you'll need an additional argument in your [`read_csv()`](https://pandas.pydata.org/pandas-docs/stable/generated/pandas.read_csv.html) call to read in the data properly. Also, considering the size of the main dataset, it may take some time for it to load completely."
   ]
  },
  {
   "cell_type": "markdown",
   "metadata": {},
   "source": [
    "Load the datasets:"
   ]
  },
  {
   "cell_type": "code",
   "execution_count": 17,
   "metadata": {},
   "outputs": [],
   "source": [
    "# Load in the 2009 data.\n",
    "y2009 = pd.read_csv('airline-data\\\\2009.csv', sep = ',')\n",
    "\n",
    "# Load in the 2010 data.\n",
    "y2010 = pd.read_csv('airline-data\\\\2010.csv', sep = ',')\n",
    "\n",
    "# Load in the 2011 data.\n",
    "y2011 = pd.read_csv('airline-data\\\\2011.csv', sep = ',')\n",
    "\n",
    "# Load in the 2012 data.\n",
    "y2012 = pd.read_csv('airline-data\\\\2012.csv', sep = ',')\n",
    "\n",
    "# Load in the 2013 data.\n",
    "y2013 = pd.read_csv('airline-data\\\\2013.csv', sep = ',')\n",
    "\n",
    "# Load in the 2014 data.\n",
    "y2014 = pd.read_csv('airline-data\\\\2014.csv', sep = ',')\n",
    "\n",
    "# Load in the 2015 data.\n",
    "y2015 = pd.read_csv('airline-data\\\\2015.csv', sep = ',')\n",
    "\n",
    "# Load in the 2016 data.\n",
    "y2016 = pd.read_csv('airline-data\\\\2016.csv', sep = ',')\n",
    "\n",
    "# Load in the 2017 data.\n",
    "y2017 = pd.read_csv('airline-data\\\\2017.csv', sep = ',')\n",
    "\n",
    "# Load in the 2018 data.\n",
    "y2018 = pd.read_csv('airline-data\\\\2018.csv', sep = ',')"
   ]
  },
  {
   "cell_type": "markdown",
   "metadata": {},
   "source": [
    "Display the number of rows and columns in the first dataset (`azdias`):"
   ]
  },
  {
   "cell_type": "code",
   "execution_count": 22,
   "metadata": {},
   "outputs": [
    {
     "name": "stdout",
     "output_type": "stream",
     "text": [
      "2009 =  (6429338, 28)\n",
      "2010 =  (6450117, 28)\n",
      "2011 =  (6066650, 28)\n",
      "2012 =  (6096762, 28)\n",
      "2013 =  (6369482, 28)\n",
      "2014 =  (5819811, 28)\n",
      "2015 =  (5819079, 28)\n",
      "2016 =  (5617658, 28)\n",
      "2017 =  (5674621, 28)\n",
      "2018 =  (7213446, 28)\n"
     ]
    }
   ],
   "source": [
    "# Check the structure of the data after it's loaded (e.g. print the number of\n",
    "# rows and columns).\n",
    "\n",
    "print(\"2009 = \", y2009.shape)\n",
    "print(\"2010 = \", y2010.shape)\n",
    "print(\"2011 = \", y2011.shape)\n",
    "print(\"2012 = \", y2012.shape)\n",
    "print(\"2013 = \", y2013.shape)\n",
    "print(\"2014 = \", y2014.shape)\n",
    "print(\"2015 = \", y2015.shape)\n",
    "print(\"2016 = \", y2016.shape)\n",
    "print(\"2017 = \", y2017.shape)\n",
    "print(\"2018 = \", y2018.shape)"
   ]
  },
  {
   "cell_type": "markdown",
   "metadata": {},
   "source": [
    "Display sample data from the datasets:"
   ]
  },
  {
   "cell_type": "code",
   "execution_count": 25,
   "metadata": {},
   "outputs": [
    {
     "data": {
      "text/html": [
       "<div>\n",
       "<style scoped>\n",
       "    .dataframe tbody tr th:only-of-type {\n",
       "        vertical-align: middle;\n",
       "    }\n",
       "\n",
       "    .dataframe tbody tr th {\n",
       "        vertical-align: top;\n",
       "    }\n",
       "\n",
       "    .dataframe thead th {\n",
       "        text-align: right;\n",
       "    }\n",
       "</style>\n",
       "<table border=\"1\" class=\"dataframe\">\n",
       "  <thead>\n",
       "    <tr style=\"text-align: right;\">\n",
       "      <th></th>\n",
       "      <th>FL_DATE</th>\n",
       "      <th>OP_CARRIER</th>\n",
       "      <th>OP_CARRIER_FL_NUM</th>\n",
       "      <th>ORIGIN</th>\n",
       "      <th>DEST</th>\n",
       "      <th>CRS_DEP_TIME</th>\n",
       "      <th>DEP_TIME</th>\n",
       "      <th>DEP_DELAY</th>\n",
       "      <th>TAXI_OUT</th>\n",
       "      <th>WHEELS_OFF</th>\n",
       "      <th>...</th>\n",
       "      <th>CRS_ELAPSED_TIME</th>\n",
       "      <th>ACTUAL_ELAPSED_TIME</th>\n",
       "      <th>AIR_TIME</th>\n",
       "      <th>DISTANCE</th>\n",
       "      <th>CARRIER_DELAY</th>\n",
       "      <th>WEATHER_DELAY</th>\n",
       "      <th>NAS_DELAY</th>\n",
       "      <th>SECURITY_DELAY</th>\n",
       "      <th>LATE_AIRCRAFT_DELAY</th>\n",
       "      <th>Unnamed: 27</th>\n",
       "    </tr>\n",
       "  </thead>\n",
       "  <tbody>\n",
       "    <tr>\n",
       "      <th>0</th>\n",
       "      <td>2009-01-01</td>\n",
       "      <td>XE</td>\n",
       "      <td>1204</td>\n",
       "      <td>DCA</td>\n",
       "      <td>EWR</td>\n",
       "      <td>1100</td>\n",
       "      <td>1058.0</td>\n",
       "      <td>-2.0</td>\n",
       "      <td>18.0</td>\n",
       "      <td>1116.0</td>\n",
       "      <td>...</td>\n",
       "      <td>62.0</td>\n",
       "      <td>68.0</td>\n",
       "      <td>42.0</td>\n",
       "      <td>199.0</td>\n",
       "      <td>NaN</td>\n",
       "      <td>NaN</td>\n",
       "      <td>NaN</td>\n",
       "      <td>NaN</td>\n",
       "      <td>NaN</td>\n",
       "      <td>NaN</td>\n",
       "    </tr>\n",
       "    <tr>\n",
       "      <th>1</th>\n",
       "      <td>2009-01-01</td>\n",
       "      <td>XE</td>\n",
       "      <td>1206</td>\n",
       "      <td>EWR</td>\n",
       "      <td>IAD</td>\n",
       "      <td>1510</td>\n",
       "      <td>1509.0</td>\n",
       "      <td>-1.0</td>\n",
       "      <td>28.0</td>\n",
       "      <td>1537.0</td>\n",
       "      <td>...</td>\n",
       "      <td>82.0</td>\n",
       "      <td>75.0</td>\n",
       "      <td>43.0</td>\n",
       "      <td>213.0</td>\n",
       "      <td>NaN</td>\n",
       "      <td>NaN</td>\n",
       "      <td>NaN</td>\n",
       "      <td>NaN</td>\n",
       "      <td>NaN</td>\n",
       "      <td>NaN</td>\n",
       "    </tr>\n",
       "    <tr>\n",
       "      <th>2</th>\n",
       "      <td>2009-01-01</td>\n",
       "      <td>XE</td>\n",
       "      <td>1207</td>\n",
       "      <td>EWR</td>\n",
       "      <td>DCA</td>\n",
       "      <td>1100</td>\n",
       "      <td>1059.0</td>\n",
       "      <td>-1.0</td>\n",
       "      <td>20.0</td>\n",
       "      <td>1119.0</td>\n",
       "      <td>...</td>\n",
       "      <td>70.0</td>\n",
       "      <td>62.0</td>\n",
       "      <td>36.0</td>\n",
       "      <td>199.0</td>\n",
       "      <td>NaN</td>\n",
       "      <td>NaN</td>\n",
       "      <td>NaN</td>\n",
       "      <td>NaN</td>\n",
       "      <td>NaN</td>\n",
       "      <td>NaN</td>\n",
       "    </tr>\n",
       "    <tr>\n",
       "      <th>3</th>\n",
       "      <td>2009-01-01</td>\n",
       "      <td>XE</td>\n",
       "      <td>1208</td>\n",
       "      <td>DCA</td>\n",
       "      <td>EWR</td>\n",
       "      <td>1240</td>\n",
       "      <td>1249.0</td>\n",
       "      <td>9.0</td>\n",
       "      <td>10.0</td>\n",
       "      <td>1259.0</td>\n",
       "      <td>...</td>\n",
       "      <td>77.0</td>\n",
       "      <td>56.0</td>\n",
       "      <td>37.0</td>\n",
       "      <td>199.0</td>\n",
       "      <td>NaN</td>\n",
       "      <td>NaN</td>\n",
       "      <td>NaN</td>\n",
       "      <td>NaN</td>\n",
       "      <td>NaN</td>\n",
       "      <td>NaN</td>\n",
       "    </tr>\n",
       "    <tr>\n",
       "      <th>4</th>\n",
       "      <td>2009-01-01</td>\n",
       "      <td>XE</td>\n",
       "      <td>1209</td>\n",
       "      <td>IAD</td>\n",
       "      <td>EWR</td>\n",
       "      <td>1715</td>\n",
       "      <td>1705.0</td>\n",
       "      <td>-10.0</td>\n",
       "      <td>24.0</td>\n",
       "      <td>1729.0</td>\n",
       "      <td>...</td>\n",
       "      <td>105.0</td>\n",
       "      <td>77.0</td>\n",
       "      <td>40.0</td>\n",
       "      <td>213.0</td>\n",
       "      <td>NaN</td>\n",
       "      <td>NaN</td>\n",
       "      <td>NaN</td>\n",
       "      <td>NaN</td>\n",
       "      <td>NaN</td>\n",
       "      <td>NaN</td>\n",
       "    </tr>\n",
       "  </tbody>\n",
       "</table>\n",
       "<p>5 rows × 28 columns</p>\n",
       "</div>"
      ],
      "text/plain": [
       "      FL_DATE OP_CARRIER  OP_CARRIER_FL_NUM ORIGIN DEST  CRS_DEP_TIME  \\\n",
       "0  2009-01-01         XE               1204    DCA  EWR          1100   \n",
       "1  2009-01-01         XE               1206    EWR  IAD          1510   \n",
       "2  2009-01-01         XE               1207    EWR  DCA          1100   \n",
       "3  2009-01-01         XE               1208    DCA  EWR          1240   \n",
       "4  2009-01-01         XE               1209    IAD  EWR          1715   \n",
       "\n",
       "   DEP_TIME  DEP_DELAY  TAXI_OUT  WHEELS_OFF  ...  CRS_ELAPSED_TIME  \\\n",
       "0    1058.0       -2.0      18.0      1116.0  ...              62.0   \n",
       "1    1509.0       -1.0      28.0      1537.0  ...              82.0   \n",
       "2    1059.0       -1.0      20.0      1119.0  ...              70.0   \n",
       "3    1249.0        9.0      10.0      1259.0  ...              77.0   \n",
       "4    1705.0      -10.0      24.0      1729.0  ...             105.0   \n",
       "\n",
       "   ACTUAL_ELAPSED_TIME  AIR_TIME  DISTANCE  CARRIER_DELAY  WEATHER_DELAY  \\\n",
       "0                 68.0      42.0     199.0            NaN            NaN   \n",
       "1                 75.0      43.0     213.0            NaN            NaN   \n",
       "2                 62.0      36.0     199.0            NaN            NaN   \n",
       "3                 56.0      37.0     199.0            NaN            NaN   \n",
       "4                 77.0      40.0     213.0            NaN            NaN   \n",
       "\n",
       "  NAS_DELAY  SECURITY_DELAY  LATE_AIRCRAFT_DELAY  Unnamed: 27  \n",
       "0       NaN             NaN                  NaN          NaN  \n",
       "1       NaN             NaN                  NaN          NaN  \n",
       "2       NaN             NaN                  NaN          NaN  \n",
       "3       NaN             NaN                  NaN          NaN  \n",
       "4       NaN             NaN                  NaN          NaN  \n",
       "\n",
       "[5 rows x 28 columns]"
      ]
     },
     "execution_count": 25,
     "metadata": {},
     "output_type": "execute_result"
    }
   ],
   "source": [
    "# Display a sample of the data.\n",
    "\n",
    "y2009.head()"
   ]
  },
  {
   "cell_type": "markdown",
   "metadata": {},
   "source": [
    "Display the number of rows and columns from the second dataset (`feat_info`):"
   ]
  },
  {
   "cell_type": "code",
   "execution_count": 26,
   "metadata": {},
   "outputs": [
    {
     "data": {
      "text/html": [
       "<div>\n",
       "<style scoped>\n",
       "    .dataframe tbody tr th:only-of-type {\n",
       "        vertical-align: middle;\n",
       "    }\n",
       "\n",
       "    .dataframe tbody tr th {\n",
       "        vertical-align: top;\n",
       "    }\n",
       "\n",
       "    .dataframe thead th {\n",
       "        text-align: right;\n",
       "    }\n",
       "</style>\n",
       "<table border=\"1\" class=\"dataframe\">\n",
       "  <thead>\n",
       "    <tr style=\"text-align: right;\">\n",
       "      <th></th>\n",
       "      <th>FL_DATE</th>\n",
       "      <th>OP_CARRIER</th>\n",
       "      <th>OP_CARRIER_FL_NUM</th>\n",
       "      <th>ORIGIN</th>\n",
       "      <th>DEST</th>\n",
       "      <th>CRS_DEP_TIME</th>\n",
       "      <th>DEP_TIME</th>\n",
       "      <th>DEP_DELAY</th>\n",
       "      <th>TAXI_OUT</th>\n",
       "      <th>WHEELS_OFF</th>\n",
       "      <th>...</th>\n",
       "      <th>CRS_ELAPSED_TIME</th>\n",
       "      <th>ACTUAL_ELAPSED_TIME</th>\n",
       "      <th>AIR_TIME</th>\n",
       "      <th>DISTANCE</th>\n",
       "      <th>CARRIER_DELAY</th>\n",
       "      <th>WEATHER_DELAY</th>\n",
       "      <th>NAS_DELAY</th>\n",
       "      <th>SECURITY_DELAY</th>\n",
       "      <th>LATE_AIRCRAFT_DELAY</th>\n",
       "      <th>Unnamed: 27</th>\n",
       "    </tr>\n",
       "  </thead>\n",
       "  <tbody>\n",
       "    <tr>\n",
       "      <th>0</th>\n",
       "      <td>2010-01-01</td>\n",
       "      <td>MQ</td>\n",
       "      <td>4438</td>\n",
       "      <td>LGA</td>\n",
       "      <td>RDU</td>\n",
       "      <td>1940</td>\n",
       "      <td>2101.0</td>\n",
       "      <td>81.0</td>\n",
       "      <td>14.0</td>\n",
       "      <td>2115.0</td>\n",
       "      <td>...</td>\n",
       "      <td>110.0</td>\n",
       "      <td>106.0</td>\n",
       "      <td>70.0</td>\n",
       "      <td>431.0</td>\n",
       "      <td>0.0</td>\n",
       "      <td>0.0</td>\n",
       "      <td>0.0</td>\n",
       "      <td>0.0</td>\n",
       "      <td>77.0</td>\n",
       "      <td>NaN</td>\n",
       "    </tr>\n",
       "    <tr>\n",
       "      <th>1</th>\n",
       "      <td>2010-01-01</td>\n",
       "      <td>MQ</td>\n",
       "      <td>4440</td>\n",
       "      <td>DCA</td>\n",
       "      <td>JFK</td>\n",
       "      <td>950</td>\n",
       "      <td>949.0</td>\n",
       "      <td>-1.0</td>\n",
       "      <td>13.0</td>\n",
       "      <td>1002.0</td>\n",
       "      <td>...</td>\n",
       "      <td>70.0</td>\n",
       "      <td>60.0</td>\n",
       "      <td>38.0</td>\n",
       "      <td>213.0</td>\n",
       "      <td>NaN</td>\n",
       "      <td>NaN</td>\n",
       "      <td>NaN</td>\n",
       "      <td>NaN</td>\n",
       "      <td>NaN</td>\n",
       "      <td>NaN</td>\n",
       "    </tr>\n",
       "    <tr>\n",
       "      <th>2</th>\n",
       "      <td>2010-01-01</td>\n",
       "      <td>MQ</td>\n",
       "      <td>4443</td>\n",
       "      <td>LGA</td>\n",
       "      <td>RDU</td>\n",
       "      <td>900</td>\n",
       "      <td>937.0</td>\n",
       "      <td>37.0</td>\n",
       "      <td>11.0</td>\n",
       "      <td>948.0</td>\n",
       "      <td>...</td>\n",
       "      <td>120.0</td>\n",
       "      <td>91.0</td>\n",
       "      <td>77.0</td>\n",
       "      <td>431.0</td>\n",
       "      <td>NaN</td>\n",
       "      <td>NaN</td>\n",
       "      <td>NaN</td>\n",
       "      <td>NaN</td>\n",
       "      <td>NaN</td>\n",
       "      <td>NaN</td>\n",
       "    </tr>\n",
       "    <tr>\n",
       "      <th>3</th>\n",
       "      <td>2010-01-01</td>\n",
       "      <td>MQ</td>\n",
       "      <td>4445</td>\n",
       "      <td>RDU</td>\n",
       "      <td>LGA</td>\n",
       "      <td>1940</td>\n",
       "      <td>1935.0</td>\n",
       "      <td>-5.0</td>\n",
       "      <td>12.0</td>\n",
       "      <td>1947.0</td>\n",
       "      <td>...</td>\n",
       "      <td>100.0</td>\n",
       "      <td>80.0</td>\n",
       "      <td>64.0</td>\n",
       "      <td>431.0</td>\n",
       "      <td>NaN</td>\n",
       "      <td>NaN</td>\n",
       "      <td>NaN</td>\n",
       "      <td>NaN</td>\n",
       "      <td>NaN</td>\n",
       "      <td>NaN</td>\n",
       "    </tr>\n",
       "    <tr>\n",
       "      <th>4</th>\n",
       "      <td>2010-01-01</td>\n",
       "      <td>MQ</td>\n",
       "      <td>4447</td>\n",
       "      <td>JFK</td>\n",
       "      <td>DCA</td>\n",
       "      <td>2035</td>\n",
       "      <td>2236.0</td>\n",
       "      <td>121.0</td>\n",
       "      <td>18.0</td>\n",
       "      <td>2254.0</td>\n",
       "      <td>...</td>\n",
       "      <td>85.0</td>\n",
       "      <td>66.0</td>\n",
       "      <td>47.0</td>\n",
       "      <td>213.0</td>\n",
       "      <td>0.0</td>\n",
       "      <td>0.0</td>\n",
       "      <td>0.0</td>\n",
       "      <td>0.0</td>\n",
       "      <td>102.0</td>\n",
       "      <td>NaN</td>\n",
       "    </tr>\n",
       "  </tbody>\n",
       "</table>\n",
       "<p>5 rows × 28 columns</p>\n",
       "</div>"
      ],
      "text/plain": [
       "      FL_DATE OP_CARRIER  OP_CARRIER_FL_NUM ORIGIN DEST  CRS_DEP_TIME  \\\n",
       "0  2010-01-01         MQ               4438    LGA  RDU          1940   \n",
       "1  2010-01-01         MQ               4440    DCA  JFK           950   \n",
       "2  2010-01-01         MQ               4443    LGA  RDU           900   \n",
       "3  2010-01-01         MQ               4445    RDU  LGA          1940   \n",
       "4  2010-01-01         MQ               4447    JFK  DCA          2035   \n",
       "\n",
       "   DEP_TIME  DEP_DELAY  TAXI_OUT  WHEELS_OFF  ...  CRS_ELAPSED_TIME  \\\n",
       "0    2101.0       81.0      14.0      2115.0  ...             110.0   \n",
       "1     949.0       -1.0      13.0      1002.0  ...              70.0   \n",
       "2     937.0       37.0      11.0       948.0  ...             120.0   \n",
       "3    1935.0       -5.0      12.0      1947.0  ...             100.0   \n",
       "4    2236.0      121.0      18.0      2254.0  ...              85.0   \n",
       "\n",
       "   ACTUAL_ELAPSED_TIME  AIR_TIME  DISTANCE  CARRIER_DELAY  WEATHER_DELAY  \\\n",
       "0                106.0      70.0     431.0            0.0            0.0   \n",
       "1                 60.0      38.0     213.0            NaN            NaN   \n",
       "2                 91.0      77.0     431.0            NaN            NaN   \n",
       "3                 80.0      64.0     431.0            NaN            NaN   \n",
       "4                 66.0      47.0     213.0            0.0            0.0   \n",
       "\n",
       "  NAS_DELAY  SECURITY_DELAY  LATE_AIRCRAFT_DELAY  Unnamed: 27  \n",
       "0       0.0             0.0                 77.0          NaN  \n",
       "1       NaN             NaN                  NaN          NaN  \n",
       "2       NaN             NaN                  NaN          NaN  \n",
       "3       NaN             NaN                  NaN          NaN  \n",
       "4       0.0             0.0                102.0          NaN  \n",
       "\n",
       "[5 rows x 28 columns]"
      ]
     },
     "execution_count": 26,
     "metadata": {},
     "output_type": "execute_result"
    }
   ],
   "source": [
    "# Display a sample of the data.\n",
    "\n",
    "y2010.head()"
   ]
  },
  {
   "cell_type": "code",
   "execution_count": 27,
   "metadata": {},
   "outputs": [
    {
     "data": {
      "text/html": [
       "<div>\n",
       "<style scoped>\n",
       "    .dataframe tbody tr th:only-of-type {\n",
       "        vertical-align: middle;\n",
       "    }\n",
       "\n",
       "    .dataframe tbody tr th {\n",
       "        vertical-align: top;\n",
       "    }\n",
       "\n",
       "    .dataframe thead th {\n",
       "        text-align: right;\n",
       "    }\n",
       "</style>\n",
       "<table border=\"1\" class=\"dataframe\">\n",
       "  <thead>\n",
       "    <tr style=\"text-align: right;\">\n",
       "      <th></th>\n",
       "      <th>FL_DATE</th>\n",
       "      <th>OP_CARRIER</th>\n",
       "      <th>OP_CARRIER_FL_NUM</th>\n",
       "      <th>ORIGIN</th>\n",
       "      <th>DEST</th>\n",
       "      <th>CRS_DEP_TIME</th>\n",
       "      <th>DEP_TIME</th>\n",
       "      <th>DEP_DELAY</th>\n",
       "      <th>TAXI_OUT</th>\n",
       "      <th>WHEELS_OFF</th>\n",
       "      <th>...</th>\n",
       "      <th>CRS_ELAPSED_TIME</th>\n",
       "      <th>ACTUAL_ELAPSED_TIME</th>\n",
       "      <th>AIR_TIME</th>\n",
       "      <th>DISTANCE</th>\n",
       "      <th>CARRIER_DELAY</th>\n",
       "      <th>WEATHER_DELAY</th>\n",
       "      <th>NAS_DELAY</th>\n",
       "      <th>SECURITY_DELAY</th>\n",
       "      <th>LATE_AIRCRAFT_DELAY</th>\n",
       "      <th>Unnamed: 27</th>\n",
       "    </tr>\n",
       "  </thead>\n",
       "  <tbody>\n",
       "    <tr>\n",
       "      <th>0</th>\n",
       "      <td>2011-01-01</td>\n",
       "      <td>MQ</td>\n",
       "      <td>4529</td>\n",
       "      <td>BOS</td>\n",
       "      <td>JFK</td>\n",
       "      <td>1830</td>\n",
       "      <td>1823.0</td>\n",
       "      <td>-7.0</td>\n",
       "      <td>68.0</td>\n",
       "      <td>1931.0</td>\n",
       "      <td>...</td>\n",
       "      <td>90.0</td>\n",
       "      <td>146.0</td>\n",
       "      <td>48.0</td>\n",
       "      <td>187.0</td>\n",
       "      <td>0.0</td>\n",
       "      <td>0.0</td>\n",
       "      <td>49.0</td>\n",
       "      <td>0.0</td>\n",
       "      <td>0.0</td>\n",
       "      <td>NaN</td>\n",
       "    </tr>\n",
       "    <tr>\n",
       "      <th>1</th>\n",
       "      <td>2011-01-01</td>\n",
       "      <td>MQ</td>\n",
       "      <td>4532</td>\n",
       "      <td>BNA</td>\n",
       "      <td>DCA</td>\n",
       "      <td>1100</td>\n",
       "      <td>1052.0</td>\n",
       "      <td>-8.0</td>\n",
       "      <td>11.0</td>\n",
       "      <td>1103.0</td>\n",
       "      <td>...</td>\n",
       "      <td>95.0</td>\n",
       "      <td>88.0</td>\n",
       "      <td>74.0</td>\n",
       "      <td>562.0</td>\n",
       "      <td>NaN</td>\n",
       "      <td>NaN</td>\n",
       "      <td>NaN</td>\n",
       "      <td>NaN</td>\n",
       "      <td>NaN</td>\n",
       "      <td>NaN</td>\n",
       "    </tr>\n",
       "    <tr>\n",
       "      <th>2</th>\n",
       "      <td>2011-01-01</td>\n",
       "      <td>MQ</td>\n",
       "      <td>4532</td>\n",
       "      <td>DCA</td>\n",
       "      <td>JFK</td>\n",
       "      <td>1400</td>\n",
       "      <td>1358.0</td>\n",
       "      <td>-2.0</td>\n",
       "      <td>9.0</td>\n",
       "      <td>1407.0</td>\n",
       "      <td>...</td>\n",
       "      <td>79.0</td>\n",
       "      <td>73.0</td>\n",
       "      <td>60.0</td>\n",
       "      <td>213.0</td>\n",
       "      <td>NaN</td>\n",
       "      <td>NaN</td>\n",
       "      <td>NaN</td>\n",
       "      <td>NaN</td>\n",
       "      <td>NaN</td>\n",
       "      <td>NaN</td>\n",
       "    </tr>\n",
       "    <tr>\n",
       "      <th>3</th>\n",
       "      <td>2011-01-01</td>\n",
       "      <td>MQ</td>\n",
       "      <td>4537</td>\n",
       "      <td>RDU</td>\n",
       "      <td>JFK</td>\n",
       "      <td>1710</td>\n",
       "      <td>1706.0</td>\n",
       "      <td>-4.0</td>\n",
       "      <td>59.0</td>\n",
       "      <td>1805.0</td>\n",
       "      <td>...</td>\n",
       "      <td>105.0</td>\n",
       "      <td>159.0</td>\n",
       "      <td>85.0</td>\n",
       "      <td>426.0</td>\n",
       "      <td>0.0</td>\n",
       "      <td>0.0</td>\n",
       "      <td>50.0</td>\n",
       "      <td>0.0</td>\n",
       "      <td>0.0</td>\n",
       "      <td>NaN</td>\n",
       "    </tr>\n",
       "    <tr>\n",
       "      <th>4</th>\n",
       "      <td>2011-01-01</td>\n",
       "      <td>MQ</td>\n",
       "      <td>4540</td>\n",
       "      <td>CMH</td>\n",
       "      <td>LGA</td>\n",
       "      <td>1340</td>\n",
       "      <td>1340.0</td>\n",
       "      <td>0.0</td>\n",
       "      <td>14.0</td>\n",
       "      <td>1354.0</td>\n",
       "      <td>...</td>\n",
       "      <td>105.0</td>\n",
       "      <td>95.0</td>\n",
       "      <td>77.0</td>\n",
       "      <td>478.0</td>\n",
       "      <td>NaN</td>\n",
       "      <td>NaN</td>\n",
       "      <td>NaN</td>\n",
       "      <td>NaN</td>\n",
       "      <td>NaN</td>\n",
       "      <td>NaN</td>\n",
       "    </tr>\n",
       "  </tbody>\n",
       "</table>\n",
       "<p>5 rows × 28 columns</p>\n",
       "</div>"
      ],
      "text/plain": [
       "      FL_DATE OP_CARRIER  OP_CARRIER_FL_NUM ORIGIN DEST  CRS_DEP_TIME  \\\n",
       "0  2011-01-01         MQ               4529    BOS  JFK          1830   \n",
       "1  2011-01-01         MQ               4532    BNA  DCA          1100   \n",
       "2  2011-01-01         MQ               4532    DCA  JFK          1400   \n",
       "3  2011-01-01         MQ               4537    RDU  JFK          1710   \n",
       "4  2011-01-01         MQ               4540    CMH  LGA          1340   \n",
       "\n",
       "   DEP_TIME  DEP_DELAY  TAXI_OUT  WHEELS_OFF  ...  CRS_ELAPSED_TIME  \\\n",
       "0    1823.0       -7.0      68.0      1931.0  ...              90.0   \n",
       "1    1052.0       -8.0      11.0      1103.0  ...              95.0   \n",
       "2    1358.0       -2.0       9.0      1407.0  ...              79.0   \n",
       "3    1706.0       -4.0      59.0      1805.0  ...             105.0   \n",
       "4    1340.0        0.0      14.0      1354.0  ...             105.0   \n",
       "\n",
       "   ACTUAL_ELAPSED_TIME  AIR_TIME  DISTANCE  CARRIER_DELAY  WEATHER_DELAY  \\\n",
       "0                146.0      48.0     187.0            0.0            0.0   \n",
       "1                 88.0      74.0     562.0            NaN            NaN   \n",
       "2                 73.0      60.0     213.0            NaN            NaN   \n",
       "3                159.0      85.0     426.0            0.0            0.0   \n",
       "4                 95.0      77.0     478.0            NaN            NaN   \n",
       "\n",
       "  NAS_DELAY  SECURITY_DELAY  LATE_AIRCRAFT_DELAY  Unnamed: 27  \n",
       "0      49.0             0.0                  0.0          NaN  \n",
       "1       NaN             NaN                  NaN          NaN  \n",
       "2       NaN             NaN                  NaN          NaN  \n",
       "3      50.0             0.0                  0.0          NaN  \n",
       "4       NaN             NaN                  NaN          NaN  \n",
       "\n",
       "[5 rows x 28 columns]"
      ]
     },
     "execution_count": 27,
     "metadata": {},
     "output_type": "execute_result"
    }
   ],
   "source": [
    "# Display a sample of the data.\n",
    "\n",
    "y2011.head()"
   ]
  },
  {
   "cell_type": "code",
   "execution_count": 28,
   "metadata": {},
   "outputs": [
    {
     "data": {
      "text/html": [
       "<div>\n",
       "<style scoped>\n",
       "    .dataframe tbody tr th:only-of-type {\n",
       "        vertical-align: middle;\n",
       "    }\n",
       "\n",
       "    .dataframe tbody tr th {\n",
       "        vertical-align: top;\n",
       "    }\n",
       "\n",
       "    .dataframe thead th {\n",
       "        text-align: right;\n",
       "    }\n",
       "</style>\n",
       "<table border=\"1\" class=\"dataframe\">\n",
       "  <thead>\n",
       "    <tr style=\"text-align: right;\">\n",
       "      <th></th>\n",
       "      <th>FL_DATE</th>\n",
       "      <th>OP_CARRIER</th>\n",
       "      <th>OP_CARRIER_FL_NUM</th>\n",
       "      <th>ORIGIN</th>\n",
       "      <th>DEST</th>\n",
       "      <th>CRS_DEP_TIME</th>\n",
       "      <th>DEP_TIME</th>\n",
       "      <th>DEP_DELAY</th>\n",
       "      <th>TAXI_OUT</th>\n",
       "      <th>WHEELS_OFF</th>\n",
       "      <th>...</th>\n",
       "      <th>CRS_ELAPSED_TIME</th>\n",
       "      <th>ACTUAL_ELAPSED_TIME</th>\n",
       "      <th>AIR_TIME</th>\n",
       "      <th>DISTANCE</th>\n",
       "      <th>CARRIER_DELAY</th>\n",
       "      <th>WEATHER_DELAY</th>\n",
       "      <th>NAS_DELAY</th>\n",
       "      <th>SECURITY_DELAY</th>\n",
       "      <th>LATE_AIRCRAFT_DELAY</th>\n",
       "      <th>Unnamed: 27</th>\n",
       "    </tr>\n",
       "  </thead>\n",
       "  <tbody>\n",
       "    <tr>\n",
       "      <th>0</th>\n",
       "      <td>2012-01-01</td>\n",
       "      <td>MQ</td>\n",
       "      <td>4041</td>\n",
       "      <td>BMI</td>\n",
       "      <td>ORD</td>\n",
       "      <td>1715.0</td>\n",
       "      <td>1702.0</td>\n",
       "      <td>-13.0</td>\n",
       "      <td>9.0</td>\n",
       "      <td>1711.0</td>\n",
       "      <td>...</td>\n",
       "      <td>55.0</td>\n",
       "      <td>55.0</td>\n",
       "      <td>37.0</td>\n",
       "      <td>116.0</td>\n",
       "      <td>NaN</td>\n",
       "      <td>NaN</td>\n",
       "      <td>NaN</td>\n",
       "      <td>NaN</td>\n",
       "      <td>NaN</td>\n",
       "      <td>NaN</td>\n",
       "    </tr>\n",
       "    <tr>\n",
       "      <th>1</th>\n",
       "      <td>2012-01-01</td>\n",
       "      <td>MQ</td>\n",
       "      <td>4041</td>\n",
       "      <td>ORD</td>\n",
       "      <td>BMI</td>\n",
       "      <td>1545.0</td>\n",
       "      <td>1540.0</td>\n",
       "      <td>-5.0</td>\n",
       "      <td>11.0</td>\n",
       "      <td>1551.0</td>\n",
       "      <td>...</td>\n",
       "      <td>50.0</td>\n",
       "      <td>39.0</td>\n",
       "      <td>23.0</td>\n",
       "      <td>116.0</td>\n",
       "      <td>NaN</td>\n",
       "      <td>NaN</td>\n",
       "      <td>NaN</td>\n",
       "      <td>NaN</td>\n",
       "      <td>NaN</td>\n",
       "      <td>NaN</td>\n",
       "    </tr>\n",
       "    <tr>\n",
       "      <th>2</th>\n",
       "      <td>2012-01-01</td>\n",
       "      <td>MQ</td>\n",
       "      <td>4042</td>\n",
       "      <td>SGF</td>\n",
       "      <td>ORD</td>\n",
       "      <td>715.0</td>\n",
       "      <td>705.0</td>\n",
       "      <td>-10.0</td>\n",
       "      <td>12.0</td>\n",
       "      <td>717.0</td>\n",
       "      <td>...</td>\n",
       "      <td>115.0</td>\n",
       "      <td>105.0</td>\n",
       "      <td>75.0</td>\n",
       "      <td>438.0</td>\n",
       "      <td>NaN</td>\n",
       "      <td>NaN</td>\n",
       "      <td>NaN</td>\n",
       "      <td>NaN</td>\n",
       "      <td>NaN</td>\n",
       "      <td>NaN</td>\n",
       "    </tr>\n",
       "    <tr>\n",
       "      <th>3</th>\n",
       "      <td>2012-01-01</td>\n",
       "      <td>MQ</td>\n",
       "      <td>4045</td>\n",
       "      <td>ORD</td>\n",
       "      <td>DBQ</td>\n",
       "      <td>1535.0</td>\n",
       "      <td>1529.0</td>\n",
       "      <td>-6.0</td>\n",
       "      <td>13.0</td>\n",
       "      <td>1542.0</td>\n",
       "      <td>...</td>\n",
       "      <td>55.0</td>\n",
       "      <td>46.0</td>\n",
       "      <td>31.0</td>\n",
       "      <td>147.0</td>\n",
       "      <td>NaN</td>\n",
       "      <td>NaN</td>\n",
       "      <td>NaN</td>\n",
       "      <td>NaN</td>\n",
       "      <td>NaN</td>\n",
       "      <td>NaN</td>\n",
       "    </tr>\n",
       "    <tr>\n",
       "      <th>4</th>\n",
       "      <td>2012-01-01</td>\n",
       "      <td>MQ</td>\n",
       "      <td>4047</td>\n",
       "      <td>ORD</td>\n",
       "      <td>RIC</td>\n",
       "      <td>1600.0</td>\n",
       "      <td>1615.0</td>\n",
       "      <td>15.0</td>\n",
       "      <td>12.0</td>\n",
       "      <td>1627.0</td>\n",
       "      <td>...</td>\n",
       "      <td>115.0</td>\n",
       "      <td>109.0</td>\n",
       "      <td>86.0</td>\n",
       "      <td>642.0</td>\n",
       "      <td>NaN</td>\n",
       "      <td>NaN</td>\n",
       "      <td>NaN</td>\n",
       "      <td>NaN</td>\n",
       "      <td>NaN</td>\n",
       "      <td>NaN</td>\n",
       "    </tr>\n",
       "  </tbody>\n",
       "</table>\n",
       "<p>5 rows × 28 columns</p>\n",
       "</div>"
      ],
      "text/plain": [
       "      FL_DATE OP_CARRIER  OP_CARRIER_FL_NUM ORIGIN DEST  CRS_DEP_TIME  \\\n",
       "0  2012-01-01         MQ               4041    BMI  ORD        1715.0   \n",
       "1  2012-01-01         MQ               4041    ORD  BMI        1545.0   \n",
       "2  2012-01-01         MQ               4042    SGF  ORD         715.0   \n",
       "3  2012-01-01         MQ               4045    ORD  DBQ        1535.0   \n",
       "4  2012-01-01         MQ               4047    ORD  RIC        1600.0   \n",
       "\n",
       "   DEP_TIME  DEP_DELAY  TAXI_OUT  WHEELS_OFF  ...  CRS_ELAPSED_TIME  \\\n",
       "0    1702.0      -13.0       9.0      1711.0  ...              55.0   \n",
       "1    1540.0       -5.0      11.0      1551.0  ...              50.0   \n",
       "2     705.0      -10.0      12.0       717.0  ...             115.0   \n",
       "3    1529.0       -6.0      13.0      1542.0  ...              55.0   \n",
       "4    1615.0       15.0      12.0      1627.0  ...             115.0   \n",
       "\n",
       "   ACTUAL_ELAPSED_TIME  AIR_TIME  DISTANCE  CARRIER_DELAY  WEATHER_DELAY  \\\n",
       "0                 55.0      37.0     116.0            NaN            NaN   \n",
       "1                 39.0      23.0     116.0            NaN            NaN   \n",
       "2                105.0      75.0     438.0            NaN            NaN   \n",
       "3                 46.0      31.0     147.0            NaN            NaN   \n",
       "4                109.0      86.0     642.0            NaN            NaN   \n",
       "\n",
       "  NAS_DELAY  SECURITY_DELAY  LATE_AIRCRAFT_DELAY  Unnamed: 27  \n",
       "0       NaN             NaN                  NaN          NaN  \n",
       "1       NaN             NaN                  NaN          NaN  \n",
       "2       NaN             NaN                  NaN          NaN  \n",
       "3       NaN             NaN                  NaN          NaN  \n",
       "4       NaN             NaN                  NaN          NaN  \n",
       "\n",
       "[5 rows x 28 columns]"
      ]
     },
     "execution_count": 28,
     "metadata": {},
     "output_type": "execute_result"
    }
   ],
   "source": [
    "# Display a sample of the data.\n",
    "\n",
    "y2012.head()"
   ]
  },
  {
   "cell_type": "code",
   "execution_count": 29,
   "metadata": {},
   "outputs": [
    {
     "data": {
      "text/html": [
       "<div>\n",
       "<style scoped>\n",
       "    .dataframe tbody tr th:only-of-type {\n",
       "        vertical-align: middle;\n",
       "    }\n",
       "\n",
       "    .dataframe tbody tr th {\n",
       "        vertical-align: top;\n",
       "    }\n",
       "\n",
       "    .dataframe thead th {\n",
       "        text-align: right;\n",
       "    }\n",
       "</style>\n",
       "<table border=\"1\" class=\"dataframe\">\n",
       "  <thead>\n",
       "    <tr style=\"text-align: right;\">\n",
       "      <th></th>\n",
       "      <th>FL_DATE</th>\n",
       "      <th>OP_CARRIER</th>\n",
       "      <th>OP_CARRIER_FL_NUM</th>\n",
       "      <th>ORIGIN</th>\n",
       "      <th>DEST</th>\n",
       "      <th>CRS_DEP_TIME</th>\n",
       "      <th>DEP_TIME</th>\n",
       "      <th>DEP_DELAY</th>\n",
       "      <th>TAXI_OUT</th>\n",
       "      <th>WHEELS_OFF</th>\n",
       "      <th>...</th>\n",
       "      <th>CRS_ELAPSED_TIME</th>\n",
       "      <th>ACTUAL_ELAPSED_TIME</th>\n",
       "      <th>AIR_TIME</th>\n",
       "      <th>DISTANCE</th>\n",
       "      <th>CARRIER_DELAY</th>\n",
       "      <th>WEATHER_DELAY</th>\n",
       "      <th>NAS_DELAY</th>\n",
       "      <th>SECURITY_DELAY</th>\n",
       "      <th>LATE_AIRCRAFT_DELAY</th>\n",
       "      <th>Unnamed: 27</th>\n",
       "    </tr>\n",
       "  </thead>\n",
       "  <tbody>\n",
       "    <tr>\n",
       "      <th>0</th>\n",
       "      <td>2013-01-01</td>\n",
       "      <td>VX</td>\n",
       "      <td>108</td>\n",
       "      <td>LAX</td>\n",
       "      <td>IAD</td>\n",
       "      <td>700</td>\n",
       "      <td>700.0</td>\n",
       "      <td>0.0</td>\n",
       "      <td>8.0</td>\n",
       "      <td>708.0</td>\n",
       "      <td>...</td>\n",
       "      <td>285.0</td>\n",
       "      <td>258.0</td>\n",
       "      <td>243.0</td>\n",
       "      <td>2288.0</td>\n",
       "      <td>NaN</td>\n",
       "      <td>NaN</td>\n",
       "      <td>NaN</td>\n",
       "      <td>NaN</td>\n",
       "      <td>NaN</td>\n",
       "      <td>NaN</td>\n",
       "    </tr>\n",
       "    <tr>\n",
       "      <th>1</th>\n",
       "      <td>2013-01-01</td>\n",
       "      <td>VX</td>\n",
       "      <td>114</td>\n",
       "      <td>LAX</td>\n",
       "      <td>IAD</td>\n",
       "      <td>2205</td>\n",
       "      <td>2204.0</td>\n",
       "      <td>-1.0</td>\n",
       "      <td>12.0</td>\n",
       "      <td>2216.0</td>\n",
       "      <td>...</td>\n",
       "      <td>280.0</td>\n",
       "      <td>272.0</td>\n",
       "      <td>247.0</td>\n",
       "      <td>2288.0</td>\n",
       "      <td>NaN</td>\n",
       "      <td>NaN</td>\n",
       "      <td>NaN</td>\n",
       "      <td>NaN</td>\n",
       "      <td>NaN</td>\n",
       "      <td>NaN</td>\n",
       "    </tr>\n",
       "    <tr>\n",
       "      <th>2</th>\n",
       "      <td>2013-01-01</td>\n",
       "      <td>VX</td>\n",
       "      <td>11</td>\n",
       "      <td>JFK</td>\n",
       "      <td>SFO</td>\n",
       "      <td>730</td>\n",
       "      <td>729.0</td>\n",
       "      <td>-1.0</td>\n",
       "      <td>18.0</td>\n",
       "      <td>747.0</td>\n",
       "      <td>...</td>\n",
       "      <td>405.0</td>\n",
       "      <td>380.0</td>\n",
       "      <td>356.0</td>\n",
       "      <td>2586.0</td>\n",
       "      <td>NaN</td>\n",
       "      <td>NaN</td>\n",
       "      <td>NaN</td>\n",
       "      <td>NaN</td>\n",
       "      <td>NaN</td>\n",
       "      <td>NaN</td>\n",
       "    </tr>\n",
       "    <tr>\n",
       "      <th>3</th>\n",
       "      <td>2013-01-01</td>\n",
       "      <td>VX</td>\n",
       "      <td>121</td>\n",
       "      <td>PHL</td>\n",
       "      <td>LAX</td>\n",
       "      <td>700</td>\n",
       "      <td>700.0</td>\n",
       "      <td>0.0</td>\n",
       "      <td>14.0</td>\n",
       "      <td>714.0</td>\n",
       "      <td>...</td>\n",
       "      <td>360.0</td>\n",
       "      <td>374.0</td>\n",
       "      <td>352.0</td>\n",
       "      <td>2402.0</td>\n",
       "      <td>NaN</td>\n",
       "      <td>NaN</td>\n",
       "      <td>NaN</td>\n",
       "      <td>NaN</td>\n",
       "      <td>NaN</td>\n",
       "      <td>NaN</td>\n",
       "    </tr>\n",
       "    <tr>\n",
       "      <th>4</th>\n",
       "      <td>2013-01-01</td>\n",
       "      <td>VX</td>\n",
       "      <td>124</td>\n",
       "      <td>LAX</td>\n",
       "      <td>PHL</td>\n",
       "      <td>1100</td>\n",
       "      <td>1104.0</td>\n",
       "      <td>4.0</td>\n",
       "      <td>12.0</td>\n",
       "      <td>1116.0</td>\n",
       "      <td>...</td>\n",
       "      <td>315.0</td>\n",
       "      <td>273.0</td>\n",
       "      <td>252.0</td>\n",
       "      <td>2402.0</td>\n",
       "      <td>NaN</td>\n",
       "      <td>NaN</td>\n",
       "      <td>NaN</td>\n",
       "      <td>NaN</td>\n",
       "      <td>NaN</td>\n",
       "      <td>NaN</td>\n",
       "    </tr>\n",
       "  </tbody>\n",
       "</table>\n",
       "<p>5 rows × 28 columns</p>\n",
       "</div>"
      ],
      "text/plain": [
       "      FL_DATE OP_CARRIER  OP_CARRIER_FL_NUM ORIGIN DEST  CRS_DEP_TIME  \\\n",
       "0  2013-01-01         VX                108    LAX  IAD           700   \n",
       "1  2013-01-01         VX                114    LAX  IAD          2205   \n",
       "2  2013-01-01         VX                 11    JFK  SFO           730   \n",
       "3  2013-01-01         VX                121    PHL  LAX           700   \n",
       "4  2013-01-01         VX                124    LAX  PHL          1100   \n",
       "\n",
       "   DEP_TIME  DEP_DELAY  TAXI_OUT  WHEELS_OFF  ...  CRS_ELAPSED_TIME  \\\n",
       "0     700.0        0.0       8.0       708.0  ...             285.0   \n",
       "1    2204.0       -1.0      12.0      2216.0  ...             280.0   \n",
       "2     729.0       -1.0      18.0       747.0  ...             405.0   \n",
       "3     700.0        0.0      14.0       714.0  ...             360.0   \n",
       "4    1104.0        4.0      12.0      1116.0  ...             315.0   \n",
       "\n",
       "   ACTUAL_ELAPSED_TIME  AIR_TIME  DISTANCE  CARRIER_DELAY  WEATHER_DELAY  \\\n",
       "0                258.0     243.0    2288.0            NaN            NaN   \n",
       "1                272.0     247.0    2288.0            NaN            NaN   \n",
       "2                380.0     356.0    2586.0            NaN            NaN   \n",
       "3                374.0     352.0    2402.0            NaN            NaN   \n",
       "4                273.0     252.0    2402.0            NaN            NaN   \n",
       "\n",
       "  NAS_DELAY  SECURITY_DELAY  LATE_AIRCRAFT_DELAY  Unnamed: 27  \n",
       "0       NaN             NaN                  NaN          NaN  \n",
       "1       NaN             NaN                  NaN          NaN  \n",
       "2       NaN             NaN                  NaN          NaN  \n",
       "3       NaN             NaN                  NaN          NaN  \n",
       "4       NaN             NaN                  NaN          NaN  \n",
       "\n",
       "[5 rows x 28 columns]"
      ]
     },
     "execution_count": 29,
     "metadata": {},
     "output_type": "execute_result"
    }
   ],
   "source": [
    "# Display a sample of the data.\n",
    "\n",
    "y2013.head()"
   ]
  },
  {
   "cell_type": "code",
   "execution_count": 30,
   "metadata": {},
   "outputs": [
    {
     "data": {
      "text/html": [
       "<div>\n",
       "<style scoped>\n",
       "    .dataframe tbody tr th:only-of-type {\n",
       "        vertical-align: middle;\n",
       "    }\n",
       "\n",
       "    .dataframe tbody tr th {\n",
       "        vertical-align: top;\n",
       "    }\n",
       "\n",
       "    .dataframe thead th {\n",
       "        text-align: right;\n",
       "    }\n",
       "</style>\n",
       "<table border=\"1\" class=\"dataframe\">\n",
       "  <thead>\n",
       "    <tr style=\"text-align: right;\">\n",
       "      <th></th>\n",
       "      <th>FL_DATE</th>\n",
       "      <th>OP_CARRIER</th>\n",
       "      <th>OP_CARRIER_FL_NUM</th>\n",
       "      <th>ORIGIN</th>\n",
       "      <th>DEST</th>\n",
       "      <th>CRS_DEP_TIME</th>\n",
       "      <th>DEP_TIME</th>\n",
       "      <th>DEP_DELAY</th>\n",
       "      <th>TAXI_OUT</th>\n",
       "      <th>WHEELS_OFF</th>\n",
       "      <th>...</th>\n",
       "      <th>CRS_ELAPSED_TIME</th>\n",
       "      <th>ACTUAL_ELAPSED_TIME</th>\n",
       "      <th>AIR_TIME</th>\n",
       "      <th>DISTANCE</th>\n",
       "      <th>CARRIER_DELAY</th>\n",
       "      <th>WEATHER_DELAY</th>\n",
       "      <th>NAS_DELAY</th>\n",
       "      <th>SECURITY_DELAY</th>\n",
       "      <th>LATE_AIRCRAFT_DELAY</th>\n",
       "      <th>Unnamed: 27</th>\n",
       "    </tr>\n",
       "  </thead>\n",
       "  <tbody>\n",
       "    <tr>\n",
       "      <th>0</th>\n",
       "      <td>2014-01-01</td>\n",
       "      <td>AA</td>\n",
       "      <td>2377</td>\n",
       "      <td>ICT</td>\n",
       "      <td>DFW</td>\n",
       "      <td>1135</td>\n",
       "      <td>1144.0</td>\n",
       "      <td>9.0</td>\n",
       "      <td>12.0</td>\n",
       "      <td>1156.0</td>\n",
       "      <td>...</td>\n",
       "      <td>85.0</td>\n",
       "      <td>78.0</td>\n",
       "      <td>57.0</td>\n",
       "      <td>328.0</td>\n",
       "      <td>NaN</td>\n",
       "      <td>NaN</td>\n",
       "      <td>NaN</td>\n",
       "      <td>NaN</td>\n",
       "      <td>NaN</td>\n",
       "      <td>NaN</td>\n",
       "    </tr>\n",
       "    <tr>\n",
       "      <th>1</th>\n",
       "      <td>2014-01-01</td>\n",
       "      <td>AA</td>\n",
       "      <td>2378</td>\n",
       "      <td>MIA</td>\n",
       "      <td>TPA</td>\n",
       "      <td>2225</td>\n",
       "      <td>2220.0</td>\n",
       "      <td>-5.0</td>\n",
       "      <td>14.0</td>\n",
       "      <td>2234.0</td>\n",
       "      <td>...</td>\n",
       "      <td>60.0</td>\n",
       "      <td>55.0</td>\n",
       "      <td>37.0</td>\n",
       "      <td>204.0</td>\n",
       "      <td>NaN</td>\n",
       "      <td>NaN</td>\n",
       "      <td>NaN</td>\n",
       "      <td>NaN</td>\n",
       "      <td>NaN</td>\n",
       "      <td>NaN</td>\n",
       "    </tr>\n",
       "    <tr>\n",
       "      <th>2</th>\n",
       "      <td>2014-01-01</td>\n",
       "      <td>EV</td>\n",
       "      <td>2500</td>\n",
       "      <td>DFW</td>\n",
       "      <td>HOU</td>\n",
       "      <td>2105</td>\n",
       "      <td>NaN</td>\n",
       "      <td>NaN</td>\n",
       "      <td>NaN</td>\n",
       "      <td>NaN</td>\n",
       "      <td>...</td>\n",
       "      <td>60.0</td>\n",
       "      <td>NaN</td>\n",
       "      <td>NaN</td>\n",
       "      <td>247.0</td>\n",
       "      <td>NaN</td>\n",
       "      <td>NaN</td>\n",
       "      <td>NaN</td>\n",
       "      <td>NaN</td>\n",
       "      <td>NaN</td>\n",
       "      <td>NaN</td>\n",
       "    </tr>\n",
       "    <tr>\n",
       "      <th>3</th>\n",
       "      <td>2014-01-01</td>\n",
       "      <td>EV</td>\n",
       "      <td>2502</td>\n",
       "      <td>CRW</td>\n",
       "      <td>DFW</td>\n",
       "      <td>1655</td>\n",
       "      <td>1805.0</td>\n",
       "      <td>70.0</td>\n",
       "      <td>6.0</td>\n",
       "      <td>1811.0</td>\n",
       "      <td>...</td>\n",
       "      <td>185.0</td>\n",
       "      <td>180.0</td>\n",
       "      <td>150.0</td>\n",
       "      <td>946.0</td>\n",
       "      <td>0.0</td>\n",
       "      <td>0.0</td>\n",
       "      <td>0.0</td>\n",
       "      <td>0.0</td>\n",
       "      <td>65.0</td>\n",
       "      <td>NaN</td>\n",
       "    </tr>\n",
       "    <tr>\n",
       "      <th>4</th>\n",
       "      <td>2014-01-01</td>\n",
       "      <td>EV</td>\n",
       "      <td>2502</td>\n",
       "      <td>DFW</td>\n",
       "      <td>CRW</td>\n",
       "      <td>1320</td>\n",
       "      <td>1440.0</td>\n",
       "      <td>80.0</td>\n",
       "      <td>9.0</td>\n",
       "      <td>1449.0</td>\n",
       "      <td>...</td>\n",
       "      <td>125.0</td>\n",
       "      <td>115.0</td>\n",
       "      <td>101.0</td>\n",
       "      <td>946.0</td>\n",
       "      <td>6.0</td>\n",
       "      <td>0.0</td>\n",
       "      <td>0.0</td>\n",
       "      <td>0.0</td>\n",
       "      <td>64.0</td>\n",
       "      <td>NaN</td>\n",
       "    </tr>\n",
       "  </tbody>\n",
       "</table>\n",
       "<p>5 rows × 28 columns</p>\n",
       "</div>"
      ],
      "text/plain": [
       "      FL_DATE OP_CARRIER  OP_CARRIER_FL_NUM ORIGIN DEST  CRS_DEP_TIME  \\\n",
       "0  2014-01-01         AA               2377    ICT  DFW          1135   \n",
       "1  2014-01-01         AA               2378    MIA  TPA          2225   \n",
       "2  2014-01-01         EV               2500    DFW  HOU          2105   \n",
       "3  2014-01-01         EV               2502    CRW  DFW          1655   \n",
       "4  2014-01-01         EV               2502    DFW  CRW          1320   \n",
       "\n",
       "   DEP_TIME  DEP_DELAY  TAXI_OUT  WHEELS_OFF  ...  CRS_ELAPSED_TIME  \\\n",
       "0    1144.0        9.0      12.0      1156.0  ...              85.0   \n",
       "1    2220.0       -5.0      14.0      2234.0  ...              60.0   \n",
       "2       NaN        NaN       NaN         NaN  ...              60.0   \n",
       "3    1805.0       70.0       6.0      1811.0  ...             185.0   \n",
       "4    1440.0       80.0       9.0      1449.0  ...             125.0   \n",
       "\n",
       "   ACTUAL_ELAPSED_TIME  AIR_TIME  DISTANCE  CARRIER_DELAY  WEATHER_DELAY  \\\n",
       "0                 78.0      57.0     328.0            NaN            NaN   \n",
       "1                 55.0      37.0     204.0            NaN            NaN   \n",
       "2                  NaN       NaN     247.0            NaN            NaN   \n",
       "3                180.0     150.0     946.0            0.0            0.0   \n",
       "4                115.0     101.0     946.0            6.0            0.0   \n",
       "\n",
       "  NAS_DELAY  SECURITY_DELAY  LATE_AIRCRAFT_DELAY  Unnamed: 27  \n",
       "0       NaN             NaN                  NaN          NaN  \n",
       "1       NaN             NaN                  NaN          NaN  \n",
       "2       NaN             NaN                  NaN          NaN  \n",
       "3       0.0             0.0                 65.0          NaN  \n",
       "4       0.0             0.0                 64.0          NaN  \n",
       "\n",
       "[5 rows x 28 columns]"
      ]
     },
     "execution_count": 30,
     "metadata": {},
     "output_type": "execute_result"
    }
   ],
   "source": [
    "# Display a sample of the data.\n",
    "\n",
    "y2014.head()"
   ]
  },
  {
   "cell_type": "code",
   "execution_count": 31,
   "metadata": {},
   "outputs": [
    {
     "data": {
      "text/html": [
       "<div>\n",
       "<style scoped>\n",
       "    .dataframe tbody tr th:only-of-type {\n",
       "        vertical-align: middle;\n",
       "    }\n",
       "\n",
       "    .dataframe tbody tr th {\n",
       "        vertical-align: top;\n",
       "    }\n",
       "\n",
       "    .dataframe thead th {\n",
       "        text-align: right;\n",
       "    }\n",
       "</style>\n",
       "<table border=\"1\" class=\"dataframe\">\n",
       "  <thead>\n",
       "    <tr style=\"text-align: right;\">\n",
       "      <th></th>\n",
       "      <th>FL_DATE</th>\n",
       "      <th>OP_CARRIER</th>\n",
       "      <th>OP_CARRIER_FL_NUM</th>\n",
       "      <th>ORIGIN</th>\n",
       "      <th>DEST</th>\n",
       "      <th>CRS_DEP_TIME</th>\n",
       "      <th>DEP_TIME</th>\n",
       "      <th>DEP_DELAY</th>\n",
       "      <th>TAXI_OUT</th>\n",
       "      <th>WHEELS_OFF</th>\n",
       "      <th>...</th>\n",
       "      <th>CRS_ELAPSED_TIME</th>\n",
       "      <th>ACTUAL_ELAPSED_TIME</th>\n",
       "      <th>AIR_TIME</th>\n",
       "      <th>DISTANCE</th>\n",
       "      <th>CARRIER_DELAY</th>\n",
       "      <th>WEATHER_DELAY</th>\n",
       "      <th>NAS_DELAY</th>\n",
       "      <th>SECURITY_DELAY</th>\n",
       "      <th>LATE_AIRCRAFT_DELAY</th>\n",
       "      <th>Unnamed: 27</th>\n",
       "    </tr>\n",
       "  </thead>\n",
       "  <tbody>\n",
       "    <tr>\n",
       "      <th>0</th>\n",
       "      <td>2015-01-01</td>\n",
       "      <td>NK</td>\n",
       "      <td>195</td>\n",
       "      <td>MCO</td>\n",
       "      <td>FLL</td>\n",
       "      <td>2147</td>\n",
       "      <td>2143.0</td>\n",
       "      <td>-4.0</td>\n",
       "      <td>15.0</td>\n",
       "      <td>2158.0</td>\n",
       "      <td>...</td>\n",
       "      <td>63.0</td>\n",
       "      <td>62.0</td>\n",
       "      <td>40.0</td>\n",
       "      <td>177.0</td>\n",
       "      <td>NaN</td>\n",
       "      <td>NaN</td>\n",
       "      <td>NaN</td>\n",
       "      <td>NaN</td>\n",
       "      <td>NaN</td>\n",
       "      <td>NaN</td>\n",
       "    </tr>\n",
       "    <tr>\n",
       "      <th>1</th>\n",
       "      <td>2015-01-01</td>\n",
       "      <td>NK</td>\n",
       "      <td>197</td>\n",
       "      <td>LGA</td>\n",
       "      <td>FLL</td>\n",
       "      <td>1050</td>\n",
       "      <td>1104.0</td>\n",
       "      <td>14.0</td>\n",
       "      <td>20.0</td>\n",
       "      <td>1124.0</td>\n",
       "      <td>...</td>\n",
       "      <td>194.0</td>\n",
       "      <td>179.0</td>\n",
       "      <td>150.0</td>\n",
       "      <td>1076.0</td>\n",
       "      <td>NaN</td>\n",
       "      <td>NaN</td>\n",
       "      <td>NaN</td>\n",
       "      <td>NaN</td>\n",
       "      <td>NaN</td>\n",
       "      <td>NaN</td>\n",
       "    </tr>\n",
       "    <tr>\n",
       "      <th>2</th>\n",
       "      <td>2015-01-01</td>\n",
       "      <td>NK</td>\n",
       "      <td>198</td>\n",
       "      <td>FLL</td>\n",
       "      <td>MCO</td>\n",
       "      <td>700</td>\n",
       "      <td>712.0</td>\n",
       "      <td>12.0</td>\n",
       "      <td>19.0</td>\n",
       "      <td>731.0</td>\n",
       "      <td>...</td>\n",
       "      <td>57.0</td>\n",
       "      <td>61.0</td>\n",
       "      <td>32.0</td>\n",
       "      <td>177.0</td>\n",
       "      <td>0.0</td>\n",
       "      <td>0.0</td>\n",
       "      <td>16.0</td>\n",
       "      <td>0.0</td>\n",
       "      <td>0.0</td>\n",
       "      <td>NaN</td>\n",
       "    </tr>\n",
       "    <tr>\n",
       "      <th>3</th>\n",
       "      <td>2015-01-01</td>\n",
       "      <td>NK</td>\n",
       "      <td>199</td>\n",
       "      <td>IAH</td>\n",
       "      <td>LAS</td>\n",
       "      <td>2240</td>\n",
       "      <td>2251.0</td>\n",
       "      <td>11.0</td>\n",
       "      <td>8.0</td>\n",
       "      <td>2259.0</td>\n",
       "      <td>...</td>\n",
       "      <td>196.0</td>\n",
       "      <td>176.0</td>\n",
       "      <td>164.0</td>\n",
       "      <td>1222.0</td>\n",
       "      <td>NaN</td>\n",
       "      <td>NaN</td>\n",
       "      <td>NaN</td>\n",
       "      <td>NaN</td>\n",
       "      <td>NaN</td>\n",
       "      <td>NaN</td>\n",
       "    </tr>\n",
       "    <tr>\n",
       "      <th>4</th>\n",
       "      <td>2015-01-01</td>\n",
       "      <td>NK</td>\n",
       "      <td>200</td>\n",
       "      <td>IAH</td>\n",
       "      <td>ORD</td>\n",
       "      <td>623</td>\n",
       "      <td>620.0</td>\n",
       "      <td>-3.0</td>\n",
       "      <td>15.0</td>\n",
       "      <td>635.0</td>\n",
       "      <td>...</td>\n",
       "      <td>152.0</td>\n",
       "      <td>140.0</td>\n",
       "      <td>115.0</td>\n",
       "      <td>925.0</td>\n",
       "      <td>NaN</td>\n",
       "      <td>NaN</td>\n",
       "      <td>NaN</td>\n",
       "      <td>NaN</td>\n",
       "      <td>NaN</td>\n",
       "      <td>NaN</td>\n",
       "    </tr>\n",
       "  </tbody>\n",
       "</table>\n",
       "<p>5 rows × 28 columns</p>\n",
       "</div>"
      ],
      "text/plain": [
       "      FL_DATE OP_CARRIER  OP_CARRIER_FL_NUM ORIGIN DEST  CRS_DEP_TIME  \\\n",
       "0  2015-01-01         NK                195    MCO  FLL          2147   \n",
       "1  2015-01-01         NK                197    LGA  FLL          1050   \n",
       "2  2015-01-01         NK                198    FLL  MCO           700   \n",
       "3  2015-01-01         NK                199    IAH  LAS          2240   \n",
       "4  2015-01-01         NK                200    IAH  ORD           623   \n",
       "\n",
       "   DEP_TIME  DEP_DELAY  TAXI_OUT  WHEELS_OFF  ...  CRS_ELAPSED_TIME  \\\n",
       "0    2143.0       -4.0      15.0      2158.0  ...              63.0   \n",
       "1    1104.0       14.0      20.0      1124.0  ...             194.0   \n",
       "2     712.0       12.0      19.0       731.0  ...              57.0   \n",
       "3    2251.0       11.0       8.0      2259.0  ...             196.0   \n",
       "4     620.0       -3.0      15.0       635.0  ...             152.0   \n",
       "\n",
       "   ACTUAL_ELAPSED_TIME  AIR_TIME  DISTANCE  CARRIER_DELAY  WEATHER_DELAY  \\\n",
       "0                 62.0      40.0     177.0            NaN            NaN   \n",
       "1                179.0     150.0    1076.0            NaN            NaN   \n",
       "2                 61.0      32.0     177.0            0.0            0.0   \n",
       "3                176.0     164.0    1222.0            NaN            NaN   \n",
       "4                140.0     115.0     925.0            NaN            NaN   \n",
       "\n",
       "  NAS_DELAY  SECURITY_DELAY  LATE_AIRCRAFT_DELAY  Unnamed: 27  \n",
       "0       NaN             NaN                  NaN          NaN  \n",
       "1       NaN             NaN                  NaN          NaN  \n",
       "2      16.0             0.0                  0.0          NaN  \n",
       "3       NaN             NaN                  NaN          NaN  \n",
       "4       NaN             NaN                  NaN          NaN  \n",
       "\n",
       "[5 rows x 28 columns]"
      ]
     },
     "execution_count": 31,
     "metadata": {},
     "output_type": "execute_result"
    }
   ],
   "source": [
    "# Display a sample of the data.\n",
    "\n",
    "y2015.head()"
   ]
  },
  {
   "cell_type": "code",
   "execution_count": 32,
   "metadata": {},
   "outputs": [
    {
     "data": {
      "text/html": [
       "<div>\n",
       "<style scoped>\n",
       "    .dataframe tbody tr th:only-of-type {\n",
       "        vertical-align: middle;\n",
       "    }\n",
       "\n",
       "    .dataframe tbody tr th {\n",
       "        vertical-align: top;\n",
       "    }\n",
       "\n",
       "    .dataframe thead th {\n",
       "        text-align: right;\n",
       "    }\n",
       "</style>\n",
       "<table border=\"1\" class=\"dataframe\">\n",
       "  <thead>\n",
       "    <tr style=\"text-align: right;\">\n",
       "      <th></th>\n",
       "      <th>FL_DATE</th>\n",
       "      <th>OP_CARRIER</th>\n",
       "      <th>OP_CARRIER_FL_NUM</th>\n",
       "      <th>ORIGIN</th>\n",
       "      <th>DEST</th>\n",
       "      <th>CRS_DEP_TIME</th>\n",
       "      <th>DEP_TIME</th>\n",
       "      <th>DEP_DELAY</th>\n",
       "      <th>TAXI_OUT</th>\n",
       "      <th>WHEELS_OFF</th>\n",
       "      <th>...</th>\n",
       "      <th>CRS_ELAPSED_TIME</th>\n",
       "      <th>ACTUAL_ELAPSED_TIME</th>\n",
       "      <th>AIR_TIME</th>\n",
       "      <th>DISTANCE</th>\n",
       "      <th>CARRIER_DELAY</th>\n",
       "      <th>WEATHER_DELAY</th>\n",
       "      <th>NAS_DELAY</th>\n",
       "      <th>SECURITY_DELAY</th>\n",
       "      <th>LATE_AIRCRAFT_DELAY</th>\n",
       "      <th>Unnamed: 27</th>\n",
       "    </tr>\n",
       "  </thead>\n",
       "  <tbody>\n",
       "    <tr>\n",
       "      <th>0</th>\n",
       "      <td>2016-01-01</td>\n",
       "      <td>DL</td>\n",
       "      <td>1248</td>\n",
       "      <td>DTW</td>\n",
       "      <td>LAX</td>\n",
       "      <td>1935</td>\n",
       "      <td>1935.0</td>\n",
       "      <td>0.0</td>\n",
       "      <td>23.0</td>\n",
       "      <td>1958.0</td>\n",
       "      <td>...</td>\n",
       "      <td>309.0</td>\n",
       "      <td>285.0</td>\n",
       "      <td>249.0</td>\n",
       "      <td>1979.0</td>\n",
       "      <td>NaN</td>\n",
       "      <td>NaN</td>\n",
       "      <td>NaN</td>\n",
       "      <td>NaN</td>\n",
       "      <td>NaN</td>\n",
       "      <td>NaN</td>\n",
       "    </tr>\n",
       "    <tr>\n",
       "      <th>1</th>\n",
       "      <td>2016-01-01</td>\n",
       "      <td>DL</td>\n",
       "      <td>1251</td>\n",
       "      <td>ATL</td>\n",
       "      <td>GRR</td>\n",
       "      <td>2125</td>\n",
       "      <td>2130.0</td>\n",
       "      <td>5.0</td>\n",
       "      <td>13.0</td>\n",
       "      <td>2143.0</td>\n",
       "      <td>...</td>\n",
       "      <td>116.0</td>\n",
       "      <td>109.0</td>\n",
       "      <td>92.0</td>\n",
       "      <td>640.0</td>\n",
       "      <td>NaN</td>\n",
       "      <td>NaN</td>\n",
       "      <td>NaN</td>\n",
       "      <td>NaN</td>\n",
       "      <td>NaN</td>\n",
       "      <td>NaN</td>\n",
       "    </tr>\n",
       "    <tr>\n",
       "      <th>2</th>\n",
       "      <td>2016-01-01</td>\n",
       "      <td>DL</td>\n",
       "      <td>1254</td>\n",
       "      <td>LAX</td>\n",
       "      <td>ATL</td>\n",
       "      <td>2255</td>\n",
       "      <td>2256.0</td>\n",
       "      <td>1.0</td>\n",
       "      <td>19.0</td>\n",
       "      <td>2315.0</td>\n",
       "      <td>...</td>\n",
       "      <td>245.0</td>\n",
       "      <td>231.0</td>\n",
       "      <td>207.0</td>\n",
       "      <td>1947.0</td>\n",
       "      <td>NaN</td>\n",
       "      <td>NaN</td>\n",
       "      <td>NaN</td>\n",
       "      <td>NaN</td>\n",
       "      <td>NaN</td>\n",
       "      <td>NaN</td>\n",
       "    </tr>\n",
       "    <tr>\n",
       "      <th>3</th>\n",
       "      <td>2016-01-01</td>\n",
       "      <td>DL</td>\n",
       "      <td>1255</td>\n",
       "      <td>SLC</td>\n",
       "      <td>ATL</td>\n",
       "      <td>1656</td>\n",
       "      <td>1700.0</td>\n",
       "      <td>4.0</td>\n",
       "      <td>12.0</td>\n",
       "      <td>1712.0</td>\n",
       "      <td>...</td>\n",
       "      <td>213.0</td>\n",
       "      <td>193.0</td>\n",
       "      <td>173.0</td>\n",
       "      <td>1590.0</td>\n",
       "      <td>NaN</td>\n",
       "      <td>NaN</td>\n",
       "      <td>NaN</td>\n",
       "      <td>NaN</td>\n",
       "      <td>NaN</td>\n",
       "      <td>NaN</td>\n",
       "    </tr>\n",
       "    <tr>\n",
       "      <th>4</th>\n",
       "      <td>2016-01-01</td>\n",
       "      <td>DL</td>\n",
       "      <td>1256</td>\n",
       "      <td>BZN</td>\n",
       "      <td>MSP</td>\n",
       "      <td>900</td>\n",
       "      <td>1012.0</td>\n",
       "      <td>72.0</td>\n",
       "      <td>63.0</td>\n",
       "      <td>1115.0</td>\n",
       "      <td>...</td>\n",
       "      <td>136.0</td>\n",
       "      <td>188.0</td>\n",
       "      <td>121.0</td>\n",
       "      <td>874.0</td>\n",
       "      <td>72.0</td>\n",
       "      <td>0.0</td>\n",
       "      <td>52.0</td>\n",
       "      <td>0.0</td>\n",
       "      <td>0.0</td>\n",
       "      <td>NaN</td>\n",
       "    </tr>\n",
       "  </tbody>\n",
       "</table>\n",
       "<p>5 rows × 28 columns</p>\n",
       "</div>"
      ],
      "text/plain": [
       "      FL_DATE OP_CARRIER  OP_CARRIER_FL_NUM ORIGIN DEST  CRS_DEP_TIME  \\\n",
       "0  2016-01-01         DL               1248    DTW  LAX          1935   \n",
       "1  2016-01-01         DL               1251    ATL  GRR          2125   \n",
       "2  2016-01-01         DL               1254    LAX  ATL          2255   \n",
       "3  2016-01-01         DL               1255    SLC  ATL          1656   \n",
       "4  2016-01-01         DL               1256    BZN  MSP           900   \n",
       "\n",
       "   DEP_TIME  DEP_DELAY  TAXI_OUT  WHEELS_OFF  ...  CRS_ELAPSED_TIME  \\\n",
       "0    1935.0        0.0      23.0      1958.0  ...             309.0   \n",
       "1    2130.0        5.0      13.0      2143.0  ...             116.0   \n",
       "2    2256.0        1.0      19.0      2315.0  ...             245.0   \n",
       "3    1700.0        4.0      12.0      1712.0  ...             213.0   \n",
       "4    1012.0       72.0      63.0      1115.0  ...             136.0   \n",
       "\n",
       "   ACTUAL_ELAPSED_TIME  AIR_TIME  DISTANCE  CARRIER_DELAY  WEATHER_DELAY  \\\n",
       "0                285.0     249.0    1979.0            NaN            NaN   \n",
       "1                109.0      92.0     640.0            NaN            NaN   \n",
       "2                231.0     207.0    1947.0            NaN            NaN   \n",
       "3                193.0     173.0    1590.0            NaN            NaN   \n",
       "4                188.0     121.0     874.0           72.0            0.0   \n",
       "\n",
       "  NAS_DELAY  SECURITY_DELAY  LATE_AIRCRAFT_DELAY  Unnamed: 27  \n",
       "0       NaN             NaN                  NaN          NaN  \n",
       "1       NaN             NaN                  NaN          NaN  \n",
       "2       NaN             NaN                  NaN          NaN  \n",
       "3       NaN             NaN                  NaN          NaN  \n",
       "4      52.0             0.0                  0.0          NaN  \n",
       "\n",
       "[5 rows x 28 columns]"
      ]
     },
     "execution_count": 32,
     "metadata": {},
     "output_type": "execute_result"
    }
   ],
   "source": [
    "# Display a sample of the data.\n",
    "\n",
    "y2016.head()"
   ]
  },
  {
   "cell_type": "code",
   "execution_count": 33,
   "metadata": {},
   "outputs": [
    {
     "data": {
      "text/html": [
       "<div>\n",
       "<style scoped>\n",
       "    .dataframe tbody tr th:only-of-type {\n",
       "        vertical-align: middle;\n",
       "    }\n",
       "\n",
       "    .dataframe tbody tr th {\n",
       "        vertical-align: top;\n",
       "    }\n",
       "\n",
       "    .dataframe thead th {\n",
       "        text-align: right;\n",
       "    }\n",
       "</style>\n",
       "<table border=\"1\" class=\"dataframe\">\n",
       "  <thead>\n",
       "    <tr style=\"text-align: right;\">\n",
       "      <th></th>\n",
       "      <th>FL_DATE</th>\n",
       "      <th>OP_CARRIER</th>\n",
       "      <th>OP_CARRIER_FL_NUM</th>\n",
       "      <th>ORIGIN</th>\n",
       "      <th>DEST</th>\n",
       "      <th>CRS_DEP_TIME</th>\n",
       "      <th>DEP_TIME</th>\n",
       "      <th>DEP_DELAY</th>\n",
       "      <th>TAXI_OUT</th>\n",
       "      <th>WHEELS_OFF</th>\n",
       "      <th>...</th>\n",
       "      <th>CRS_ELAPSED_TIME</th>\n",
       "      <th>ACTUAL_ELAPSED_TIME</th>\n",
       "      <th>AIR_TIME</th>\n",
       "      <th>DISTANCE</th>\n",
       "      <th>CARRIER_DELAY</th>\n",
       "      <th>WEATHER_DELAY</th>\n",
       "      <th>NAS_DELAY</th>\n",
       "      <th>SECURITY_DELAY</th>\n",
       "      <th>LATE_AIRCRAFT_DELAY</th>\n",
       "      <th>Unnamed: 27</th>\n",
       "    </tr>\n",
       "  </thead>\n",
       "  <tbody>\n",
       "    <tr>\n",
       "      <th>0</th>\n",
       "      <td>2017-01-01</td>\n",
       "      <td>AA</td>\n",
       "      <td>1</td>\n",
       "      <td>JFK</td>\n",
       "      <td>LAX</td>\n",
       "      <td>800</td>\n",
       "      <td>831.0</td>\n",
       "      <td>31.0</td>\n",
       "      <td>25.0</td>\n",
       "      <td>856.0</td>\n",
       "      <td>...</td>\n",
       "      <td>402.0</td>\n",
       "      <td>398.0</td>\n",
       "      <td>347.0</td>\n",
       "      <td>2475.0</td>\n",
       "      <td>27.0</td>\n",
       "      <td>0.0</td>\n",
       "      <td>0.0</td>\n",
       "      <td>0.0</td>\n",
       "      <td>0.0</td>\n",
       "      <td>NaN</td>\n",
       "    </tr>\n",
       "    <tr>\n",
       "      <th>1</th>\n",
       "      <td>2017-01-01</td>\n",
       "      <td>AA</td>\n",
       "      <td>2</td>\n",
       "      <td>LAX</td>\n",
       "      <td>JFK</td>\n",
       "      <td>900</td>\n",
       "      <td>934.0</td>\n",
       "      <td>34.0</td>\n",
       "      <td>34.0</td>\n",
       "      <td>1008.0</td>\n",
       "      <td>...</td>\n",
       "      <td>327.0</td>\n",
       "      <td>335.0</td>\n",
       "      <td>289.0</td>\n",
       "      <td>2475.0</td>\n",
       "      <td>34.0</td>\n",
       "      <td>0.0</td>\n",
       "      <td>8.0</td>\n",
       "      <td>0.0</td>\n",
       "      <td>0.0</td>\n",
       "      <td>NaN</td>\n",
       "    </tr>\n",
       "    <tr>\n",
       "      <th>2</th>\n",
       "      <td>2017-01-01</td>\n",
       "      <td>AA</td>\n",
       "      <td>4</td>\n",
       "      <td>LAX</td>\n",
       "      <td>JFK</td>\n",
       "      <td>1130</td>\n",
       "      <td>1221.0</td>\n",
       "      <td>51.0</td>\n",
       "      <td>20.0</td>\n",
       "      <td>1241.0</td>\n",
       "      <td>...</td>\n",
       "      <td>328.0</td>\n",
       "      <td>319.0</td>\n",
       "      <td>284.0</td>\n",
       "      <td>2475.0</td>\n",
       "      <td>7.0</td>\n",
       "      <td>0.0</td>\n",
       "      <td>0.0</td>\n",
       "      <td>0.0</td>\n",
       "      <td>35.0</td>\n",
       "      <td>NaN</td>\n",
       "    </tr>\n",
       "    <tr>\n",
       "      <th>3</th>\n",
       "      <td>2017-01-01</td>\n",
       "      <td>AA</td>\n",
       "      <td>5</td>\n",
       "      <td>DFW</td>\n",
       "      <td>HNL</td>\n",
       "      <td>1135</td>\n",
       "      <td>1252.0</td>\n",
       "      <td>77.0</td>\n",
       "      <td>19.0</td>\n",
       "      <td>1311.0</td>\n",
       "      <td>...</td>\n",
       "      <td>517.0</td>\n",
       "      <td>537.0</td>\n",
       "      <td>513.0</td>\n",
       "      <td>3784.0</td>\n",
       "      <td>77.0</td>\n",
       "      <td>0.0</td>\n",
       "      <td>20.0</td>\n",
       "      <td>0.0</td>\n",
       "      <td>0.0</td>\n",
       "      <td>NaN</td>\n",
       "    </tr>\n",
       "    <tr>\n",
       "      <th>4</th>\n",
       "      <td>2017-01-01</td>\n",
       "      <td>AA</td>\n",
       "      <td>6</td>\n",
       "      <td>OGG</td>\n",
       "      <td>DFW</td>\n",
       "      <td>1855</td>\n",
       "      <td>1855.0</td>\n",
       "      <td>0.0</td>\n",
       "      <td>16.0</td>\n",
       "      <td>1911.0</td>\n",
       "      <td>...</td>\n",
       "      <td>425.0</td>\n",
       "      <td>467.0</td>\n",
       "      <td>440.0</td>\n",
       "      <td>3711.0</td>\n",
       "      <td>0.0</td>\n",
       "      <td>0.0</td>\n",
       "      <td>42.0</td>\n",
       "      <td>0.0</td>\n",
       "      <td>0.0</td>\n",
       "      <td>NaN</td>\n",
       "    </tr>\n",
       "  </tbody>\n",
       "</table>\n",
       "<p>5 rows × 28 columns</p>\n",
       "</div>"
      ],
      "text/plain": [
       "      FL_DATE OP_CARRIER  OP_CARRIER_FL_NUM ORIGIN DEST  CRS_DEP_TIME  \\\n",
       "0  2017-01-01         AA                  1    JFK  LAX           800   \n",
       "1  2017-01-01         AA                  2    LAX  JFK           900   \n",
       "2  2017-01-01         AA                  4    LAX  JFK          1130   \n",
       "3  2017-01-01         AA                  5    DFW  HNL          1135   \n",
       "4  2017-01-01         AA                  6    OGG  DFW          1855   \n",
       "\n",
       "   DEP_TIME  DEP_DELAY  TAXI_OUT  WHEELS_OFF  ...  CRS_ELAPSED_TIME  \\\n",
       "0     831.0       31.0      25.0       856.0  ...             402.0   \n",
       "1     934.0       34.0      34.0      1008.0  ...             327.0   \n",
       "2    1221.0       51.0      20.0      1241.0  ...             328.0   \n",
       "3    1252.0       77.0      19.0      1311.0  ...             517.0   \n",
       "4    1855.0        0.0      16.0      1911.0  ...             425.0   \n",
       "\n",
       "   ACTUAL_ELAPSED_TIME  AIR_TIME  DISTANCE  CARRIER_DELAY  WEATHER_DELAY  \\\n",
       "0                398.0     347.0    2475.0           27.0            0.0   \n",
       "1                335.0     289.0    2475.0           34.0            0.0   \n",
       "2                319.0     284.0    2475.0            7.0            0.0   \n",
       "3                537.0     513.0    3784.0           77.0            0.0   \n",
       "4                467.0     440.0    3711.0            0.0            0.0   \n",
       "\n",
       "  NAS_DELAY  SECURITY_DELAY  LATE_AIRCRAFT_DELAY  Unnamed: 27  \n",
       "0       0.0             0.0                  0.0          NaN  \n",
       "1       8.0             0.0                  0.0          NaN  \n",
       "2       0.0             0.0                 35.0          NaN  \n",
       "3      20.0             0.0                  0.0          NaN  \n",
       "4      42.0             0.0                  0.0          NaN  \n",
       "\n",
       "[5 rows x 28 columns]"
      ]
     },
     "execution_count": 33,
     "metadata": {},
     "output_type": "execute_result"
    }
   ],
   "source": [
    "y2017.head()"
   ]
  },
  {
   "cell_type": "code",
   "execution_count": 34,
   "metadata": {},
   "outputs": [
    {
     "data": {
      "text/html": [
       "<div>\n",
       "<style scoped>\n",
       "    .dataframe tbody tr th:only-of-type {\n",
       "        vertical-align: middle;\n",
       "    }\n",
       "\n",
       "    .dataframe tbody tr th {\n",
       "        vertical-align: top;\n",
       "    }\n",
       "\n",
       "    .dataframe thead th {\n",
       "        text-align: right;\n",
       "    }\n",
       "</style>\n",
       "<table border=\"1\" class=\"dataframe\">\n",
       "  <thead>\n",
       "    <tr style=\"text-align: right;\">\n",
       "      <th></th>\n",
       "      <th>FL_DATE</th>\n",
       "      <th>OP_CARRIER</th>\n",
       "      <th>OP_CARRIER_FL_NUM</th>\n",
       "      <th>ORIGIN</th>\n",
       "      <th>DEST</th>\n",
       "      <th>CRS_DEP_TIME</th>\n",
       "      <th>DEP_TIME</th>\n",
       "      <th>DEP_DELAY</th>\n",
       "      <th>TAXI_OUT</th>\n",
       "      <th>WHEELS_OFF</th>\n",
       "      <th>...</th>\n",
       "      <th>CRS_ELAPSED_TIME</th>\n",
       "      <th>ACTUAL_ELAPSED_TIME</th>\n",
       "      <th>AIR_TIME</th>\n",
       "      <th>DISTANCE</th>\n",
       "      <th>CARRIER_DELAY</th>\n",
       "      <th>WEATHER_DELAY</th>\n",
       "      <th>NAS_DELAY</th>\n",
       "      <th>SECURITY_DELAY</th>\n",
       "      <th>LATE_AIRCRAFT_DELAY</th>\n",
       "      <th>Unnamed: 27</th>\n",
       "    </tr>\n",
       "  </thead>\n",
       "  <tbody>\n",
       "    <tr>\n",
       "      <th>0</th>\n",
       "      <td>2018-01-01</td>\n",
       "      <td>UA</td>\n",
       "      <td>2429</td>\n",
       "      <td>EWR</td>\n",
       "      <td>DEN</td>\n",
       "      <td>1517</td>\n",
       "      <td>1512.0</td>\n",
       "      <td>-5.0</td>\n",
       "      <td>15.0</td>\n",
       "      <td>1527.0</td>\n",
       "      <td>...</td>\n",
       "      <td>268.0</td>\n",
       "      <td>250.0</td>\n",
       "      <td>225.0</td>\n",
       "      <td>1605.0</td>\n",
       "      <td>NaN</td>\n",
       "      <td>NaN</td>\n",
       "      <td>NaN</td>\n",
       "      <td>NaN</td>\n",
       "      <td>NaN</td>\n",
       "      <td>NaN</td>\n",
       "    </tr>\n",
       "    <tr>\n",
       "      <th>1</th>\n",
       "      <td>2018-01-01</td>\n",
       "      <td>UA</td>\n",
       "      <td>2427</td>\n",
       "      <td>LAS</td>\n",
       "      <td>SFO</td>\n",
       "      <td>1115</td>\n",
       "      <td>1107.0</td>\n",
       "      <td>-8.0</td>\n",
       "      <td>11.0</td>\n",
       "      <td>1118.0</td>\n",
       "      <td>...</td>\n",
       "      <td>99.0</td>\n",
       "      <td>83.0</td>\n",
       "      <td>65.0</td>\n",
       "      <td>414.0</td>\n",
       "      <td>NaN</td>\n",
       "      <td>NaN</td>\n",
       "      <td>NaN</td>\n",
       "      <td>NaN</td>\n",
       "      <td>NaN</td>\n",
       "      <td>NaN</td>\n",
       "    </tr>\n",
       "    <tr>\n",
       "      <th>2</th>\n",
       "      <td>2018-01-01</td>\n",
       "      <td>UA</td>\n",
       "      <td>2426</td>\n",
       "      <td>SNA</td>\n",
       "      <td>DEN</td>\n",
       "      <td>1335</td>\n",
       "      <td>1330.0</td>\n",
       "      <td>-5.0</td>\n",
       "      <td>15.0</td>\n",
       "      <td>1345.0</td>\n",
       "      <td>...</td>\n",
       "      <td>134.0</td>\n",
       "      <td>126.0</td>\n",
       "      <td>106.0</td>\n",
       "      <td>846.0</td>\n",
       "      <td>NaN</td>\n",
       "      <td>NaN</td>\n",
       "      <td>NaN</td>\n",
       "      <td>NaN</td>\n",
       "      <td>NaN</td>\n",
       "      <td>NaN</td>\n",
       "    </tr>\n",
       "    <tr>\n",
       "      <th>3</th>\n",
       "      <td>2018-01-01</td>\n",
       "      <td>UA</td>\n",
       "      <td>2425</td>\n",
       "      <td>RSW</td>\n",
       "      <td>ORD</td>\n",
       "      <td>1546</td>\n",
       "      <td>1552.0</td>\n",
       "      <td>6.0</td>\n",
       "      <td>19.0</td>\n",
       "      <td>1611.0</td>\n",
       "      <td>...</td>\n",
       "      <td>190.0</td>\n",
       "      <td>182.0</td>\n",
       "      <td>157.0</td>\n",
       "      <td>1120.0</td>\n",
       "      <td>NaN</td>\n",
       "      <td>NaN</td>\n",
       "      <td>NaN</td>\n",
       "      <td>NaN</td>\n",
       "      <td>NaN</td>\n",
       "      <td>NaN</td>\n",
       "    </tr>\n",
       "    <tr>\n",
       "      <th>4</th>\n",
       "      <td>2018-01-01</td>\n",
       "      <td>UA</td>\n",
       "      <td>2424</td>\n",
       "      <td>ORD</td>\n",
       "      <td>ALB</td>\n",
       "      <td>630</td>\n",
       "      <td>650.0</td>\n",
       "      <td>20.0</td>\n",
       "      <td>13.0</td>\n",
       "      <td>703.0</td>\n",
       "      <td>...</td>\n",
       "      <td>112.0</td>\n",
       "      <td>106.0</td>\n",
       "      <td>83.0</td>\n",
       "      <td>723.0</td>\n",
       "      <td>NaN</td>\n",
       "      <td>NaN</td>\n",
       "      <td>NaN</td>\n",
       "      <td>NaN</td>\n",
       "      <td>NaN</td>\n",
       "      <td>NaN</td>\n",
       "    </tr>\n",
       "  </tbody>\n",
       "</table>\n",
       "<p>5 rows × 28 columns</p>\n",
       "</div>"
      ],
      "text/plain": [
       "      FL_DATE OP_CARRIER  OP_CARRIER_FL_NUM ORIGIN DEST  CRS_DEP_TIME  \\\n",
       "0  2018-01-01         UA               2429    EWR  DEN          1517   \n",
       "1  2018-01-01         UA               2427    LAS  SFO          1115   \n",
       "2  2018-01-01         UA               2426    SNA  DEN          1335   \n",
       "3  2018-01-01         UA               2425    RSW  ORD          1546   \n",
       "4  2018-01-01         UA               2424    ORD  ALB           630   \n",
       "\n",
       "   DEP_TIME  DEP_DELAY  TAXI_OUT  WHEELS_OFF  ...  CRS_ELAPSED_TIME  \\\n",
       "0    1512.0       -5.0      15.0      1527.0  ...             268.0   \n",
       "1    1107.0       -8.0      11.0      1118.0  ...              99.0   \n",
       "2    1330.0       -5.0      15.0      1345.0  ...             134.0   \n",
       "3    1552.0        6.0      19.0      1611.0  ...             190.0   \n",
       "4     650.0       20.0      13.0       703.0  ...             112.0   \n",
       "\n",
       "   ACTUAL_ELAPSED_TIME  AIR_TIME  DISTANCE  CARRIER_DELAY  WEATHER_DELAY  \\\n",
       "0                250.0     225.0    1605.0            NaN            NaN   \n",
       "1                 83.0      65.0     414.0            NaN            NaN   \n",
       "2                126.0     106.0     846.0            NaN            NaN   \n",
       "3                182.0     157.0    1120.0            NaN            NaN   \n",
       "4                106.0      83.0     723.0            NaN            NaN   \n",
       "\n",
       "  NAS_DELAY  SECURITY_DELAY  LATE_AIRCRAFT_DELAY  Unnamed: 27  \n",
       "0       NaN             NaN                  NaN          NaN  \n",
       "1       NaN             NaN                  NaN          NaN  \n",
       "2       NaN             NaN                  NaN          NaN  \n",
       "3       NaN             NaN                  NaN          NaN  \n",
       "4       NaN             NaN                  NaN          NaN  \n",
       "\n",
       "[5 rows x 28 columns]"
      ]
     },
     "execution_count": 34,
     "metadata": {},
     "output_type": "execute_result"
    }
   ],
   "source": [
    "# Display a sample of the data.\n",
    "\n",
    "y2018.head()"
   ]
  },
  {
   "cell_type": "markdown",
   "metadata": {},
   "source": [
    "## Step 1: Preprocessing\n",
    "\n",
    "### Step 1.1: Assess Missing Data\n",
    "\n",
    "The feature summary file contains a summary of properties for each demographics data column. You will use this file to help you make cleaning decisions during this stage of the project. First of all, you should assess the demographics data in terms of missing data. Pay attention to the following points as you perform your analysis, and take notes on what you observe. Make sure that you fill in the **Discussion** cell with your findings and decisions at the end of each step that has one!\n",
    "\n",
    "#### Step 1.1.1: Convert Missing Value Codes to NaNs\n",
    "The fourth column of the feature attributes summary (loaded in above as `feat_info`) documents the codes from the data dictionary that indicate missing or unknown data. While the file encodes this as a list (e.g. `[-1,0]`), this will get read in as a string object. You'll need to do a little bit of parsing to make use of it to identify and clean the data. Convert data that matches a 'missing' or 'unknown' value code into a numpy NaN value. You might want to see how much data takes on a 'missing' or 'unknown' code, and how much data is naturally missing, as a point of interest.\n",
    "\n",
    "**As one more reminder, you are encouraged to add additional cells to break up your analysis into manageable chunks.**"
   ]
  },
  {
   "cell_type": "markdown",
   "metadata": {},
   "source": [
    "Define function to calculate the number of NaN data values in a dataset:"
   ]
  },
  {
   "cell_type": "code",
   "execution_count": 8,
   "metadata": {},
   "outputs": [],
   "source": [
    "# Define function to calculate the number of NaNs.\n",
    "def count_nan(df):\n",
    "    return(df.isnull().sum().sum())"
   ]
  },
  {
   "cell_type": "markdown",
   "metadata": {},
   "source": [
    "Display the number of missing or unknown data values:"
   ]
  },
  {
   "cell_type": "code",
   "execution_count": 9,
   "metadata": {},
   "outputs": [
    {
     "name": "stdout",
     "output_type": "stream",
     "text": [
      "4896838\n"
     ]
    }
   ],
   "source": [
    "# Display the number of missing data.\n",
    "print(count_nan(azdias))"
   ]
  },
  {
   "cell_type": "markdown",
   "metadata": {},
   "source": [
    "Convert the missing or unknown data to NaNs and remove from the dataset:"
   ]
  },
  {
   "cell_type": "code",
   "execution_count": 10,
   "metadata": {},
   "outputs": [],
   "source": [
    "# Convert the missing data to NaNs and remove them from the datatset.\n",
    "for column in range(azdias.shape[1]):\n",
    "    name_of_column = azdias.columns[column]\n",
    "    nan_list = feat_info.iloc[column, 3]\n",
    "    nan_list = nan_list.replace('[', '')\n",
    "    nan_list = nan_list.replace(']', '')\n",
    "    nan_list = nan_list.split(',')\n",
    "    if nan_list != ['']:\n",
    "        for nan_code in nan_list:\n",
    "            if azdias[name_of_column].dtype == 'object':\n",
    "                azdias.loc[azdias[name_of_column] == nan_code, name_of_column] = np.nan\n",
    "            else:\n",
    "                nan_code = int(nan_code)\n",
    "                azdias.loc[azdias[name_of_column] == nan_code, name_of_column] = np.nan"
   ]
  },
  {
   "cell_type": "markdown",
   "metadata": {},
   "source": [
    "Display the number of missing or unknown data after the conversion:"
   ]
  },
  {
   "cell_type": "code",
   "execution_count": 11,
   "metadata": {},
   "outputs": [
    {
     "name": "stdout",
     "output_type": "stream",
     "text": [
      "8373929\n"
     ]
    }
   ],
   "source": [
    "# Display number of missing data after conversion.\n",
    "print(count_nan(azdias))"
   ]
  },
  {
   "cell_type": "markdown",
   "metadata": {},
   "source": [
    "#### Step 1.1.2: Assess Missing Data in Each Column\n",
    "\n",
    "How much missing data is present in each column? There are a few columns that are outliers in terms of the proportion of values that are missing. You will want to use matplotlib's [`hist()`](https://matplotlib.org/api/_as_gen/matplotlib.pyplot.hist.html) function to visualize the distribution of missing value counts to find these columns. Identify and document these columns. While some of these columns might have justifications for keeping or re-encoding the data, for this project you should just remove them from the dataframe. (Feel free to make remarks about these outlier columns in the discussion, however!)\n",
    "\n",
    "For the remaining features, are there any patterns in which columns have, or share, missing data?"
   ]
  },
  {
   "cell_type": "markdown",
   "metadata": {},
   "source": [
    "Display the name of each column in the dataset, along with the count of missing data in that column:"
   ]
  },
  {
   "cell_type": "code",
   "execution_count": 12,
   "metadata": {},
   "outputs": [
    {
     "name": "stdout",
     "output_type": "stream",
     "text": [
      "                       missing_data\n",
      "AGER_TYP                     685843\n",
      "ALTERSKATEGORIE_GROB           2881\n",
      "ANREDE_KZ                         0\n",
      "CJT_GESAMTTYP                  4854\n",
      "FINANZ_MINIMALIST                 0\n",
      "FINANZ_SPARER                     0\n",
      "FINANZ_VORSORGER                  0\n",
      "FINANZ_ANLEGER                    0\n",
      "FINANZ_UNAUFFAELLIGER             0\n",
      "FINANZ_HAUSBAUER                  0\n",
      "FINANZTYP                         0\n",
      "GEBURTSJAHR                  392318\n",
      "GFK_URLAUBERTYP                4854\n",
      "GREEN_AVANTGARDE                  0\n",
      "HEALTH_TYP                   111196\n",
      "LP_LEBENSPHASE_FEIN           97632\n",
      "LP_LEBENSPHASE_GROB           94572\n",
      "LP_FAMILIE_FEIN               77792\n",
      "LP_FAMILIE_GROB               77792\n",
      "LP_STATUS_FEIN                 4854\n",
      "LP_STATUS_GROB                 4854\n",
      "NATIONALITAET_KZ             108315\n",
      "PRAEGENDE_JUGENDJAHRE        108164\n",
      "RETOURTYP_BK_S                 4854\n",
      "SEMIO_SOZ                         0\n",
      "SEMIO_FAM                         0\n",
      "SEMIO_REL                         0\n",
      "SEMIO_MAT                         0\n",
      "SEMIO_VERT                        0\n",
      "SEMIO_LUST                        0\n",
      "SEMIO_ERL                         0\n",
      "SEMIO_KULT                        0\n",
      "SEMIO_RAT                         0\n",
      "SEMIO_KRIT                        0\n",
      "SEMIO_DOM                         0\n",
      "SEMIO_KAEM                        0\n",
      "SEMIO_PFLICHT                     0\n",
      "SEMIO_TRADV                       0\n",
      "SHOPPER_TYP                  111196\n",
      "SOHO_KZ                       73499\n",
      "TITEL_KZ                     889061\n",
      "VERS_TYP                     111196\n",
      "ZABEOTYP                          0\n",
      "ALTER_HH                     310267\n",
      "ANZ_PERSONEN                  73499\n",
      "ANZ_TITEL                     73499\n",
      "HH_EINKOMMEN_SCORE            18348\n",
      "KK_KUNDENTYP                 584612\n",
      "W_KEIT_KIND_HH               147988\n",
      "WOHNDAUER_2008                73499\n",
      "ANZ_HAUSHALTE_AKTIV           99611\n",
      "ANZ_HH_TITEL                  97008\n",
      "GEBAEUDETYP                   93148\n",
      "KONSUMNAEHE                   73969\n",
      "MIN_GEBAEUDEJAHR              93148\n",
      "OST_WEST_KZ                   93148\n",
      "WOHNLAGE                      93148\n",
      "CAMEO_DEUG_2015               99352\n",
      "CAMEO_DEU_2015                99352\n",
      "CAMEO_INTL_2015               99352\n",
      "KBA05_ANTG1                  133324\n",
      "KBA05_ANTG2                  133324\n",
      "KBA05_ANTG3                  133324\n",
      "KBA05_ANTG4                  133324\n",
      "KBA05_BAUMAX                 476524\n",
      "KBA05_GBZ                    133324\n",
      "BALLRAUM                      93740\n",
      "EWDICHTE                      93740\n",
      "INNENSTADT                    93740\n",
      "GEBAEUDETYP_RASTER            93155\n",
      "KKK                          158064\n",
      "MOBI_REGIO                   133324\n",
      "ONLINE_AFFINITAET              4854\n",
      "REGIOTYP                     158064\n",
      "KBA13_ANZAHL_PKW             105800\n",
      "PLZ8_ANTG1                   116515\n",
      "PLZ8_ANTG2                   116515\n",
      "PLZ8_ANTG3                   116515\n",
      "PLZ8_ANTG4                   116515\n",
      "PLZ8_BAUMAX                  116515\n",
      "PLZ8_HHZ                     116515\n",
      "PLZ8_GBZ                     116515\n",
      "ARBEIT                        97375\n",
      "ORTSGR_KLS9                   97274\n",
      "RELAT_AB                      97375\n"
     ]
    }
   ],
   "source": [
    "# Perform an assessment of how much missing data there is in each column of the dataset.\n",
    "\n",
    "# Display all rows.\n",
    "pd.options.display.max_rows = None\n",
    "\n",
    "# Build the missing data.\n",
    "missing_column_data = pd.DataFrame(azdias.shape[0] - azdias.count())\n",
    "missing_column_data.columns = ['missing_data']\n",
    "\n",
    "# Display each column in the dataset, along with count of missing data in that column.\n",
    "print(missing_column_data)"
   ]
  },
  {
   "cell_type": "markdown",
   "metadata": {},
   "source": [
    "Display a chart to make it easier to understand the missing data:"
   ]
  },
  {
   "cell_type": "code",
   "execution_count": 13,
   "metadata": {},
   "outputs": [
    {
     "data": {
      "image/png": "[encoded data removed]",
      "text/plain": [
       "<Figure size 432x288 with 1 Axes>"
      ]
     },
     "metadata": {
      "needs_background": "light"
     },
     "output_type": "display_data"
    }
   ],
   "source": [
    "# Draw a histogram that shows the number of columns versus the number of missing data.\n",
    "plot.hist(missing_column_data['missing_data'])\n",
    "plot.ylabel('Number of Columns')\n",
    "plot.xlabel('Number of Missing Data')\n",
    "plot.title('Number of Columns versus Number of Missing Data:')\n",
    "\n",
    "# Display the chart.\n",
    "plot.show()"
   ]
  },
  {
   "cell_type": "markdown",
   "metadata": {},
   "source": [
    "As can be seen in the histogram above, the outliers start just before 200,000 missing data, outliers will defined as those with greater or equal to 200,000 missing data."
   ]
  },
  {
   "cell_type": "markdown",
   "metadata": {},
   "source": [
    "Generate the outlier columns and display them:"
   ]
  },
  {
   "cell_type": "code",
   "execution_count": 14,
   "metadata": {},
   "outputs": [
    {
     "name": "stdout",
     "output_type": "stream",
     "text": [
      "              missing_data\n",
      "AGER_TYP            685843\n",
      "GEBURTSJAHR         392318\n",
      "TITEL_KZ            889061\n",
      "ALTER_HH            310267\n",
      "KK_KUNDENTYP        584612\n",
      "KBA05_BAUMAX        476524\n"
     ]
    }
   ],
   "source": [
    "# Show the outlier columns (missing data >= 200,000).\n",
    "missing_column_data_outliers = missing_column_data[missing_column_data['missing_data'] >= 200000]\n",
    "\n",
    "# Display the missing column outliers.\n",
    "print(missing_column_data_outliers)"
   ]
  },
  {
   "cell_type": "markdown",
   "metadata": {},
   "source": [
    "Remove the outlier columns from the `azdias` and `feat_info` datasets and display the number of rows and columns for each dataset:"
   ]
  },
  {
   "cell_type": "code",
   "execution_count": 15,
   "metadata": {},
   "outputs": [
    {
     "name": "stdout",
     "output_type": "stream",
     "text": [
      "azdias dataset: (891221, 79)\n",
      "feat_info dataset: (79, 4)\n"
     ]
    }
   ],
   "source": [
    "# Remove the outliers from the datasets. (You'll perform other data\n",
    "# engineering tasks such as re-encoding and imputation later.)\n",
    "\n",
    "# Determine the outlier columns.\n",
    "outlier_columns = missing_column_data_outliers.index.tolist()\n",
    "\n",
    "# Determine the outlier rows.\n",
    "outlier_rows = feat_info.loc[feat_info['attribute'].isin(outlier_columns)].index.tolist()\n",
    "\n",
    "# Drop outlier columns from azdias dataset.\n",
    "azdias = azdias.drop(columns = outlier_columns)\n",
    "\n",
    "# Drop outlier rows from feat_info dataset.\n",
    "feat_info = feat_info.drop(outlier_rows)\n",
    "\n",
    "# Display the rows x columns after the outliers are removed for each dataset.\n",
    "print('azdias dataset:', azdias.shape)\n",
    "print('feat_info dataset:', feat_info.shape)"
   ]
  },
  {
   "cell_type": "markdown",
   "metadata": {},
   "source": [
    "As can be seen, 6 columns have been removed."
   ]
  },
  {
   "cell_type": "markdown",
   "metadata": {},
   "source": [
    "#### Discussion 1.1.2: Assess Missing Data in Each Column\n",
    "\n",
    "The majority of columns have less than 200,000 missing values.  From visual inspection of the chart, columns with more than or equal to 200,000 missing data are considered outliers, and have been removed:\n",
    "\n",
    "- `AGER_TYP`\n",
    "- `GEBURTSJAHR`\n",
    "- `TITEL_KZ`\n",
    "- `ALTER_HH`\n",
    "- `KK_KUNDENTYP`\n",
    "- `KBA05_BAUMAX`\n",
    "\n",
    "A visual inspection reveals that there are several sets of columns with the same count of missing data:\n",
    "\n",
    "- `LP_FAMILIE_FEIN` and `LP_FAMILIE_GROB`.\n",
    "- `LP_STATUS_FEIN` and `LP_STATUS_GROB`.\n",
    "- `CAMEO_DEUG_2015`, `CAMEO_DEU_2015` and `CAMEO_INTL_2015`. \n",
    "- `KBA05_ANTG1`,  `KBA05_ANTG2`, `KBA05_ANTG3`, `KBA05_ANTG4`, and `KBA05_GBZ`.\n",
    "- `PLZ8_ANTG1`, `PLZ8_ANTG2`, `PLZ8_ANTG3`, `PLZ8_ANTG4`, `PLZ8_BAUMAX`, `PLZ8_HHZ`, and `PLZ8_GBZ`.\n",
    "- `ARBEIT` and `RELAT_AB`."
   ]
  },
  {
   "cell_type": "markdown",
   "metadata": {},
   "source": [
    "#### Step 1.1.3: Assess Missing Data in Each Row\n",
    "\n",
    "Now, you'll perform a similar assessment for the rows of the dataset. How much data is missing in each row? As with the columns, you should see some groups of points that have a very different numbers of missing values. Divide the data into two subsets: one for data points that are above some threshold for missing values, and a second subset for points below that threshold.\n",
    "\n",
    "In order to know what to do with the outlier rows, we should see if the distribution of data values on columns that are not missing data (or are missing very little data) are similar or different between the two groups. Select at least five of these columns and compare the distribution of values.\n",
    "- You can use seaborn's [`countplot()`](https://seaborn.pydata.org/generated/seaborn.countplot.html) function to create a bar chart of code frequencies and matplotlib's [`subplot()`](https://matplotlib.org/api/_as_gen/matplotlib.pyplot.subplot.html) function to put bar charts for the two subplots side by side.\n",
    "- To reduce repeated code, you might want to write a function that can perform this comparison, taking as one of its arguments a column to be compared.\n",
    "\n",
    "Depending on what you observe in your comparison, this will have implications on how you approach your conclusions later in the analysis. If the distributions of non-missing features look similar between the data with many missing values and the data with few or no missing values, then we could argue that simply dropping those points from the analysis won't present a major issue. On the other hand, if the data with many missing values looks very different from the data with few or no missing values, then we should make a note on those data as special. We'll revisit these data later on. **Either way, you should continue your analysis for now using just the subset of the data with few or no missing values.**"
   ]
  },
  {
   "cell_type": "markdown",
   "metadata": {},
   "source": [
    "Calculate the count of missing values for each row of the dataset:"
   ]
  },
  {
   "cell_type": "code",
   "execution_count": 16,
   "metadata": {
    "scrolled": true
   },
   "outputs": [
    {
     "data": {
      "text/html": [
       "<div>\n",
       "<style scoped>\n",
       "    .dataframe tbody tr th:only-of-type {\n",
       "        vertical-align: middle;\n",
       "    }\n",
       "\n",
       "    .dataframe tbody tr th {\n",
       "        vertical-align: top;\n",
       "    }\n",
       "\n",
       "    .dataframe thead th {\n",
       "        text-align: right;\n",
       "    }\n",
       "</style>\n",
       "<table border=\"1\" class=\"dataframe\">\n",
       "  <thead>\n",
       "    <tr style=\"text-align: right;\">\n",
       "      <th></th>\n",
       "      <th>missing_data</th>\n",
       "    </tr>\n",
       "  </thead>\n",
       "  <tbody>\n",
       "    <tr>\n",
       "      <th>0</th>\n",
       "      <td>43</td>\n",
       "    </tr>\n",
       "    <tr>\n",
       "      <th>1</th>\n",
       "      <td>0</td>\n",
       "    </tr>\n",
       "    <tr>\n",
       "      <th>2</th>\n",
       "      <td>0</td>\n",
       "    </tr>\n",
       "    <tr>\n",
       "      <th>3</th>\n",
       "      <td>7</td>\n",
       "    </tr>\n",
       "    <tr>\n",
       "      <th>4</th>\n",
       "      <td>0</td>\n",
       "    </tr>\n",
       "    <tr>\n",
       "      <th>5</th>\n",
       "      <td>0</td>\n",
       "    </tr>\n",
       "    <tr>\n",
       "      <th>6</th>\n",
       "      <td>0</td>\n",
       "    </tr>\n",
       "    <tr>\n",
       "      <th>7</th>\n",
       "      <td>0</td>\n",
       "    </tr>\n",
       "    <tr>\n",
       "      <th>8</th>\n",
       "      <td>0</td>\n",
       "    </tr>\n",
       "    <tr>\n",
       "      <th>9</th>\n",
       "      <td>0</td>\n",
       "    </tr>\n",
       "  </tbody>\n",
       "</table>\n",
       "</div>"
      ],
      "text/plain": [
       "   missing_data\n",
       "0            43\n",
       "1             0\n",
       "2             0\n",
       "3             7\n",
       "4             0\n",
       "5             0\n",
       "6             0\n",
       "7             0\n",
       "8             0\n",
       "9             0"
      ]
     },
     "execution_count": 16,
     "metadata": {},
     "output_type": "execute_result"
    }
   ],
   "source": [
    "# Calculate the amount of missing data for each row of the dataset.\n",
    "missing_row_data = pd.DataFrame(azdias.shape[1] - azdias.count(axis = 1))\n",
    "missing_row_data.columns = ['missing_data']\n",
    "\n",
    "# Display a sample of the missing row data.\n",
    "missing_row_data.head(10)"
   ]
  },
  {
   "cell_type": "markdown",
   "metadata": {},
   "source": [
    "A histogram will be displayed to show the number of rows versus the number of missing data."
   ]
  },
  {
   "cell_type": "code",
   "execution_count": 17,
   "metadata": {},
   "outputs": [
    {
     "data": {
      "image/png": "[encoded data removed]",
      "text/plain": [
       "<Figure size 864x576 with 1 Axes>"
      ]
     },
     "metadata": {
      "needs_background": "light"
     },
     "output_type": "display_data"
    }
   ],
   "source": [
    "# Draw a histogram that shows the number of rows versus the number of missing values.\n",
    "plot.figure(figsize = (12, 8))\n",
    "plot.hist(missing_row_data['missing_data'])\n",
    "plot.ylabel('Number of Rows')\n",
    "plot.xlabel('Number of Missing Data')\n",
    "plot.title('Number of Rows versus Number of Missing Data:')\n",
    "\n",
    "# Display the chart.\n",
    "plot.show()"
   ]
  },
  {
   "cell_type": "markdown",
   "metadata": {},
   "source": [
    "The histogram has been enlarged to make sure that we can see all the plotted data.  As can be seen, the number of missing data finishes just before half-way to 30. Outliers look to be just before 30 and end just before 50, so 25 looks to be just after the non-outlier data, and before the outlier data starts.\n",
    "\n",
    "The data will be divided into two subsets: less than 25 missing data and more than (or equal to) 25 missing data."
   ]
  },
  {
   "cell_type": "code",
   "execution_count": 18,
   "metadata": {},
   "outputs": [],
   "source": [
    "# Write code to divide the data into two subsets based on the number of missing values in each row.\n",
    "missing_data_lt_25 = azdias[azdias.isnull().sum(axis = 1) < 25].reset_index(drop = True)\n",
    "missing_data_gt_or_eq_25 = azdias[azdias.isnull().sum(axis = 1) >= 25].reset_index(drop = True)"
   ]
  },
  {
   "cell_type": "markdown",
   "metadata": {},
   "source": [
    "Look at the distribution values for at least 5 columns where there are no or few missing data: "
   ]
  },
  {
   "cell_type": "code",
   "execution_count": 19,
   "metadata": {},
   "outputs": [],
   "source": [
    "# Compare the distribution of values for at least five columns where there are no or few missing values,\n",
    "# between the two subsets.\n",
    "no_missing_column_data = missing_column_data[missing_column_data['missing_data'] == 0].index.tolist()"
   ]
  },
  {
   "cell_type": "markdown",
   "metadata": {},
   "source": [
    "Display the columns that have no missing data:"
   ]
  },
  {
   "cell_type": "code",
   "execution_count": 20,
   "metadata": {},
   "outputs": [
    {
     "name": "stdout",
     "output_type": "stream",
     "text": [
      "['ANREDE_KZ', 'FINANZ_MINIMALIST', 'FINANZ_SPARER', 'FINANZ_VORSORGER', 'FINANZ_ANLEGER', 'FINANZ_UNAUFFAELLIGER', 'FINANZ_HAUSBAUER', 'FINANZTYP', 'GREEN_AVANTGARDE', 'SEMIO_SOZ', 'SEMIO_FAM', 'SEMIO_REL', 'SEMIO_MAT', 'SEMIO_VERT', 'SEMIO_LUST', 'SEMIO_ERL', 'SEMIO_KULT', 'SEMIO_RAT', 'SEMIO_KRIT', 'SEMIO_DOM', 'SEMIO_KAEM', 'SEMIO_PFLICHT', 'SEMIO_TRADV', 'ZABEOTYP']\n"
     ]
    }
   ],
   "source": [
    "# Display the columns that have no missing data.\n",
    "print(no_missing_column_data)"
   ]
  },
  {
   "cell_type": "markdown",
   "metadata": {},
   "source": [
    "Choose the first 5 columns where there are no missing data and show them:"
   ]
  },
  {
   "cell_type": "code",
   "execution_count": 21,
   "metadata": {},
   "outputs": [
    {
     "name": "stdout",
     "output_type": "stream",
     "text": [
      "['ANREDE_KZ', 'FINANZ_MINIMALIST', 'FINANZ_SPARER', 'FINANZ_VORSORGER', 'FINANZ_ANLEGER']\n"
     ]
    }
   ],
   "source": [
    "# Display first 5 columns with few or zero missing values.\n",
    "first_5_no_missing_data_columns = no_missing_column_data[:5]\n",
    "\n",
    "# Display the columns where there are no missing data.\n",
    "print(first_5_no_missing_data_columns)"
   ]
  },
  {
   "cell_type": "markdown",
   "metadata": {},
   "source": [
    "Show charts to compare columns with many missing data versus those with no or few missing data:"
   ]
  },
  {
   "cell_type": "code",
   "execution_count": 22,
   "metadata": {},
   "outputs": [
    {
     "data": {
      "image/png": "[encoded data removed]",
      "text/plain": [
       "<Figure size 1080x1440 with 10 Axes>"
      ]
     },
     "metadata": {
      "needs_background": "light"
     },
     "output_type": "display_data"
    }
   ],
   "source": [
    "# Define function to display a countplot.\n",
    "def draw_countplot(data, axes, title, chart_number):\n",
    "    cp = sb.countplot(x = data, ax = axes[column][chart_number])\n",
    "    cp.axes.yaxis.label.set_text('Number of Rows')\n",
    "    axes[column][chart_number].set_title(title)\n",
    "    \n",
    "# Generate charts comparing columns with missing data versus those with few or no missing data.\n",
    "few_or_no_missing_data = azdias.iloc[missing_data_lt_25.index, :]\n",
    "many_missing_data = azdias.iloc[missing_data_gt_or_eq_25.index, :]\n",
    "\n",
    "# Setup the charts.\n",
    "figure, axes = plot.subplots(nrows = len(first_5_no_missing_data_columns), ncols = 2, figsize = (15, 20))\n",
    "figure.subplots_adjust(hspace = 1, wspace = 0.3)\n",
    "\n",
    "# Create the individual countplots.\n",
    "for column in range(len(first_5_no_missing_data_columns)):\n",
    "    current_column = first_5_no_missing_data_columns[column]\n",
    "    draw_countplot(few_or_no_missing_data[current_column], axes, 'Few or No Missing Data:', 0)\n",
    "    draw_countplot(many_missing_data[current_column], axes, 'Many Missing Data:', 1)\n",
    "\n",
    "# Display the charts.\n",
    "plot.show()"
   ]
  },
  {
   "cell_type": "markdown",
   "metadata": {},
   "source": [
    "#### Discussion 1.1.3: Assess Missing Data in Each Row\n",
    "\n",
    "It can be seen from the charts above, that the distribution of data between the *Few or No Missing Data* and *Many Missing Data* look the same, although the scale is different.  My conclusion is that dropping the *Many Missing Data* data will not affect the analysis."
   ]
  },
  {
   "cell_type": "markdown",
   "metadata": {},
   "source": [
    "### Step 1.2: Select and Re-Encode Features\n",
    "\n",
    "Checking for missing data isn't the only way in which you can prepare a dataset for analysis. Since the unsupervised learning techniques to be used will only work on data that is encoded numerically, you need to make a few encoding changes or additional assumptions to be able to make progress. In addition, while almost all of the values in the dataset are encoded using numbers, not all of them represent numeric values. Check the third column of the feature summary (`feat_info`) for a summary of types of measurement.\n",
    "- For numeric and interval data, these features can be kept without changes.\n",
    "- Most of the variables in the dataset are ordinal in nature. While ordinal values may technically be non-linear in spacing, make the simplifying assumption that the ordinal variables can be treated as being interval in nature (that is, kept without any changes).\n",
    "- Special handling may be necessary for the remaining two variable types: categorical, and 'mixed'.\n",
    "\n",
    "In the first two parts of this sub-step, you will perform an investigation of the categorical and mixed-type features and make a decision on each of them, whether you will keep, drop, or re-encode each. Then, in the last part, you will create a new data frame with only the selected and engineered columns.\n",
    "\n",
    "Data wrangling is often the trickiest part of the data analysis process, and there's a lot of it to be done here. But stick with it: once you're done with this step, you'll be ready to get to the machine learning parts of the project!"
   ]
  },
  {
   "cell_type": "markdown",
   "metadata": {},
   "source": [
    "Create a new dataset that contains the `few_or_no_missing_data` dataset:"
   ]
  },
  {
   "cell_type": "code",
   "execution_count": 23,
   "metadata": {},
   "outputs": [],
   "source": [
    "# Create a new dataset.\n",
    "azdias_clean = few_or_no_missing_data"
   ]
  },
  {
   "cell_type": "markdown",
   "metadata": {},
   "source": [
    "Display a list of features and how many there are for each data type:"
   ]
  },
  {
   "cell_type": "code",
   "execution_count": 24,
   "metadata": {},
   "outputs": [
    {
     "name": "stdout",
     "output_type": "stream",
     "text": [
      "             attribute  information_level  missing_or_unknown\n",
      "type                                                         \n",
      "categorical         18                 18                  18\n",
      "mixed                6                  6                   6\n",
      "numeric              6                  6                   6\n",
      "ordinal             49                 49                  49\n"
     ]
    }
   ],
   "source": [
    "# How many features are there of each data type?\n",
    "all_features = feat_info.groupby(['type']).count()\n",
    "\n",
    "# Display the features of each data type.\n",
    "print(all_features)"
   ]
  },
  {
   "cell_type": "markdown",
   "metadata": {},
   "source": [
    "#### Step 1.2.1: Re-Encode Categorical Features\n",
    "\n",
    "For categorical data, you would ordinarily need to encode the levels as dummy variables. Depending on the number of categories, perform one of the following:\n",
    "- For binary (two-level) categoricals that take numeric values, you can keep them without needing to do anything.\n",
    "- There is one binary variable that takes on non-numeric values. For this one, you need to re-encode the values as numbers or create a dummy variable.\n",
    "- For multi-level categoricals (three or more values), you can choose to encode the values using multiple dummy variables (e.g. via [OneHotEncoder](http://scikit-learn.org/stable/modules/generated/sklearn.preprocessing.OneHotEncoder.html)), or (to keep things straightforward) just drop them from the analysis. As always, document your choices in the Discussion section."
   ]
  },
  {
   "cell_type": "markdown",
   "metadata": {},
   "source": [
    "Determine the categorical features and show them:"
   ]
  },
  {
   "cell_type": "code",
   "execution_count": 25,
   "metadata": {},
   "outputs": [
    {
     "name": "stdout",
     "output_type": "stream",
     "text": [
      "['ANREDE_KZ' 'CJT_GESAMTTYP' 'FINANZTYP' 'GFK_URLAUBERTYP'\n",
      " 'GREEN_AVANTGARDE' 'LP_FAMILIE_FEIN' 'LP_FAMILIE_GROB' 'LP_STATUS_FEIN'\n",
      " 'LP_STATUS_GROB' 'NATIONALITAET_KZ' 'SHOPPER_TYP' 'SOHO_KZ' 'VERS_TYP'\n",
      " 'ZABEOTYP' 'GEBAEUDETYP' 'OST_WEST_KZ' 'CAMEO_DEUG_2015' 'CAMEO_DEU_2015']\n"
     ]
    }
   ],
   "source": [
    "# Assess categorical variables: which are binary, which are multi-level, and\n",
    "# which one needs to be re-encoded?\n",
    "\n",
    "# Determine categorical features.\n",
    "categorical_features = feat_info[feat_info['type'] == 'categorical']['attribute'].values\n",
    "\n",
    "# Display categorical features.\n",
    "print(categorical_features)"
   ]
  },
  {
   "cell_type": "markdown",
   "metadata": {},
   "source": [
    "Remove remaining outlier columns that were determined earlier, then display the remaining columns:"
   ]
  },
  {
   "cell_type": "code",
   "execution_count": 26,
   "metadata": {},
   "outputs": [
    {
     "name": "stdout",
     "output_type": "stream",
     "text": [
      "['ANREDE_KZ', 'CJT_GESAMTTYP', 'FINANZTYP', 'GFK_URLAUBERTYP', 'GREEN_AVANTGARDE', 'LP_FAMILIE_FEIN', 'LP_FAMILIE_GROB', 'LP_STATUS_FEIN', 'LP_STATUS_GROB', 'NATIONALITAET_KZ', 'SHOPPER_TYP', 'SOHO_KZ', 'VERS_TYP', 'ZABEOTYP', 'GEBAEUDETYP', 'OST_WEST_KZ', 'CAMEO_DEUG_2015', 'CAMEO_DEU_2015']\n"
     ]
    }
   ],
   "source": [
    "# Remove remaining outlier columns that were determined earlier.\n",
    "categorical_features = [feature for feature in categorical_features if feature in azdias_clean.columns]\n",
    "\n",
    "# Display categorical features.\n",
    "print(categorical_features)"
   ]
  },
  {
   "cell_type": "markdown",
   "metadata": {},
   "source": [
    "Determine the binary features and display them:"
   ]
  },
  {
   "cell_type": "code",
   "execution_count": 27,
   "metadata": {},
   "outputs": [
    {
     "name": "stdout",
     "output_type": "stream",
     "text": [
      "['ANREDE_KZ', 'GREEN_AVANTGARDE', 'SOHO_KZ', 'VERS_TYP', 'OST_WEST_KZ']\n"
     ]
    }
   ],
   "source": [
    "# Determine the binary features.\n",
    "binary_features = [feature for feature in categorical_features if azdias_clean[feature].nunique() == 2]\n",
    "\n",
    "# Display the binary features.\n",
    "print(binary_features)"
   ]
  },
  {
   "cell_type": "markdown",
   "metadata": {},
   "source": [
    "Determine the multi-level features and display them:"
   ]
  },
  {
   "cell_type": "code",
   "execution_count": 28,
   "metadata": {},
   "outputs": [
    {
     "name": "stdout",
     "output_type": "stream",
     "text": [
      "['CJT_GESAMTTYP', 'FINANZTYP', 'GFK_URLAUBERTYP', 'LP_FAMILIE_FEIN', 'LP_FAMILIE_GROB', 'LP_STATUS_FEIN', 'LP_STATUS_GROB', 'NATIONALITAET_KZ', 'SHOPPER_TYP', 'ZABEOTYP', 'GEBAEUDETYP', 'CAMEO_DEUG_2015', 'CAMEO_DEU_2015']\n"
     ]
    }
   ],
   "source": [
    "# Determine the multi-level features.\n",
    "multi_level_features = [feature for feature in categorical_features if azdias_clean[feature].nunique() > 2]\n",
    "\n",
    "# Display the multi-level features.\n",
    "print(multi_level_features)"
   ]
  },
  {
   "cell_type": "markdown",
   "metadata": {},
   "source": [
    "Decide which binary feature is required to be re-encoded by displaying the unique values of each binary feature:"
   ]
  },
  {
   "cell_type": "code",
   "execution_count": 29,
   "metadata": {},
   "outputs": [
    {
     "name": "stdout",
     "output_type": "stream",
     "text": [
      "ANREDE_KZ [1. 2.]\n",
      "GREEN_AVANTGARDE [0 1]\n",
      "SOHO_KZ [nan  1.  0.]\n",
      "VERS_TYP [nan  2.  1.]\n",
      "OST_WEST_KZ [nan 'W' 'O']\n"
     ]
    }
   ],
   "source": [
    "# Find the feature this is required to be re-encoded by displaying the unique values of each binary feature.\n",
    "for feature in binary_features:\n",
    "    print(feature, azdias_clean[feature].unique())"
   ]
  },
  {
   "cell_type": "markdown",
   "metadata": {},
   "source": [
    "As can be seen above the `OST_WEST_KZ` values require re-encoding since they are not numbers."
   ]
  },
  {
   "cell_type": "markdown",
   "metadata": {},
   "source": [
    "Re-encode to keep this feature in the analysis:"
   ]
  },
  {
   "cell_type": "code",
   "execution_count": 30,
   "metadata": {},
   "outputs": [],
   "source": [
    "# Re-encode to keep in the analysis.\n",
    "new_data = {'W': 0, 'O': 1}\n",
    "azdias_clean = azdias_clean.replace({'OST_WEST_KZ': new_data})"
   ]
  },
  {
   "cell_type": "markdown",
   "metadata": {},
   "source": [
    "Display the multi-level features that are removed:"
   ]
  },
  {
   "cell_type": "code",
   "execution_count": 31,
   "metadata": {},
   "outputs": [
    {
     "name": "stdout",
     "output_type": "stream",
     "text": [
      "CJT_GESAMTTYP\n",
      "FINANZTYP\n",
      "GFK_URLAUBERTYP\n",
      "LP_FAMILIE_FEIN\n",
      "LP_FAMILIE_GROB\n",
      "LP_STATUS_FEIN\n",
      "LP_STATUS_GROB\n",
      "NATIONALITAET_KZ\n",
      "SHOPPER_TYP\n",
      "ZABEOTYP\n",
      "GEBAEUDETYP\n",
      "CAMEO_DEUG_2015\n",
      "CAMEO_DEU_2015\n"
     ]
    }
   ],
   "source": [
    "# Remove multi-level features.\n",
    "for feature in multi_level_features:\n",
    "    print(feature)\n",
    "    azdias_clean = azdias_clean.drop(feature, axis = 1)"
   ]
  },
  {
   "cell_type": "markdown",
   "metadata": {},
   "source": [
    "Display some sample data:"
   ]
  },
  {
   "cell_type": "code",
   "execution_count": 32,
   "metadata": {},
   "outputs": [
    {
     "data": {
      "text/html": [
       "<div>\n",
       "<style scoped>\n",
       "    .dataframe tbody tr th:only-of-type {\n",
       "        vertical-align: middle;\n",
       "    }\n",
       "\n",
       "    .dataframe tbody tr th {\n",
       "        vertical-align: top;\n",
       "    }\n",
       "\n",
       "    .dataframe thead th {\n",
       "        text-align: right;\n",
       "    }\n",
       "</style>\n",
       "<table border=\"1\" class=\"dataframe\">\n",
       "  <thead>\n",
       "    <tr style=\"text-align: right;\">\n",
       "      <th></th>\n",
       "      <th>ALTERSKATEGORIE_GROB</th>\n",
       "      <th>ANREDE_KZ</th>\n",
       "      <th>FINANZ_MINIMALIST</th>\n",
       "      <th>FINANZ_SPARER</th>\n",
       "      <th>FINANZ_VORSORGER</th>\n",
       "      <th>FINANZ_ANLEGER</th>\n",
       "      <th>FINANZ_UNAUFFAELLIGER</th>\n",
       "      <th>FINANZ_HAUSBAUER</th>\n",
       "      <th>GREEN_AVANTGARDE</th>\n",
       "      <th>HEALTH_TYP</th>\n",
       "      <th>...</th>\n",
       "      <th>PLZ8_ANTG1</th>\n",
       "      <th>PLZ8_ANTG2</th>\n",
       "      <th>PLZ8_ANTG3</th>\n",
       "      <th>PLZ8_ANTG4</th>\n",
       "      <th>PLZ8_BAUMAX</th>\n",
       "      <th>PLZ8_HHZ</th>\n",
       "      <th>PLZ8_GBZ</th>\n",
       "      <th>ARBEIT</th>\n",
       "      <th>ORTSGR_KLS9</th>\n",
       "      <th>RELAT_AB</th>\n",
       "    </tr>\n",
       "  </thead>\n",
       "  <tbody>\n",
       "    <tr>\n",
       "      <th>0</th>\n",
       "      <td>2.0</td>\n",
       "      <td>1.0</td>\n",
       "      <td>3.0</td>\n",
       "      <td>4.0</td>\n",
       "      <td>3.0</td>\n",
       "      <td>5.0</td>\n",
       "      <td>5.0</td>\n",
       "      <td>3.0</td>\n",
       "      <td>0</td>\n",
       "      <td>NaN</td>\n",
       "      <td>...</td>\n",
       "      <td>NaN</td>\n",
       "      <td>NaN</td>\n",
       "      <td>NaN</td>\n",
       "      <td>NaN</td>\n",
       "      <td>NaN</td>\n",
       "      <td>NaN</td>\n",
       "      <td>NaN</td>\n",
       "      <td>NaN</td>\n",
       "      <td>NaN</td>\n",
       "      <td>NaN</td>\n",
       "    </tr>\n",
       "    <tr>\n",
       "      <th>1</th>\n",
       "      <td>1.0</td>\n",
       "      <td>2.0</td>\n",
       "      <td>1.0</td>\n",
       "      <td>5.0</td>\n",
       "      <td>2.0</td>\n",
       "      <td>5.0</td>\n",
       "      <td>4.0</td>\n",
       "      <td>5.0</td>\n",
       "      <td>0</td>\n",
       "      <td>3.0</td>\n",
       "      <td>...</td>\n",
       "      <td>2.0</td>\n",
       "      <td>3.0</td>\n",
       "      <td>2.0</td>\n",
       "      <td>1.0</td>\n",
       "      <td>1.0</td>\n",
       "      <td>5.0</td>\n",
       "      <td>4.0</td>\n",
       "      <td>3.0</td>\n",
       "      <td>5.0</td>\n",
       "      <td>4.0</td>\n",
       "    </tr>\n",
       "    <tr>\n",
       "      <th>2</th>\n",
       "      <td>3.0</td>\n",
       "      <td>2.0</td>\n",
       "      <td>1.0</td>\n",
       "      <td>4.0</td>\n",
       "      <td>1.0</td>\n",
       "      <td>2.0</td>\n",
       "      <td>3.0</td>\n",
       "      <td>5.0</td>\n",
       "      <td>1</td>\n",
       "      <td>3.0</td>\n",
       "      <td>...</td>\n",
       "      <td>3.0</td>\n",
       "      <td>3.0</td>\n",
       "      <td>1.0</td>\n",
       "      <td>0.0</td>\n",
       "      <td>1.0</td>\n",
       "      <td>4.0</td>\n",
       "      <td>4.0</td>\n",
       "      <td>3.0</td>\n",
       "      <td>5.0</td>\n",
       "      <td>2.0</td>\n",
       "    </tr>\n",
       "    <tr>\n",
       "      <th>3</th>\n",
       "      <td>4.0</td>\n",
       "      <td>2.0</td>\n",
       "      <td>4.0</td>\n",
       "      <td>2.0</td>\n",
       "      <td>5.0</td>\n",
       "      <td>2.0</td>\n",
       "      <td>1.0</td>\n",
       "      <td>2.0</td>\n",
       "      <td>0</td>\n",
       "      <td>2.0</td>\n",
       "      <td>...</td>\n",
       "      <td>2.0</td>\n",
       "      <td>2.0</td>\n",
       "      <td>2.0</td>\n",
       "      <td>0.0</td>\n",
       "      <td>1.0</td>\n",
       "      <td>3.0</td>\n",
       "      <td>4.0</td>\n",
       "      <td>2.0</td>\n",
       "      <td>3.0</td>\n",
       "      <td>3.0</td>\n",
       "    </tr>\n",
       "    <tr>\n",
       "      <th>4</th>\n",
       "      <td>3.0</td>\n",
       "      <td>1.0</td>\n",
       "      <td>4.0</td>\n",
       "      <td>3.0</td>\n",
       "      <td>4.0</td>\n",
       "      <td>1.0</td>\n",
       "      <td>3.0</td>\n",
       "      <td>2.0</td>\n",
       "      <td>0</td>\n",
       "      <td>3.0</td>\n",
       "      <td>...</td>\n",
       "      <td>2.0</td>\n",
       "      <td>4.0</td>\n",
       "      <td>2.0</td>\n",
       "      <td>1.0</td>\n",
       "      <td>2.0</td>\n",
       "      <td>3.0</td>\n",
       "      <td>3.0</td>\n",
       "      <td>4.0</td>\n",
       "      <td>6.0</td>\n",
       "      <td>5.0</td>\n",
       "    </tr>\n",
       "  </tbody>\n",
       "</table>\n",
       "<p>5 rows × 66 columns</p>\n",
       "</div>"
      ],
      "text/plain": [
       "   ALTERSKATEGORIE_GROB  ANREDE_KZ  FINANZ_MINIMALIST  FINANZ_SPARER  \\\n",
       "0                   2.0        1.0                3.0            4.0   \n",
       "1                   1.0        2.0                1.0            5.0   \n",
       "2                   3.0        2.0                1.0            4.0   \n",
       "3                   4.0        2.0                4.0            2.0   \n",
       "4                   3.0        1.0                4.0            3.0   \n",
       "\n",
       "   FINANZ_VORSORGER  FINANZ_ANLEGER  FINANZ_UNAUFFAELLIGER  FINANZ_HAUSBAUER  \\\n",
       "0               3.0             5.0                    5.0               3.0   \n",
       "1               2.0             5.0                    4.0               5.0   \n",
       "2               1.0             2.0                    3.0               5.0   \n",
       "3               5.0             2.0                    1.0               2.0   \n",
       "4               4.0             1.0                    3.0               2.0   \n",
       "\n",
       "   GREEN_AVANTGARDE  HEALTH_TYP  ...  PLZ8_ANTG1  PLZ8_ANTG2  PLZ8_ANTG3  \\\n",
       "0                 0         NaN  ...         NaN         NaN         NaN   \n",
       "1                 0         3.0  ...         2.0         3.0         2.0   \n",
       "2                 1         3.0  ...         3.0         3.0         1.0   \n",
       "3                 0         2.0  ...         2.0         2.0         2.0   \n",
       "4                 0         3.0  ...         2.0         4.0         2.0   \n",
       "\n",
       "   PLZ8_ANTG4  PLZ8_BAUMAX  PLZ8_HHZ  PLZ8_GBZ  ARBEIT  ORTSGR_KLS9  RELAT_AB  \n",
       "0         NaN          NaN       NaN       NaN     NaN          NaN       NaN  \n",
       "1         1.0          1.0       5.0       4.0     3.0          5.0       4.0  \n",
       "2         0.0          1.0       4.0       4.0     3.0          5.0       2.0  \n",
       "3         0.0          1.0       3.0       4.0     2.0          3.0       3.0  \n",
       "4         1.0          2.0       3.0       3.0     4.0          6.0       5.0  \n",
       "\n",
       "[5 rows x 66 columns]"
      ]
     },
     "execution_count": 32,
     "metadata": {},
     "output_type": "execute_result"
    }
   ],
   "source": [
    "# Display sample data.\n",
    "azdias_clean.head()"
   ]
  },
  {
   "cell_type": "markdown",
   "metadata": {},
   "source": [
    "#### Discussion 1.2.1: Re-Encode Categorical Features\n",
    "\n",
    "I re-encoded the values in `OST_WEST_KZ` as numbers to keep it in the analysis.  I calculated, and kept the binary features `ANREDE_KZ`, `GREEN_AVANTGARDE`, `SOHO_KZ`, `VERS_TYP`, and `OST_WEST_KZ`.  The multi-level features were calculated and then removed."
   ]
  },
  {
   "cell_type": "markdown",
   "metadata": {},
   "source": [
    "#### Step 1.2.2: Engineer Mixed-Type Features\n",
    "\n",
    "There are a handful of features that are marked as \"mixed\" in the feature summary that require special treatment in order to be included in the analysis. There are two in particular that deserve attention; the handling of the rest are up to your own choices:\n",
    "- \"PRAEGENDE_JUGENDJAHRE\" combines information on three dimensions: generation by decade, movement (mainstream vs. avantgarde), and nation (east vs. west). While there aren't enough levels to disentangle east from west, you should create two new variables to capture the other two dimensions: an interval-type variable for decade, and a binary variable for movement.\n",
    "- \"CAMEO_INTL_2015\" combines information on two axes: wealth and life stage. Break up the two-digit codes by their 'tens'-place and 'ones'-place digits into two new ordinal variables (which, for the purposes of this project, is equivalent to just treating them as their raw numeric values).\n",
    "- If you decide to keep or engineer new features around the other mixed-type features, make sure you note your steps in the Discussion section.\n",
    "\n",
    "Be sure to check `Data_Dictionary.md` for the details needed to finish these tasks."
   ]
  },
  {
   "cell_type": "markdown",
   "metadata": {},
   "source": [
    "Investigate `PRAEGENDE_JUGENDJAHRE` and create two new columns:"
   ]
  },
  {
   "cell_type": "code",
   "execution_count": 33,
   "metadata": {},
   "outputs": [],
   "source": [
    "# Investigate \"PRAEGENDE_JUGENDJAHRE\" and engineer two new columns.\n",
    "azdias_clean['DECADE'] = azdias_clean['PRAEGENDE_JUGENDJAHRE']\n",
    "azdias_clean['MOVEMENT'] = azdias_clean['PRAEGENDE_JUGENDJAHRE']"
   ]
  },
  {
   "cell_type": "code",
   "execution_count": 34,
   "metadata": {},
   "outputs": [],
   "source": [
    "# Create dictionaries to map initial feature values to new feature values.\n",
    "decade_dictionary = {1:1, 2:1, 3:2, 4:2, 5:3, 6:3, 7:3, 8:4, 9:4, 10:5, 11:5, 12:5, 13:5, 14:6, 15:6}\n",
    "movement_dictionary = {1:1, 2:0, 3:1, 4:0, 5:1, 6:0, 7:0, 8:1, 9:0, 10:1, 11:0, 12:1, 13:0, 14:1, 15:0}"
   ]
  },
  {
   "cell_type": "code",
   "execution_count": 35,
   "metadata": {},
   "outputs": [],
   "source": [
    "# Replace using the dictionaries.\n",
    "azdias_clean['DECADE'].replace(decade_dictionary, inplace = True)\n",
    "azdias_clean['MOVEMENT'].replace(movement_dictionary, inplace = True)"
   ]
  },
  {
   "cell_type": "markdown",
   "metadata": {},
   "source": [
    "Display the rows x columns to show that 2 new columns have been added:"
   ]
  },
  {
   "cell_type": "code",
   "execution_count": 36,
   "metadata": {},
   "outputs": [
    {
     "data": {
      "text/plain": [
       "(797906, 68)"
      ]
     },
     "execution_count": 36,
     "metadata": {},
     "output_type": "execute_result"
    }
   ],
   "source": [
    "# Display the rows x columns of the dataset.\n",
    "azdias_clean.shape"
   ]
  },
  {
   "cell_type": "markdown",
   "metadata": {},
   "source": [
    "Investigate `CAMEO_INTL_2015` and create two new columns:"
   ]
  },
  {
   "cell_type": "code",
   "execution_count": 37,
   "metadata": {},
   "outputs": [],
   "source": [
    "# Investigate \"CAMEO_INTL_2015\" and engineer two new columns.\n",
    "azdias_clean['WEALTH'] = azdias_clean['CAMEO_INTL_2015']\n",
    "azdias_clean['LIFE_STAGE'] = azdias_clean['CAMEO_INTL_2015']"
   ]
  },
  {
   "cell_type": "code",
   "execution_count": 38,
   "metadata": {},
   "outputs": [],
   "source": [
    "# Create dictionaries to map initial feature values to new feature values.\n",
    "wealth_dictionary = {'11':1, '12':1, '13':1, '14':1, '15':1, '21':2, '22':2, '23':2, '24':2, '25':2,\n",
    "               '31':3, '32':3, '33':3, '34':3, '35':3, '41':4, '42':4, '43':4, '44':4, '45':4,\n",
    "               '51':5, '52':5, '53':5, '54':5, '55':5}\n",
    "\n",
    "life_stage_dictionary = {'11':1, '12':2, '13':3, '14':4, '15':5, '21':1, '22':2, '23':3, '24':4, '25':5,\n",
    "                   '31':1, '32':2, '33':3, '34':4, '35':5, '41':1, '42':2, '43':3, '44':4, '45':5,\n",
    "                   '51':1, '52':2, '53':3, '54':4, '55':5}"
   ]
  },
  {
   "cell_type": "code",
   "execution_count": 39,
   "metadata": {},
   "outputs": [],
   "source": [
    "# Replace using the dictionaries.\n",
    "azdias_clean['WEALTH'].replace(wealth_dictionary, inplace = True)\n",
    "azdias_clean['LIFE_STAGE'].replace(life_stage_dictionary, inplace = True)"
   ]
  },
  {
   "cell_type": "markdown",
   "metadata": {},
   "source": [
    "Display the rows x columns to show that 2 new columns have been added:"
   ]
  },
  {
   "cell_type": "code",
   "execution_count": 40,
   "metadata": {},
   "outputs": [
    {
     "data": {
      "text/plain": [
       "(797906, 70)"
      ]
     },
     "execution_count": 40,
     "metadata": {},
     "output_type": "execute_result"
    }
   ],
   "source": [
    "# Display the rows x columns of the dataset.\n",
    "azdias_clean.shape"
   ]
  },
  {
   "cell_type": "markdown",
   "metadata": {},
   "source": [
    "#### Discussion 1.2.2: Engineer Mixed-Type Features\n",
    "\n",
    "The two mixed-value features `PRAEGENDE_JUGENDJAHRE` and `CAMEO_INTL_2015` were kept.  For each of these mixed-value features I created two new feature columns, copied values from the initial mixed-value feature column, created two dictionaries to map initial feature values to new feature values, and performed a replace operation using the dictionaries on the new feature columns. The remaining mixed-values features will be removed."
   ]
  },
  {
   "cell_type": "markdown",
   "metadata": {},
   "source": [
    "#### Step 1.2.3: Complete Feature Selection\n",
    "\n",
    "In order to finish this step up, you need to make sure that your data frame now only has the columns that you want to keep. To summarize, the dataframe should consist of the following:\n",
    "- All numeric, interval, and ordinal type columns from the original dataset.\n",
    "- Binary categorical features (all numerically-encoded).\n",
    "- Engineered features from other multi-level categorical features and mixed features.\n",
    "\n",
    "Make sure that for any new columns that you have engineered, that you've excluded the original columns from the final dataset. Otherwise, their values will interfere with the analysis later on the project. For example, you should not keep \"PRAEGENDE_JUGENDJAHRE\", since its values won't be useful for the algorithm: only the values derived from it in the engineered features you created should be retained. As a reminder, your data should only be from **the subset with few or no missing values**."
   ]
  },
  {
   "cell_type": "markdown",
   "metadata": {},
   "source": [
    "Remove the original engineered columns (rows in the case of the `feat_info` dataset) from both datasets and display a row x column count before and after:"
   ]
  },
  {
   "cell_type": "code",
   "execution_count": 41,
   "metadata": {},
   "outputs": [
    {
     "name": "stdout",
     "output_type": "stream",
     "text": [
      "azdias_clean dataset before (797906, 70)\n",
      "feat_info before (79, 4)\n",
      "azdias_clean dataset after (797906, 68)\n",
      "feat_info after (77, 4)\n"
     ]
    }
   ],
   "source": [
    "# Display the rows x columns of both datasets.\n",
    "print('azdias_clean dataset before', azdias_clean.shape)\n",
    "print('feat_info before', feat_info.shape)\n",
    "\n",
    "# Exclude the original engineered columns (rows in the case of the feat_info dataset) (PRAEGENDE_JUGENDJAHRE\n",
    "# and CAMEO_INTL_2015) from the two datasets.\n",
    "engineered_columns = ['PRAEGENDE_JUGENDJAHRE', 'CAMEO_INTL_2015']\n",
    "\n",
    "# Drop engineered columns from azdias_clean dataset.\n",
    "azdias_clean = azdias_clean.drop(columns = engineered_columns)\n",
    "\n",
    "# Find the rows that correspond to the engineered columns.\n",
    "engineered_rows = feat_info.loc[feat_info['attribute'].isin(engineered_columns)].index.tolist()\n",
    "\n",
    "# Drop engineered rows from feat_info dataset.\n",
    "feat_info = feat_info.drop(engineered_rows)\n",
    "\n",
    "# Display the rows x columns of both datasets to show the original engineered columns (rows in the case of the\n",
    "# feat_info dataset) have been removed.\n",
    "print('azdias_clean dataset after', azdias_clean.shape)\n",
    "print('feat_info after', feat_info.shape)"
   ]
  },
  {
   "cell_type": "markdown",
   "metadata": {},
   "source": [
    "Display the removed mixed features:"
   ]
  },
  {
   "cell_type": "code",
   "execution_count": 42,
   "metadata": {},
   "outputs": [
    {
     "name": "stdout",
     "output_type": "stream",
     "text": [
      "LP_LEBENSPHASE_FEIN\n",
      "LP_LEBENSPHASE_GROB\n",
      "WOHNLAGE\n",
      "PLZ8_BAUMAX\n"
     ]
    }
   ],
   "source": [
    "# Do whatever you need to in order to ensure that the dataframe only contains\n",
    "# the columns that should be passed to the algorithm functions.\n",
    "#\n",
    "# Remove the mixed features.\n",
    "mixed_features = feat_info[feat_info['type'] == 'mixed']['attribute']\n",
    "for feature in mixed_features:\n",
    "    print(feature)\n",
    "    azdias_clean.drop(feature, axis = 1, inplace = True)"
   ]
  },
  {
   "cell_type": "markdown",
   "metadata": {},
   "source": [
    " Display sample data to show only the necessary columns exist:"
   ]
  },
  {
   "cell_type": "code",
   "execution_count": 43,
   "metadata": {},
   "outputs": [
    {
     "data": {
      "text/html": [
       "<div>\n",
       "<style scoped>\n",
       "    .dataframe tbody tr th:only-of-type {\n",
       "        vertical-align: middle;\n",
       "    }\n",
       "\n",
       "    .dataframe tbody tr th {\n",
       "        vertical-align: top;\n",
       "    }\n",
       "\n",
       "    .dataframe thead th {\n",
       "        text-align: right;\n",
       "    }\n",
       "</style>\n",
       "<table border=\"1\" class=\"dataframe\">\n",
       "  <thead>\n",
       "    <tr style=\"text-align: right;\">\n",
       "      <th></th>\n",
       "      <th>ALTERSKATEGORIE_GROB</th>\n",
       "      <th>ANREDE_KZ</th>\n",
       "      <th>FINANZ_MINIMALIST</th>\n",
       "      <th>FINANZ_SPARER</th>\n",
       "      <th>FINANZ_VORSORGER</th>\n",
       "      <th>FINANZ_ANLEGER</th>\n",
       "      <th>FINANZ_UNAUFFAELLIGER</th>\n",
       "      <th>FINANZ_HAUSBAUER</th>\n",
       "      <th>GREEN_AVANTGARDE</th>\n",
       "      <th>HEALTH_TYP</th>\n",
       "      <th>...</th>\n",
       "      <th>PLZ8_ANTG4</th>\n",
       "      <th>PLZ8_HHZ</th>\n",
       "      <th>PLZ8_GBZ</th>\n",
       "      <th>ARBEIT</th>\n",
       "      <th>ORTSGR_KLS9</th>\n",
       "      <th>RELAT_AB</th>\n",
       "      <th>DECADE</th>\n",
       "      <th>MOVEMENT</th>\n",
       "      <th>WEALTH</th>\n",
       "      <th>LIFE_STAGE</th>\n",
       "    </tr>\n",
       "  </thead>\n",
       "  <tbody>\n",
       "    <tr>\n",
       "      <th>0</th>\n",
       "      <td>2.0</td>\n",
       "      <td>1.0</td>\n",
       "      <td>3.0</td>\n",
       "      <td>4.0</td>\n",
       "      <td>3.0</td>\n",
       "      <td>5.0</td>\n",
       "      <td>5.0</td>\n",
       "      <td>3.0</td>\n",
       "      <td>0</td>\n",
       "      <td>NaN</td>\n",
       "      <td>...</td>\n",
       "      <td>NaN</td>\n",
       "      <td>NaN</td>\n",
       "      <td>NaN</td>\n",
       "      <td>NaN</td>\n",
       "      <td>NaN</td>\n",
       "      <td>NaN</td>\n",
       "      <td>NaN</td>\n",
       "      <td>NaN</td>\n",
       "      <td>NaN</td>\n",
       "      <td>NaN</td>\n",
       "    </tr>\n",
       "    <tr>\n",
       "      <th>1</th>\n",
       "      <td>1.0</td>\n",
       "      <td>2.0</td>\n",
       "      <td>1.0</td>\n",
       "      <td>5.0</td>\n",
       "      <td>2.0</td>\n",
       "      <td>5.0</td>\n",
       "      <td>4.0</td>\n",
       "      <td>5.0</td>\n",
       "      <td>0</td>\n",
       "      <td>3.0</td>\n",
       "      <td>...</td>\n",
       "      <td>1.0</td>\n",
       "      <td>5.0</td>\n",
       "      <td>4.0</td>\n",
       "      <td>3.0</td>\n",
       "      <td>5.0</td>\n",
       "      <td>4.0</td>\n",
       "      <td>6.0</td>\n",
       "      <td>1.0</td>\n",
       "      <td>5.0</td>\n",
       "      <td>1.0</td>\n",
       "    </tr>\n",
       "    <tr>\n",
       "      <th>2</th>\n",
       "      <td>3.0</td>\n",
       "      <td>2.0</td>\n",
       "      <td>1.0</td>\n",
       "      <td>4.0</td>\n",
       "      <td>1.0</td>\n",
       "      <td>2.0</td>\n",
       "      <td>3.0</td>\n",
       "      <td>5.0</td>\n",
       "      <td>1</td>\n",
       "      <td>3.0</td>\n",
       "      <td>...</td>\n",
       "      <td>0.0</td>\n",
       "      <td>4.0</td>\n",
       "      <td>4.0</td>\n",
       "      <td>3.0</td>\n",
       "      <td>5.0</td>\n",
       "      <td>2.0</td>\n",
       "      <td>6.0</td>\n",
       "      <td>0.0</td>\n",
       "      <td>2.0</td>\n",
       "      <td>4.0</td>\n",
       "    </tr>\n",
       "    <tr>\n",
       "      <th>3</th>\n",
       "      <td>4.0</td>\n",
       "      <td>2.0</td>\n",
       "      <td>4.0</td>\n",
       "      <td>2.0</td>\n",
       "      <td>5.0</td>\n",
       "      <td>2.0</td>\n",
       "      <td>1.0</td>\n",
       "      <td>2.0</td>\n",
       "      <td>0</td>\n",
       "      <td>2.0</td>\n",
       "      <td>...</td>\n",
       "      <td>0.0</td>\n",
       "      <td>3.0</td>\n",
       "      <td>4.0</td>\n",
       "      <td>2.0</td>\n",
       "      <td>3.0</td>\n",
       "      <td>3.0</td>\n",
       "      <td>4.0</td>\n",
       "      <td>1.0</td>\n",
       "      <td>1.0</td>\n",
       "      <td>2.0</td>\n",
       "    </tr>\n",
       "    <tr>\n",
       "      <th>4</th>\n",
       "      <td>3.0</td>\n",
       "      <td>1.0</td>\n",
       "      <td>4.0</td>\n",
       "      <td>3.0</td>\n",
       "      <td>4.0</td>\n",
       "      <td>1.0</td>\n",
       "      <td>3.0</td>\n",
       "      <td>2.0</td>\n",
       "      <td>0</td>\n",
       "      <td>3.0</td>\n",
       "      <td>...</td>\n",
       "      <td>1.0</td>\n",
       "      <td>3.0</td>\n",
       "      <td>3.0</td>\n",
       "      <td>4.0</td>\n",
       "      <td>6.0</td>\n",
       "      <td>5.0</td>\n",
       "      <td>4.0</td>\n",
       "      <td>1.0</td>\n",
       "      <td>4.0</td>\n",
       "      <td>3.0</td>\n",
       "    </tr>\n",
       "  </tbody>\n",
       "</table>\n",
       "<p>5 rows × 64 columns</p>\n",
       "</div>"
      ],
      "text/plain": [
       "   ALTERSKATEGORIE_GROB  ANREDE_KZ  FINANZ_MINIMALIST  FINANZ_SPARER  \\\n",
       "0                   2.0        1.0                3.0            4.0   \n",
       "1                   1.0        2.0                1.0            5.0   \n",
       "2                   3.0        2.0                1.0            4.0   \n",
       "3                   4.0        2.0                4.0            2.0   \n",
       "4                   3.0        1.0                4.0            3.0   \n",
       "\n",
       "   FINANZ_VORSORGER  FINANZ_ANLEGER  FINANZ_UNAUFFAELLIGER  FINANZ_HAUSBAUER  \\\n",
       "0               3.0             5.0                    5.0               3.0   \n",
       "1               2.0             5.0                    4.0               5.0   \n",
       "2               1.0             2.0                    3.0               5.0   \n",
       "3               5.0             2.0                    1.0               2.0   \n",
       "4               4.0             1.0                    3.0               2.0   \n",
       "\n",
       "   GREEN_AVANTGARDE  HEALTH_TYP  ...  PLZ8_ANTG4  PLZ8_HHZ  PLZ8_GBZ  ARBEIT  \\\n",
       "0                 0         NaN  ...         NaN       NaN       NaN     NaN   \n",
       "1                 0         3.0  ...         1.0       5.0       4.0     3.0   \n",
       "2                 1         3.0  ...         0.0       4.0       4.0     3.0   \n",
       "3                 0         2.0  ...         0.0       3.0       4.0     2.0   \n",
       "4                 0         3.0  ...         1.0       3.0       3.0     4.0   \n",
       "\n",
       "   ORTSGR_KLS9  RELAT_AB  DECADE  MOVEMENT  WEALTH  LIFE_STAGE  \n",
       "0          NaN       NaN     NaN       NaN     NaN         NaN  \n",
       "1          5.0       4.0     6.0       1.0     5.0         1.0  \n",
       "2          5.0       2.0     6.0       0.0     2.0         4.0  \n",
       "3          3.0       3.0     4.0       1.0     1.0         2.0  \n",
       "4          6.0       5.0     4.0       1.0     4.0         3.0  \n",
       "\n",
       "[5 rows x 64 columns]"
      ]
     },
     "execution_count": 43,
     "metadata": {},
     "output_type": "execute_result"
    }
   ],
   "source": [
    "# Display sample data to show only the necessary columns exist.\n",
    "azdias_clean.head()"
   ]
  },
  {
   "cell_type": "markdown",
   "metadata": {},
   "source": [
    "### Step 1.3: Create a Cleaning Function\n",
    "\n",
    "Even though you've finished cleaning up the general population demographics data, it's important to look ahead to the future and realize that you'll need to perform the same cleaning steps on the customer demographics data. In this substep, complete the function below to execute the main feature selection, encoding, and re-engineering steps you performed above. Then, when it comes to looking at the customer data in Step 3, you can just run this function on that DataFrame to get the trimmed dataset in a single step."
   ]
  },
  {
   "cell_type": "markdown",
   "metadata": {},
   "source": [
    "Here is the cleaning function."
   ]
  },
  {
   "cell_type": "code",
   "execution_count": 44,
   "metadata": {},
   "outputs": [],
   "source": [
    "def clean_data(df):\n",
    "    \"\"\"\n",
    "    Perform feature trimming, re-encoding, and engineering for demographics\n",
    "    data\n",
    "    \n",
    "    INPUT: Demographics DataFrame\n",
    "    OUTPUT: Trimmed and cleaned demographics DataFrame\n",
    "    \"\"\"\n",
    "\n",
    "    # Load feature data.\n",
    "    feature_data = pd.read_csv('AZDIAS_Feature_Summary.csv', sep = ';')\n",
    "    \n",
    "    print('Start clean_data function:')\n",
    "    print('dataset shape =', df.shape)\n",
    "    print('features dataset shape =', feature_data.shape)\n",
    "    \n",
    "    # Convert missing data to NaNs.\n",
    "    for column in range(df.shape[1]):\n",
    "        name_of_column = df.columns[column]\n",
    "        nan_list = feature_data.iloc[column, 3]\n",
    "        nan_list = nan_list.replace('[', '')\n",
    "        nan_list = nan_list.replace(']', '')\n",
    "        nan_list = nan_list.split(',')\n",
    "        if nan_list != ['']:\n",
    "            for nan_code in nan_list:\n",
    "                if df[name_of_column].dtype == 'object':\n",
    "                    df.loc[df[name_of_column] == nan_code, name_of_column] = np.nan\n",
    "                else:\n",
    "                    nan_code = int(nan_code)\n",
    "                    df.loc[df[name_of_column] == nan_code, name_of_column] = np.nan\n",
    "    \n",
    "    print('\\nConverted the missing data to NaNs.')\n",
    "    \n",
    "    print('\\nRemove outliers:')\n",
    "    # Outliers are all columns with >= 200,000 missing data. These are columns from the general dataset.\n",
    "    # These cannot be calculated from the subset data as the subset data may contain better quality data\n",
    "    # for the subset compared to the general population, i.e. the subset columns may not contain missing data.\n",
    "    outlier_columns = ['AGER_TYP', 'GEBURTSJAHR', 'TITEL_KZ', 'ALTER_HH', 'KK_KUNDENTYP', 'KBA05_BAUMAX']\n",
    "    print(outlier_columns)\n",
    "\n",
    "    # Determine the outlier rows.\n",
    "    outlier_rows = feature_data.loc[feature_data['attribute'].isin(outlier_columns)].index.tolist()\n",
    "\n",
    "    # Drop outlier columns from df dataset.\n",
    "    df = df.drop(columns = outlier_columns)\n",
    "\n",
    "    # Drop outlier rows from feature_data dataset.\n",
    "    feature_data = feature_data.drop(outlier_rows)\n",
    "    print('Removed outliers.')\n",
    "    \n",
    "    # Remove selected columns and rows, ...\n",
    "    missing_data_lt_25 = df[df.isnull().sum(axis = 1) < 25].reset_index(drop = True)\n",
    "    few_or_no_missing_data = df.iloc[missing_data_lt_25.index, :]\n",
    "    df_clean = few_or_no_missing_data\n",
    "    print('\\nRemoved data with more than or equal to 25 missing data.')\n",
    "    \n",
    "    print('\\nRemove multi-level features, and re-encode OST_WEST_KZ feature:')\n",
    "    # Determine categorical features.\n",
    "    categorical_features = feature_data[feature_data['type'] == 'categorical']['attribute'].values\n",
    "    categorical_features = [feature for feature in categorical_features if feature in df_clean.columns]\n",
    "\n",
    "    # Determine the multi-level features.\n",
    "    multi_level_features = [feature for feature in categorical_features if df_clean[feature].nunique() > 2]\n",
    "\n",
    "    # Remove multi-level features.\n",
    "    for feature in multi_level_features:\n",
    "        print(feature)\n",
    "        df_clean = df_clean.drop(feature, axis = 1)\n",
    "\n",
    "    # Re-encode to keep in the analysis.\n",
    "    new_data = {'W': 0, 'O': 1}\n",
    "    df_clean = df_clean.replace({'OST_WEST_KZ': new_data})\n",
    "    print('Removed multi-level features, and re-encoded OST_WEST_KZ feature with', new_data, '.')\n",
    "    \n",
    "    # Add new columns.\n",
    "    df_clean['DECADE'] = df_clean['PRAEGENDE_JUGENDJAHRE']\n",
    "    df_clean['MOVEMENT'] = df_clean['PRAEGENDE_JUGENDJAHRE']\n",
    "\n",
    "    # Create dictionaries to map initial feature values to new feature values.\n",
    "    decade_dictionary = {1:1, 2:1, 3:2, 4:2, 5:3, 6:3, 7:3, 8:4, 9:4, 10:5, 11:5, 12:5, 13:5, 14:6, 15:6}\n",
    "    movement_dictionary = {1:1, 2:0, 3:1, 4:0, 5:1, 6:0, 7:0, 8:1, 9:0, 10:1, 11:0, 12:1, 13:0, 14:1, 15:0}\n",
    "\n",
    "    # Replace using the dictionaries.\n",
    "    df_clean['DECADE'].replace(decade_dictionary, inplace = True)\n",
    "    df_clean['MOVEMENT'].replace(movement_dictionary, inplace = True)\n",
    "\n",
    "    # Add new columns.\n",
    "    df_clean['WEALTH'] = df_clean['CAMEO_INTL_2015']\n",
    "    df_clean['LIFE_STAGE'] = df_clean['CAMEO_INTL_2015']\n",
    "\n",
    "    # Create dictionaries to map initial feature values to new feature values.\n",
    "    wealth_dictionary = {'11':1, '12':1, '13':1, '14':1, '15':1, '21':2, '22':2, '23':2, '24':2, '25':2,\n",
    "                   '31':3, '32':3, '33':3, '34':3, '35':3, '41':4, '42':4, '43':4, '44':4, '45':4,\n",
    "                   '51':5, '52':5, '53':5, '54':5, '55':5}\n",
    "\n",
    "    life_stage_dictionary = {'11':1, '12':2, '13':3, '14':4, '15':5, '21':1, '22':2, '23':3, '24':4, '25':5,\n",
    "                       '31':1, '32':2, '33':3, '34':4, '35':5, '41':1, '42':2, '43':3, '44':4, '45':5,\n",
    "                       '51':1, '52':2, '53':3, '54':4, '55':5}\n",
    "\n",
    "    # Replace using the dictionaries.\n",
    "    df_clean['WEALTH'].replace(wealth_dictionary, inplace = True)\n",
    "    df_clean['LIFE_STAGE'].replace(life_stage_dictionary, inplace = True)\n",
    "    print('\\nAdded new columns derived from engineering columns.')\n",
    "\n",
    "    # Exclude the original engineered columns (rows in the case of the feat_info dataset) (PRAEGENDE_JUGENDJAHRE\n",
    "    # and CAMEO_INTL_2015) from the two datasets.\n",
    "    engineered_columns = ['PRAEGENDE_JUGENDJAHRE', 'CAMEO_INTL_2015']\n",
    "\n",
    "    # Drop engineered columns from azdias_clean dataset.\n",
    "    df_clean = df_clean.drop(columns = engineered_columns)\n",
    "\n",
    "    # Find the rows that correspond to the engineered columns.\n",
    "    engineered_rows = feature_data.loc[feature_data['attribute'].isin(engineered_columns)].index.tolist()\n",
    "\n",
    "    # Drop engineered rows from feat_info dataset.\n",
    "    feature_data = feature_data.drop(engineered_rows)\n",
    "\n",
    "    # Display the rows x columns of both datasets to show the original engineered columns (rows in the case of the\n",
    "    # feature_data dataset) have been removed.\n",
    "    print('\\nRemoved original engineered columns (rows for feature_data dataset).')\n",
    "    \n",
    "    print('\\nRemove mixed features:')\n",
    "    # Remove mixed features.\n",
    "    mixed_features = feature_data[feature_data['type'] == 'mixed']['attribute']\n",
    "    for feature in mixed_features:\n",
    "        print(feature)\n",
    "        df_clean.drop(feature, axis = 1, inplace = True)\n",
    "    print('Removed mixed features.')\n",
    "    \n",
    "    # Remove any remaining NaNs.\n",
    "    df_remaining_missing_data = Imputer(missing_values = np.nan, strategy = 'mean')\n",
    "    df_clean = pd.DataFrame(df_remaining_missing_data.fit_transform(df_clean), columns = df_clean.columns)\n",
    "    print('\\nRemoved any remaining NaNs.\\n')\n",
    "    \n",
    "    # Return the cleaned dataframe.\n",
    "    print('dataset shape =', df_clean.shape)\n",
    "    print('feature dataset shape =', feature_data.shape)\n",
    "    print('Finished clean_data function.')\n",
    "    return df_clean"
   ]
  },
  {
   "cell_type": "markdown",
   "metadata": {},
   "source": [
    "Test out the cleaning function with the non-cleaned `azdias_unclean` dataset:"
   ]
  },
  {
   "cell_type": "code",
   "execution_count": 45,
   "metadata": {},
   "outputs": [],
   "source": [
    "# Recreate the unclean dataset.\n",
    "azdias_unclean = pd.read_csv('Udacity_AZDIAS_Subset.csv', sep = ';')"
   ]
  },
  {
   "cell_type": "code",
   "execution_count": 46,
   "metadata": {},
   "outputs": [
    {
     "name": "stdout",
     "output_type": "stream",
     "text": [
      "Start clean_data function:\n",
      "dataset shape = (891221, 85)\n",
      "features dataset shape = (85, 4)\n",
      "\n",
      "Converted the missing data to NaNs.\n",
      "\n",
      "Remove outliers:\n",
      "['AGER_TYP', 'GEBURTSJAHR', 'TITEL_KZ', 'ALTER_HH', 'KK_KUNDENTYP', 'KBA05_BAUMAX']\n",
      "Removed outliers.\n",
      "\n",
      "Removed data with more than or equal to 25 missing data.\n",
      "\n",
      "Remove multi-level features, and re-encode OST_WEST_KZ feature:\n",
      "CJT_GESAMTTYP\n",
      "FINANZTYP\n",
      "GFK_URLAUBERTYP\n",
      "LP_FAMILIE_FEIN\n",
      "LP_FAMILIE_GROB\n",
      "LP_STATUS_FEIN\n",
      "LP_STATUS_GROB\n",
      "NATIONALITAET_KZ\n",
      "SHOPPER_TYP\n",
      "ZABEOTYP\n",
      "GEBAEUDETYP\n",
      "CAMEO_DEUG_2015\n",
      "CAMEO_DEU_2015\n",
      "Removed multi-level features, and re-encoded OST_WEST_KZ feature with {'W': 0, 'O': 1} .\n",
      "\n",
      "Added new columns derived from engineering columns.\n",
      "\n",
      "Removed original engineered columns (rows for feature_data dataset).\n",
      "\n",
      "Remove mixed features:\n",
      "LP_LEBENSPHASE_FEIN\n",
      "LP_LEBENSPHASE_GROB\n",
      "WOHNLAGE\n",
      "PLZ8_BAUMAX\n",
      "Removed mixed features.\n",
      "\n",
      "Removed any remaining NaNs.\n",
      "\n",
      "dataset shape = (797906, 64)\n",
      "feature dataset shape = (77, 4)\n",
      "Finished clean_data function.\n"
     ]
    }
   ],
   "source": [
    "# Clean it.\n",
    "df_test = clean_data(azdias_unclean)"
   ]
  },
  {
   "cell_type": "markdown",
   "metadata": {},
   "source": [
    "Display the number of rows and columns in the cleaned `azdias_clean` dataset:"
   ]
  },
  {
   "cell_type": "code",
   "execution_count": 47,
   "metadata": {},
   "outputs": [
    {
     "name": "stdout",
     "output_type": "stream",
     "text": [
      "(797906, 64)\n"
     ]
    }
   ],
   "source": [
    "# Show rows and column counts.\n",
    "print(azdias_clean.shape)"
   ]
  },
  {
   "cell_type": "markdown",
   "metadata": {},
   "source": [
    "Display the number of rows and columns in the newly cleaned `df_test` dataset:"
   ]
  },
  {
   "cell_type": "code",
   "execution_count": 48,
   "metadata": {},
   "outputs": [
    {
     "name": "stdout",
     "output_type": "stream",
     "text": [
      "(797906, 64)\n"
     ]
    }
   ],
   "source": [
    "# Show rows and column counts.\n",
    "print(df_test.shape)"
   ]
  },
  {
   "cell_type": "markdown",
   "metadata": {},
   "source": [
    "Display the columns contained within the `azdias_clean` dataset:"
   ]
  },
  {
   "cell_type": "code",
   "execution_count": 49,
   "metadata": {},
   "outputs": [
    {
     "data": {
      "text/plain": [
       "Index(['ALTERSKATEGORIE_GROB', 'ANREDE_KZ', 'FINANZ_MINIMALIST',\n",
       "       'FINANZ_SPARER', 'FINANZ_VORSORGER', 'FINANZ_ANLEGER',\n",
       "       'FINANZ_UNAUFFAELLIGER', 'FINANZ_HAUSBAUER', 'GREEN_AVANTGARDE',\n",
       "       'HEALTH_TYP', 'RETOURTYP_BK_S', 'SEMIO_SOZ', 'SEMIO_FAM', 'SEMIO_REL',\n",
       "       'SEMIO_MAT', 'SEMIO_VERT', 'SEMIO_LUST', 'SEMIO_ERL', 'SEMIO_KULT',\n",
       "       'SEMIO_RAT', 'SEMIO_KRIT', 'SEMIO_DOM', 'SEMIO_KAEM', 'SEMIO_PFLICHT',\n",
       "       'SEMIO_TRADV', 'SOHO_KZ', 'VERS_TYP', 'ANZ_PERSONEN', 'ANZ_TITEL',\n",
       "       'HH_EINKOMMEN_SCORE', 'W_KEIT_KIND_HH', 'WOHNDAUER_2008',\n",
       "       'ANZ_HAUSHALTE_AKTIV', 'ANZ_HH_TITEL', 'KONSUMNAEHE',\n",
       "       'MIN_GEBAEUDEJAHR', 'OST_WEST_KZ', 'KBA05_ANTG1', 'KBA05_ANTG2',\n",
       "       'KBA05_ANTG3', 'KBA05_ANTG4', 'KBA05_GBZ', 'BALLRAUM', 'EWDICHTE',\n",
       "       'INNENSTADT', 'GEBAEUDETYP_RASTER', 'KKK', 'MOBI_REGIO',\n",
       "       'ONLINE_AFFINITAET', 'REGIOTYP', 'KBA13_ANZAHL_PKW', 'PLZ8_ANTG1',\n",
       "       'PLZ8_ANTG2', 'PLZ8_ANTG3', 'PLZ8_ANTG4', 'PLZ8_HHZ', 'PLZ8_GBZ',\n",
       "       'ARBEIT', 'ORTSGR_KLS9', 'RELAT_AB', 'DECADE', 'MOVEMENT', 'WEALTH',\n",
       "       'LIFE_STAGE'],\n",
       "      dtype='object')"
      ]
     },
     "execution_count": 49,
     "metadata": {},
     "output_type": "execute_result"
    }
   ],
   "source": [
    "# Show the columns.\n",
    "azdias_clean.columns"
   ]
  },
  {
   "cell_type": "markdown",
   "metadata": {},
   "source": [
    "Display the columns contained within the `df` dataset:"
   ]
  },
  {
   "cell_type": "code",
   "execution_count": 50,
   "metadata": {},
   "outputs": [
    {
     "data": {
      "text/plain": [
       "Index(['ALTERSKATEGORIE_GROB', 'ANREDE_KZ', 'FINANZ_MINIMALIST',\n",
       "       'FINANZ_SPARER', 'FINANZ_VORSORGER', 'FINANZ_ANLEGER',\n",
       "       'FINANZ_UNAUFFAELLIGER', 'FINANZ_HAUSBAUER', 'GREEN_AVANTGARDE',\n",
       "       'HEALTH_TYP', 'RETOURTYP_BK_S', 'SEMIO_SOZ', 'SEMIO_FAM', 'SEMIO_REL',\n",
       "       'SEMIO_MAT', 'SEMIO_VERT', 'SEMIO_LUST', 'SEMIO_ERL', 'SEMIO_KULT',\n",
       "       'SEMIO_RAT', 'SEMIO_KRIT', 'SEMIO_DOM', 'SEMIO_KAEM', 'SEMIO_PFLICHT',\n",
       "       'SEMIO_TRADV', 'SOHO_KZ', 'VERS_TYP', 'ANZ_PERSONEN', 'ANZ_TITEL',\n",
       "       'HH_EINKOMMEN_SCORE', 'W_KEIT_KIND_HH', 'WOHNDAUER_2008',\n",
       "       'ANZ_HAUSHALTE_AKTIV', 'ANZ_HH_TITEL', 'KONSUMNAEHE',\n",
       "       'MIN_GEBAEUDEJAHR', 'OST_WEST_KZ', 'KBA05_ANTG1', 'KBA05_ANTG2',\n",
       "       'KBA05_ANTG3', 'KBA05_ANTG4', 'KBA05_GBZ', 'BALLRAUM', 'EWDICHTE',\n",
       "       'INNENSTADT', 'GEBAEUDETYP_RASTER', 'KKK', 'MOBI_REGIO',\n",
       "       'ONLINE_AFFINITAET', 'REGIOTYP', 'KBA13_ANZAHL_PKW', 'PLZ8_ANTG1',\n",
       "       'PLZ8_ANTG2', 'PLZ8_ANTG3', 'PLZ8_ANTG4', 'PLZ8_HHZ', 'PLZ8_GBZ',\n",
       "       'ARBEIT', 'ORTSGR_KLS9', 'RELAT_AB', 'DECADE', 'MOVEMENT', 'WEALTH',\n",
       "       'LIFE_STAGE'],\n",
       "      dtype='object')"
      ]
     },
     "execution_count": 50,
     "metadata": {},
     "output_type": "execute_result"
    }
   ],
   "source": [
    "# Show the columns.\n",
    "df_test.columns"
   ]
  },
  {
   "cell_type": "markdown",
   "metadata": {},
   "source": [
    "As can be seen from the previous tests, comparing the known clean `azdias_clean` dataset with the `df_test` dataset (built using the `clean_data()` function), shows them to have the same number of rows and columns, as well as the same columns.  This shows that the `clean_data()` function is working."
   ]
  },
  {
   "cell_type": "markdown",
   "metadata": {},
   "source": [
    "## Step 2: Feature Transformation\n",
    "\n",
    "### Step 2.1: Apply Feature Scaling\n",
    "\n",
    "Before we apply dimensionality reduction techniques to the data, we need to perform feature scaling so that the principal component vectors are not influenced by the natural differences in scale for features. Starting from this part of the project, you'll want to keep an eye on the [API reference page for sklearn](http://scikit-learn.org/stable/modules/classes.html) to help you navigate to all of the classes and functions that you'll need. In this substep, you'll need to check the following:\n",
    "\n",
    "- sklearn requires that data not have missing values in order for its estimators to work properly. So, before applying the scaler to your data, make sure that you've cleaned the DataFrame of the remaining missing values. This can be as simple as just removing all data points with missing data, or applying an [Imputer](https://scikit-learn.org/0.16/modules/generated/sklearn.preprocessing.Imputer.html) to replace all missing values. You might also try a more complicated procedure where you temporarily remove missing values in order to compute the scaling parameters before re-introducing those missing values and applying imputation. Think about how much missing data you have and what possible effects each approach might have on your analysis, and justify your decision in the discussion section below.\n",
    "- For the actual scaling function, a [StandardScaler](http://scikit-learn.org/stable/modules/generated/sklearn.preprocessing.StandardScaler.html) instance is suggested, scaling each feature to mean 0 and standard deviation 1.\n",
    "- For these classes, you can make use of the `.fit_transform()` method to both fit a procedure to the data as well as apply the transformation to the data at the same time. Don't forget to keep the fit sklearn objects handy, since you'll be applying them to the customer demographics data towards the end of the project."
   ]
  },
  {
   "cell_type": "markdown",
   "metadata": {},
   "source": [
    "Clean the dataset of all remaining NaN values:"
   ]
  },
  {
   "cell_type": "code",
   "execution_count": 51,
   "metadata": {},
   "outputs": [],
   "source": [
    "# If you've not yet cleaned the dataset of all NaN values, then investigate and\n",
    "# do that now.\n",
    "# Remove any remaining NaNs.\n",
    "azdias_remaining_missing_data = Imputer(missing_values = np.nan, strategy = 'mean')\n",
    "azdias_clean = pd.DataFrame(azdias_remaining_missing_data.fit_transform(azdias_clean), columns = azdias_clean.columns)"
   ]
  },
  {
   "cell_type": "markdown",
   "metadata": {},
   "source": [
    "Show the number of missing data to confirm whether any further cleaning is required:"
   ]
  },
  {
   "cell_type": "code",
   "execution_count": 52,
   "metadata": {},
   "outputs": [
    {
     "name": "stdout",
     "output_type": "stream",
     "text": [
      "0\n"
     ]
    }
   ],
   "source": [
    "# Display the number of missing data.\n",
    "print(count_nan(azdias_clean))"
   ]
  },
  {
   "cell_type": "markdown",
   "metadata": {},
   "source": [
    "Here the number of missing data is 0, so no further cleaning is required."
   ]
  },
  {
   "cell_type": "markdown",
   "metadata": {},
   "source": [
    "Apply the feature scaling to the data:"
   ]
  },
  {
   "cell_type": "code",
   "execution_count": 53,
   "metadata": {},
   "outputs": [],
   "source": [
    "# Apply feature scaling to the general population demographics data.\n",
    "scaler = StandardScaler()\n",
    "azdias_clean = pd.DataFrame(scaler.fit_transform(azdias_clean), columns = azdias_clean.columns)"
   ]
  },
  {
   "cell_type": "markdown",
   "metadata": {},
   "source": [
    "### Discussion 2.1: Apply Feature Scaling\n",
    "\n",
    "The data was cleaned prior to this step. Any remaining NaNs are cleaned via imputing. The missing data were replaced with the *mean* using the `Imputer`. `StandardScaler` was used to scale all features, so that its distribution will have a *mean* of 0 and a *standard deviation* of 1. The number of missing data was calculated to see if any further cleaning was required.  The number of missing data was 0, so no further cleaning is required."
   ]
  },
  {
   "cell_type": "markdown",
   "metadata": {},
   "source": [
    "### Step 2.2: Perform Dimensionality Reduction\n",
    "\n",
    "On your scaled data, you are now ready to apply dimensionality reduction techniques.\n",
    "\n",
    "- Use sklearn's [PCA](http://scikit-learn.org/stable/modules/generated/sklearn.decomposition.PCA.html) class to apply principal component analysis on the data, thus finding the vectors of maximal variance in the data. To start, you should not set any parameters (so all components are computed) or set a number of components that is at least half the number of features (so there's enough features to see the general trend in variability).\n",
    "- Check out the ratio of variance explained by each principal component as well as the cumulative variance explained. Try plotting the cumulative or sequential values using matplotlib's [`plot()`](https://matplotlib.org/api/_as_gen/matplotlib.pyplot.plot.html) function. Based on what you find, select a value for the number of transformed features you'll retain for the clustering part of the project.\n",
    "- Once you've made a choice for the number of components to keep, make sure you re-fit a PCA instance to perform the decided-on transformation."
   ]
  },
  {
   "cell_type": "markdown",
   "metadata": {},
   "source": [
    "Apply PCA to the dataset without any parameters as instructed:"
   ]
  },
  {
   "cell_type": "code",
   "execution_count": 54,
   "metadata": {},
   "outputs": [],
   "source": [
    "# Apply PCA to the dataset.\n",
    "pca = PCA()\n",
    "azdias_clean_pca = pca.fit_transform(azdias_clean)"
   ]
  },
  {
   "cell_type": "markdown",
   "metadata": {},
   "source": [
    "Show a chart of the variance explained by each component:"
   ]
  },
  {
   "cell_type": "code",
   "execution_count": 55,
   "metadata": {},
   "outputs": [
    {
     "data": {
      "image/png": "[encoded data removed]",
      "text/plain": [
       "<Figure size 432x288 with 1 Axes>"
      ]
     },
     "metadata": {
      "needs_background": "light"
     },
     "output_type": "display_data"
    }
   ],
   "source": [
    "# Investigate the variance explained by each principal component.\n",
    "plot.bar(range(len(pca.explained_variance_ratio_)), pca.explained_variance_ratio_)\n",
    "plot.title('Variance Explained By Each Principal Component:')\n",
    "plot.xlabel(\"Number of Principal Components\")\n",
    "plot.ylabel(\"Ratio of Variance Explained\")\n",
    "\n",
    "# Display the chart.\n",
    "plot.show()"
   ]
  },
  {
   "cell_type": "markdown",
   "metadata": {},
   "source": [
    "Show a chart of the cumulative variance explained:"
   ]
  },
  {
   "cell_type": "code",
   "execution_count": 56,
   "metadata": {},
   "outputs": [
    {
     "data": {
      "image/png": "[encoded data removed]",
      "text/plain": [
       "<Figure size 432x288 with 1 Axes>"
      ]
     },
     "metadata": {
      "needs_background": "light"
     },
     "output_type": "display_data"
    }
   ],
   "source": [
    "plot.plot(range(len(pca.explained_variance_ratio_)), np.cumsum(pca.explained_variance_ratio_), '-')\n",
    "plot.title('Cumulative Variance Explained By Each Principal Component:')\n",
    "plot.xlabel('Number of Principal Components')\n",
    "plot.ylabel('Ratio of Cumulative Variance Explained')\n",
    "\n",
    "# Display the chart.\n",
    "plot.show()"
   ]
  },
  {
   "cell_type": "markdown",
   "metadata": {},
   "source": [
    "As can be seen from the above chart, when the number of principal components is approximately 60, the ratio of cumulative variance explained is around 0.95. So, the value that I will retain for the clustering part of the project is 60."
   ]
  },
  {
   "cell_type": "markdown",
   "metadata": {},
   "source": [
    "Re-apply the PCA using the number of components to retain; in this case 60:"
   ]
  },
  {
   "cell_type": "code",
   "execution_count": 57,
   "metadata": {},
   "outputs": [],
   "source": [
    "# Re-apply PCA to the data while selecting for the number of components to retain (in this case 60).\n",
    "pca = PCA(n_components = 60)\n",
    "azdias_clean_pca = pca.fit_transform(azdias_clean)"
   ]
  },
  {
   "cell_type": "markdown",
   "metadata": {},
   "source": [
    "### Discussion 2.2: Perform Dimensionality Reduction\n",
    "\n",
    "From the graph above, we see that using 60 as the number of components corresponds with approximately 95% cumulative variance explained."
   ]
  },
  {
   "cell_type": "markdown",
   "metadata": {},
   "source": [
    "### Step 2.3: Interpret Principal Components\n",
    "\n",
    "Now that we have our transformed principal components, it's a nice idea to check out the weight of each variable on the first few components to see if they can be interpreted in some fashion.\n",
    "\n",
    "As a reminder, each principal component is a unit vector that points in the direction of highest variance (after accounting for the variance captured by earlier principal components). The further a weight is from zero, the more the principal component is in the direction of the corresponding feature. If two features have large weights of the same sign (both positive or both negative), then increases in one tend expect to be associated with increases in the other. To contrast, features with different signs can be expected to show a negative correlation: increases in one variable should result in a decrease in the other.\n",
    "\n",
    "- To investigate the features, you should map each weight to their corresponding feature name, then sort the features according to weight. The most interesting features for each principal component, then, will be those at the beginning and end of the sorted list. Use the data dictionary document to help you understand these most prominent features, their relationships, and what a positive or negative value on the principal component might indicate.\n",
    "- You should investigate and interpret feature associations from the first three principal components in this substep. To help facilitate this, you should write a function that you can call at any time to print the sorted list of feature weights, for the *i*-th principal component. This might come in handy in the next step of the project, when you interpret the tendencies of the discovered clusters."
   ]
  },
  {
   "cell_type": "markdown",
   "metadata": {},
   "source": [
    "Define a function to determine PCA weights:"
   ]
  },
  {
   "cell_type": "code",
   "execution_count": 58,
   "metadata": {},
   "outputs": [],
   "source": [
    "# HINT: Try defining a function here or in a new cell that you can reuse in the other cells.\n",
    "def pca_weights(a_clean, pca, i):\n",
    "    df = pd.DataFrame(pca.components_[i])\n",
    "    df.index = a_clean.columns\n",
    "    principal_component = 'Principal Component ' + str(i + 1)\n",
    "    df.columns = [principal_component]\n",
    "    weights = df.sort_values(by = [principal_component], ascending = False)\n",
    "    return weights"
   ]
  },
  {
   "cell_type": "markdown",
   "metadata": {},
   "source": [
    "Map weights for the first principal component and display those weights:"
   ]
  },
  {
   "cell_type": "code",
   "execution_count": 59,
   "metadata": {},
   "outputs": [
    {
     "name": "stdout",
     "output_type": "stream",
     "text": [
      "                       Principal Component 1\n",
      "PLZ8_ANTG3                          0.232915\n",
      "PLZ8_ANTG4                          0.225885\n",
      "WEALTH                              0.211125\n",
      "ORTSGR_KLS9                         0.204096\n",
      "EWDICHTE                            0.202342\n",
      "HH_EINKOMMEN_SCORE                  0.179875\n",
      "FINANZ_HAUSBAUER                    0.164822\n",
      "PLZ8_ANTG2                          0.158660\n",
      "KBA05_ANTG4                         0.157482\n",
      "ARBEIT                              0.148030\n",
      "ANZ_HAUSHALTE_AKTIV                 0.140799\n",
      "RELAT_AB                            0.139886\n",
      "KBA05_ANTG3                         0.137843\n",
      "FINANZ_SPARER                       0.134274\n",
      "MOVEMENT                            0.105987\n",
      "SEMIO_PFLICHT                       0.105051\n",
      "SEMIO_REL                           0.096772\n",
      "DECADE                              0.089102\n",
      "SEMIO_RAT                           0.086415\n",
      "SEMIO_TRADV                         0.075254\n",
      "REGIOTYP                            0.073626\n",
      "SEMIO_MAT                           0.070794\n",
      "SEMIO_FAM                           0.069143\n",
      "FINANZ_UNAUFFAELLIGER               0.063101\n",
      "FINANZ_ANLEGER                      0.060241\n",
      "SEMIO_KULT                          0.057464\n",
      "OST_WEST_KZ                         0.055018\n",
      "SEMIO_KAEM                          0.048439\n",
      "KKK                                 0.043334\n",
      "PLZ8_HHZ                            0.042885\n",
      "W_KEIT_KIND_HH                      0.041345\n",
      "ANZ_HH_TITEL                        0.035884\n",
      "SEMIO_SOZ                           0.031263\n",
      "SEMIO_DOM                           0.030838\n",
      "HEALTH_TYP                          0.029755\n",
      "VERS_TYP                            0.027730\n",
      "SEMIO_KRIT                          0.015010\n",
      "ANREDE_KZ                           0.012164\n",
      "KBA05_ANTG2                         0.008019\n",
      "SOHO_KZ                            -0.002224\n",
      "ANZ_TITEL                          -0.003827\n",
      "RETOURTYP_BK_S                     -0.011169\n",
      "SEMIO_VERT                         -0.046755\n",
      "ONLINE_AFFINITAET                  -0.051275\n",
      "MIN_GEBAEUDEJAHR                   -0.052301\n",
      "WOHNDAUER_2008                     -0.055193\n",
      "SEMIO_LUST                         -0.060886\n",
      "SEMIO_ERL                          -0.065826\n",
      "ANZ_PERSONEN                       -0.079920\n",
      "KBA13_ANZAHL_PKW                   -0.080473\n",
      "FINANZ_VORSORGER                   -0.103601\n",
      "ALTERSKATEGORIE_GROB               -0.105440\n",
      "GREEN_AVANTGARDE                   -0.109197\n",
      "GEBAEUDETYP_RASTER                 -0.120095\n",
      "LIFE_STAGE                         -0.125652\n",
      "BALLRAUM                           -0.132180\n",
      "INNENSTADT                         -0.170490\n",
      "KONSUMNAEHE                        -0.170993\n",
      "PLZ8_GBZ                           -0.172280\n",
      "FINANZ_MINIMALIST                  -0.214917\n",
      "KBA05_GBZ                          -0.222398\n",
      "KBA05_ANTG1                        -0.230171\n",
      "PLZ8_ANTG1                         -0.232261\n",
      "MOBI_REGIO                         -0.247236\n"
     ]
    }
   ],
   "source": [
    "# Map weights for the first principal component to corresponding feature names\n",
    "# and then print the linked values, sorted by weight.\n",
    "feature_weights_pc1 = pca_weights(azdias_clean, pca, 0)\n",
    "print(feature_weights_pc1)"
   ]
  },
  {
   "cell_type": "markdown",
   "metadata": {},
   "source": [
    "Map weights for the second principal component and display those weights:"
   ]
  },
  {
   "cell_type": "code",
   "execution_count": 60,
   "metadata": {},
   "outputs": [
    {
     "name": "stdout",
     "output_type": "stream",
     "text": [
      "                       Principal Component 2\n",
      "ALTERSKATEGORIE_GROB                0.270977\n",
      "FINANZ_VORSORGER                    0.251018\n",
      "SEMIO_ERL                           0.225109\n",
      "SEMIO_LUST                          0.185637\n",
      "RETOURTYP_BK_S                      0.172622\n",
      "W_KEIT_KIND_HH                      0.125396\n",
      "FINANZ_HAUSBAUER                    0.107974\n",
      "FINANZ_MINIMALIST                   0.090046\n",
      "EWDICHTE                            0.084480\n",
      "PLZ8_ANTG3                          0.084230\n",
      "ORTSGR_KLS9                         0.083100\n",
      "PLZ8_ANTG4                          0.080515\n",
      "WEALTH                              0.066647\n",
      "WOHNDAUER_2008                      0.066517\n",
      "HH_EINKOMMEN_SCORE                  0.064866\n",
      "ARBEIT                              0.062924\n",
      "KBA05_ANTG4                         0.062696\n",
      "SEMIO_KAEM                          0.061869\n",
      "SEMIO_KRIT                          0.061865\n",
      "RELAT_AB                            0.060447\n",
      "ANZ_HAUSHALTE_AKTIV                 0.058186\n",
      "PLZ8_ANTG2                          0.057895\n",
      "ANREDE_KZ                           0.054904\n",
      "KBA05_ANTG3                         0.036620\n",
      "VERS_TYP                            0.034290\n",
      "ANZ_HH_TITEL                        0.029901\n",
      "SEMIO_DOM                           0.028912\n",
      "OST_WEST_KZ                         0.024170\n",
      "REGIOTYP                            0.018509\n",
      "PLZ8_HHZ                            0.010903\n",
      "ANZ_TITEL                           0.007927\n",
      "LIFE_STAGE                          0.007076\n",
      "MOVEMENT                            0.003857\n",
      "GREEN_AVANTGARDE                    0.002957\n",
      "KKK                                 0.001999\n",
      "SOHO_KZ                            -0.001675\n",
      "SEMIO_VERT                         -0.008126\n",
      "KBA05_ANTG2                        -0.011131\n",
      "KBA13_ANZAHL_PKW                   -0.033461\n",
      "GEBAEUDETYP_RASTER                 -0.039834\n",
      "MIN_GEBAEUDEJAHR                   -0.049110\n",
      "BALLRAUM                           -0.055653\n",
      "ANZ_PERSONEN                       -0.056890\n",
      "SEMIO_SOZ                          -0.059809\n",
      "HEALTH_TYP                         -0.062007\n",
      "KONSUMNAEHE                        -0.062282\n",
      "PLZ8_GBZ                           -0.065588\n",
      "KBA05_ANTG1                        -0.068233\n",
      "INNENSTADT                         -0.068452\n",
      "MOBI_REGIO                         -0.077819\n",
      "KBA05_GBZ                          -0.078383\n",
      "PLZ8_ANTG1                         -0.081659\n",
      "ONLINE_AFFINITAET                  -0.159426\n",
      "SEMIO_MAT                          -0.169972\n",
      "SEMIO_FAM                          -0.175207\n",
      "SEMIO_KULT                         -0.188618\n",
      "SEMIO_RAT                          -0.195177\n",
      "FINANZ_ANLEGER                     -0.227305\n",
      "SEMIO_TRADV                        -0.234713\n",
      "FINANZ_UNAUFFAELLIGER              -0.239338\n",
      "SEMIO_PFLICHT                      -0.244416\n",
      "SEMIO_REL                          -0.252804\n",
      "FINANZ_SPARER                      -0.257439\n",
      "DECADE                             -0.264504\n"
     ]
    }
   ],
   "source": [
    "# Map weights for the second principal component to corresponding feature names\n",
    "# and then print the linked values, sorted by weight.\n",
    "feature_weights_pc2 = pca_weights(azdias_clean, pca, 1)\n",
    "print(feature_weights_pc2)"
   ]
  },
  {
   "cell_type": "markdown",
   "metadata": {},
   "source": [
    "Map weights for the third principal component and display those weights:"
   ]
  },
  {
   "cell_type": "code",
   "execution_count": 61,
   "metadata": {},
   "outputs": [
    {
     "name": "stdout",
     "output_type": "stream",
     "text": [
      "                       Principal Component 3\n",
      "SEMIO_VERT                          0.353607\n",
      "SEMIO_SOZ                           0.291003\n",
      "SEMIO_KULT                          0.282852\n",
      "SEMIO_FAM                           0.238198\n",
      "FINANZ_MINIMALIST                   0.134382\n",
      "RETOURTYP_BK_S                      0.080070\n",
      "SEMIO_MAT                           0.068504\n",
      "W_KEIT_KIND_HH                      0.066994\n",
      "FINANZ_VORSORGER                    0.064333\n",
      "SEMIO_REL                           0.059937\n",
      "GREEN_AVANTGARDE                    0.057202\n",
      "ALTERSKATEGORIE_GROB                0.040492\n",
      "PLZ8_ANTG4                          0.034605\n",
      "PLZ8_ANTG3                          0.033773\n",
      "ORTSGR_KLS9                         0.033733\n",
      "EWDICHTE                            0.032206\n",
      "ARBEIT                              0.027182\n",
      "HH_EINKOMMEN_SCORE                  0.026170\n",
      "RELAT_AB                            0.023782\n",
      "WEALTH                              0.022353\n",
      "PLZ8_ANTG2                          0.021960\n",
      "WOHNDAUER_2008                      0.019685\n",
      "KBA05_ANTG4                         0.018994\n",
      "ANZ_HAUSHALTE_AKTIV                 0.018321\n",
      "SEMIO_LUST                          0.017479\n",
      "OST_WEST_KZ                         0.013791\n",
      "ANZ_HH_TITEL                        0.007718\n",
      "ANZ_TITEL                           0.007376\n",
      "KBA05_ANTG3                         0.005648\n",
      "PLZ8_HHZ                            0.001472\n",
      "VERS_TYP                            0.000485\n",
      "SOHO_KZ                             0.000323\n",
      "ANZ_PERSONEN                        0.000154\n",
      "REGIOTYP                           -0.003272\n",
      "KBA05_ANTG2                        -0.008401\n",
      "KKK                                -0.009321\n",
      "MIN_GEBAEUDEJAHR                   -0.012061\n",
      "LIFE_STAGE                         -0.013337\n",
      "HEALTH_TYP                         -0.015780\n",
      "KBA05_ANTG1                        -0.016955\n",
      "ONLINE_AFFINITAET                  -0.017519\n",
      "KBA05_GBZ                          -0.017649\n",
      "KBA13_ANZAHL_PKW                   -0.019396\n",
      "MOBI_REGIO                         -0.021344\n",
      "SEMIO_TRADV                        -0.022769\n",
      "GEBAEUDETYP_RASTER                 -0.024222\n",
      "BALLRAUM                           -0.024853\n",
      "KONSUMNAEHE                        -0.027262\n",
      "PLZ8_GBZ                           -0.030602\n",
      "INNENSTADT                         -0.031338\n",
      "PLZ8_ANTG1                         -0.035600\n",
      "MOVEMENT                           -0.040405\n",
      "SEMIO_PFLICHT                      -0.047151\n",
      "FINANZ_HAUSBAUER                   -0.052051\n",
      "DECADE                             -0.058651\n",
      "FINANZ_SPARER                      -0.082151\n",
      "FINANZ_UNAUFFAELLIGER              -0.096297\n",
      "FINANZ_ANLEGER                     -0.174296\n",
      "SEMIO_RAT                          -0.181772\n",
      "SEMIO_ERL                          -0.182796\n",
      "SEMIO_KRIT                         -0.307605\n",
      "SEMIO_DOM                          -0.333310\n",
      "SEMIO_KAEM                         -0.360295\n",
      "ANREDE_KZ                          -0.362642\n"
     ]
    }
   ],
   "source": [
    "# Map weights for the third principal component to corresponding feature names\n",
    "# and then print the linked values, sorted by weight.\n",
    "feature_weights_pc3 = pca_weights(azdias_clean, pca, 2)\n",
    "print(feature_weights_pc3)"
   ]
  },
  {
   "cell_type": "markdown",
   "metadata": {},
   "source": [
    "### Discussion 2.3: Interpret Principal Components\n",
    "\n",
    "For each of the three principal components, I have listed the features with the top two positive correlations and the bottom two negative correlations. For each feature I have listed its description (as described in the data dictionary) and weight.\n",
    "\n",
    "#### First principal component              \n",
    "\n",
    "| Component: | Data Dictionary: | Weight: |\n",
    "| :- | :- | :- |\n",
    "|PLZ8_ANTG3|Number of 6-10 family houses in the PLZ8 region.|0.232915|\n",
    "|PLZ8_ANTG4|Number of 10+ family houses in the PLZ8 region.|0.225885|\n",
    "\n",
    "From the features that are positively correlated with the first principal component we see that the number of 6-10 family houses and 10+ houses increase when the first principal component increases.\n",
    "\n",
    "| Component: | Data Dictionary: | Weight: |\n",
    "| :- | :- | :- |\n",
    "|PLZ8_ANTG1|Number of 1-2 family homes in the PLZ8 region.|-0.232261|\n",
    "|MOBI_REGIO|Movement patterns.|-0.247236|\n",
    "\n",
    "From the features that are negatively correlated with the first principal component we see that the number of 1-2 family homes and movement patterns decrease when the first principal component increases.\n",
    "\n",
    "This principal component is about residential information and, to a lesser extent, movement patterns.\n",
    "\n",
    "#### Second principal component\n",
    "\n",
    "| Component: | Data Dictionary:| Weight: |\n",
    "| :- | :- | :- |\n",
    "|ALTERSKATEGORIE_GROB|Estimated age based on given name analysis.|0.270977|\n",
    "|FINANZ_VORSORGER|Financial topology - be prepared.|0.251018|\n",
    "\n",
    "From the features that are positively correlated with the second principal component we see that the estimated age based on a given name analysis and a be prepared financial view increase when the second principal component increases.\n",
    "\n",
    "| Component: | Data Dictionary: | Weight: |\n",
    "| :- | :- | :- |\n",
    "|FINANZ_SPARER|Financial topology - money-saver.|-0.257439|\n",
    "|DECADE|Generation by decade.|-0.264504|\n",
    "\n",
    "From the features that are negatively correlated with the second principal component we see that a money-saver financial view and generation by decade decrease when the second principal component increases.\n",
    "\n",
    "This principal component is about age and financial saving.\n",
    "\n",
    "#### Third principal component\n",
    "\n",
    "| Component: | Data Dictionary: | Weight: |\n",
    "| :- | :- | :- |\n",
    "|SEMIO_VERT|Personality topology - dreamful.|0.353607|\n",
    "|SEMIO_SOZ|Personality topology - socially-minded.|0.291003|\n",
    "\n",
    "From the features that are positively correlated with the third principal component we see that the dreamful personality type and socially-minded personality type increase when the third principal component increases.\n",
    "\n",
    "| Component: | Data Dictionary: | Weight: |\n",
    "| :- | :- | :- |\n",
    "|SEMIO_KAEM|Personality topology - combative attitude.|-0.360295|\n",
    "|ANREDE_KZ|Gender.|-0.362642|\n",
    "\n",
    "From the features that are negatively correlated with the third principal component we see that a combative attitude personality type and gender decrease when the third principal component increases.\n",
    "\n",
    "This principal component is about personality types and, to a lesser extent, gender.\n",
    "\n",
    "**Note:** In general, all of the correlation values are considered, at best, weakly correlated to their respective principal component."
   ]
  },
  {
   "cell_type": "markdown",
   "metadata": {},
   "source": [
    "## Step 3: Clustering\n",
    "\n",
    "### Step 3.1: Apply Clustering to General Population\n",
    "\n",
    "You've assessed and cleaned the demographics data, then scaled and transformed them. Now, it's time to see how the data clusters in the principal components space. In this substep, you will apply k-means clustering to the dataset and use the average within-cluster distances from each point to their assigned cluster's centroid to decide on a number of clusters to keep.\n",
    "\n",
    "- Use sklearn's [KMeans](http://scikit-learn.org/stable/modules/generated/sklearn.cluster.KMeans.html#sklearn.cluster.KMeans) class to perform k-means clustering on the PCA-transformed data.\n",
    "- Then, compute the average difference from each point to its assigned cluster's center. **Hint**: The KMeans object's `.score()` method might be useful here, but note that in sklearn, scores tend to be defined so that larger is better. Try applying it to a small, toy dataset, or use an internet search to help your understanding.\n",
    "- Perform the above two steps for a number of different cluster counts. You can then see how the average distance decreases with an increasing number of clusters. However, each additional cluster provides a smaller net benefit. Use this fact to select a final number of clusters in which to group the data. **Warning**: because of the large size of the dataset, it can take a long time for the algorithm to resolve. The more clusters to fit, the longer the algorithm will take. You should test for cluster counts through at least 10 clusters to get the full picture, but you shouldn't need to test for a number of clusters above about 30.\n",
    "- Once you've selected a final number of clusters to use, re-fit a KMeans instance to perform the clustering operation. Make sure that you also obtain the cluster assignments for the general demographics data, since you'll be using them in the final Step 3.3."
   ]
  },
  {
   "cell_type": "markdown",
   "metadata": {},
   "source": [
    "Define a function to calculate the KMeans:"
   ]
  },
  {
   "cell_type": "code",
   "execution_count": 62,
   "metadata": {},
   "outputs": [],
   "source": [
    "# Function to provide KMeans.\n",
    "def k_mean_score(data, cluster_count):\n",
    "    kmeans = KMeans(n_clusters = cluster_count)\n",
    "    model = kmeans.fit(data)\n",
    "    score = np.abs(model.score(data))\n",
    "    print(cluster_count, score)\n",
    "    return score"
   ]
  },
  {
   "cell_type": "markdown",
   "metadata": {},
   "source": [
    "Run k-means clustering over a number of different cluster counts - 1 to 10 inclusive (note that this took just over 7 minutes to run on my desktop PC - using the Udacity environment will mean it will take considerably longer):"
   ]
  },
  {
   "cell_type": "code",
   "execution_count": 63,
   "metadata": {},
   "outputs": [
    {
     "name": "stdout",
     "output_type": "stream",
     "text": [
      "1 50852119.01506464\n",
      "2 44905589.279608555\n",
      "3 41389263.2672632\n",
      "4 39233415.690598674\n",
      "5 37699287.18309455\n",
      "6 36457115.586734034\n",
      "7 35422925.186538026\n",
      "8 34630840.294007115\n",
      "9 33959118.77560963\n",
      "10 33247615.25080023\n"
     ]
    }
   ],
   "source": [
    "# Over a number of different cluster counts...\n",
    "    # run k-means clustering on the data and...    \n",
    "    # compute the average within-cluster distances.\n",
    "scores = []\n",
    "clusters =list(range(1, 11))\n",
    "for count in clusters:\n",
    "    scores.append(k_mean_score(azdias_clean_pca, count))"
   ]
  },
  {
   "cell_type": "markdown",
   "metadata": {},
   "source": [
    "Display a graph to visually obtain the cluster k value:"
   ]
  },
  {
   "cell_type": "code",
   "execution_count": 64,
   "metadata": {},
   "outputs": [
    {
     "data": {
      "image/png": "[encoded data removed]",
      "text/plain": [
       "<Figure size 432x288 with 1 Axes>"
      ]
     },
     "metadata": {
      "needs_background": "light"
     },
     "output_type": "display_data"
    }
   ],
   "source": [
    "# Investigate the change in within-cluster distance across number of clusters.\n",
    "# HINT: Use matplotlib's plot function to visualize this relationship.\n",
    "plot.plot(clusters, scores, linestyle = '-', marker = 'o')\n",
    "plot.xlabel('Cluster Count (K)')\n",
    "plot.ylabel('Sum of Squared Errors (SSE)')\n",
    "plot.title('Sum of Squared Errors (SSE) versus Cluster Count (K):')\n",
    "plot.show()"
   ]
  },
  {
   "cell_type": "markdown",
   "metadata": {},
   "source": [
    "From visual inspection it looks like a good value for K is 7, since after 7, the distance between cluster counts look uniform."
   ]
  },
  {
   "cell_type": "markdown",
   "metadata": {},
   "source": [
    "Re-fit the K-mean model with the chosen K value (number of clusters), which is 7.  Obtain the clusters prediction:"
   ]
  },
  {
   "cell_type": "code",
   "execution_count": 65,
   "metadata": {},
   "outputs": [],
   "source": [
    "# Re-fit the K-means model with the selected number of clusters and obtain\n",
    "# cluster predictions for the general population demographics data.\n",
    "#\n",
    "# NOTE: The random_state parameter uses a randomly chosen 4 digit number to\n",
    "#       seed the KMeans function so that the prediction results will be consistent\n",
    "#       from run to run.\n",
    "kmeans = KMeans(n_clusters = 7, random_state = 5683)"
   ]
  },
  {
   "cell_type": "code",
   "execution_count": 66,
   "metadata": {},
   "outputs": [],
   "source": [
    "# Calculate the model.\n",
    "model_7 = kmeans.fit(azdias_clean_pca)"
   ]
  },
  {
   "cell_type": "code",
   "execution_count": 67,
   "metadata": {},
   "outputs": [],
   "source": [
    "# Calculate the prediction values.\n",
    "azdias_clusters_prediction = model_7.predict(azdias_clean_pca)"
   ]
  },
  {
   "cell_type": "markdown",
   "metadata": {},
   "source": [
    "Display the newly obtained cluster prediction:"
   ]
  },
  {
   "cell_type": "code",
   "execution_count": 68,
   "metadata": {},
   "outputs": [
    {
     "name": "stdout",
     "output_type": "stream",
     "text": [
      "[1 6 2 ... 5 6 2]\n"
     ]
    }
   ],
   "source": [
    "# Display the cluster prediction for the general population demographic data.\n",
    "print(azdias_clusters_prediction)"
   ]
  },
  {
   "cell_type": "markdown",
   "metadata": {},
   "source": [
    "### Discussion 3.1: Apply Clustering to General Population\n",
    "\n",
    "K = 7 looks (via a visual inspection) to be the point at which the distance between cluster counts looks uniform. So, 7 clusters will be used."
   ]
  },
  {
   "cell_type": "markdown",
   "metadata": {},
   "source": [
    "### Step 3.2: Apply All Steps to the Customer Data\n",
    "\n",
    "Now that you have clusters and cluster centers for the general population, it's time to see how the customer data maps on to those clusters. Take care to not confuse this for re-fitting all of the models to the customer data. Instead, you're going to use the fits from the general population to clean, transform, and cluster the customer data. In the last step of the project, you will interpret how the general population fits apply to the customer data.\n",
    "\n",
    "- Don't forget when loading in the customers data, that it is semicolon (`;`) delimited.\n",
    "- Apply the same feature wrangling, selection, and engineering steps to the customer demographics using the `clean_data()` function you created earlier. (You can assume that the customer demographics data has similar meaning behind missing data patterns as the general demographics data.)\n",
    "- Use the sklearn objects from the general demographics data, and apply their transformations to the customers data. That is, you should not be using a `.fit()` or `.fit_transform()` method to re-fit the old objects, nor should you be creating new sklearn objects! Carry the data through the feature scaling, PCA, and clustering steps, obtaining cluster assignments for all of the data in the customer demographics data."
   ]
  },
  {
   "cell_type": "markdown",
   "metadata": {},
   "source": [
    "Load in the customer demographics data."
   ]
  },
  {
   "cell_type": "code",
   "execution_count": 69,
   "metadata": {},
   "outputs": [],
   "source": [
    "# Load in the customer demographics data.\n",
    "customers = pd.read_csv('Udacity_CUSTOMERS_Subset.csv', sep = ';')"
   ]
  },
  {
   "cell_type": "markdown",
   "metadata": {},
   "source": [
    "Use the previously defined `clean_data` function to clean the customer data:"
   ]
  },
  {
   "cell_type": "code",
   "execution_count": 70,
   "metadata": {},
   "outputs": [
    {
     "name": "stdout",
     "output_type": "stream",
     "text": [
      "Start clean_data function:\n",
      "dataset shape = (191652, 85)\n",
      "features dataset shape = (85, 4)\n",
      "\n",
      "Converted the missing data to NaNs.\n",
      "\n",
      "Remove outliers:\n",
      "['AGER_TYP', 'GEBURTSJAHR', 'TITEL_KZ', 'ALTER_HH', 'KK_KUNDENTYP', 'KBA05_BAUMAX']\n",
      "Removed outliers.\n",
      "\n",
      "Removed data with more than or equal to 25 missing data.\n",
      "\n",
      "Remove multi-level features, and re-encode OST_WEST_KZ feature:\n",
      "CJT_GESAMTTYP\n",
      "FINANZTYP\n",
      "GFK_URLAUBERTYP\n",
      "LP_FAMILIE_FEIN\n",
      "LP_FAMILIE_GROB\n",
      "LP_STATUS_FEIN\n",
      "LP_STATUS_GROB\n",
      "NATIONALITAET_KZ\n",
      "SHOPPER_TYP\n",
      "ZABEOTYP\n",
      "GEBAEUDETYP\n",
      "CAMEO_DEUG_2015\n",
      "CAMEO_DEU_2015\n",
      "Removed multi-level features, and re-encoded OST_WEST_KZ feature with {'W': 0, 'O': 1} .\n",
      "\n",
      "Added new columns derived from engineering columns.\n",
      "\n",
      "Removed original engineered columns (rows for feature_data dataset).\n",
      "\n",
      "Remove mixed features:\n",
      "LP_LEBENSPHASE_FEIN\n",
      "LP_LEBENSPHASE_GROB\n",
      "WOHNLAGE\n",
      "PLZ8_BAUMAX\n",
      "Removed mixed features.\n",
      "\n",
      "Removed any remaining NaNs.\n",
      "\n",
      "dataset shape = (141701, 64)\n",
      "feature dataset shape = (77, 4)\n",
      "Finished clean_data function.\n"
     ]
    }
   ],
   "source": [
    "# Apply preprocessing, feature transformation, and clustering from the general\n",
    "# demographics onto the customer data, obtaining cluster predictions for the\n",
    "# customer demographics data.\n",
    "customers_clean = clean_data(customers)"
   ]
  },
  {
   "cell_type": "markdown",
   "metadata": {},
   "source": [
    "Apply the scaler transformation:"
   ]
  },
  {
   "cell_type": "code",
   "execution_count": 71,
   "metadata": {},
   "outputs": [],
   "source": [
    "# Apply feature scaling to the customers data.\n",
    "customers_clean = pd.DataFrame(scaler.transform(customers_clean), columns = customers_clean.columns)"
   ]
  },
  {
   "cell_type": "markdown",
   "metadata": {},
   "source": [
    "Perform the PCA transformation:"
   ]
  },
  {
   "cell_type": "code",
   "execution_count": 72,
   "metadata": {},
   "outputs": [],
   "source": [
    "# Apply PCA to the data while selecting for the number of components to retain (in this case 60).\n",
    "customers_clean_pca = pca.transform(customers_clean)"
   ]
  },
  {
   "cell_type": "markdown",
   "metadata": {},
   "source": [
    "Determine the customers clusters prediction:"
   ]
  },
  {
   "cell_type": "code",
   "execution_count": 73,
   "metadata": {},
   "outputs": [],
   "source": [
    "# Predict using K-means model_7 derived previously.\n",
    "customers_clusters_prediction = model_7.predict(customers_clean_pca)"
   ]
  },
  {
   "cell_type": "markdown",
   "metadata": {},
   "source": [
    "Display the customers clusters prediction:"
   ]
  },
  {
   "cell_type": "code",
   "execution_count": 74,
   "metadata": {},
   "outputs": [
    {
     "name": "stdout",
     "output_type": "stream",
     "text": [
      "[3 3 0 ... 0 3 2]\n"
     ]
    }
   ],
   "source": [
    "# Display the customers clusters prediction.\n",
    "print(customers_clusters_prediction)"
   ]
  },
  {
   "cell_type": "markdown",
   "metadata": {},
   "source": [
    "### Step 3.3: Compare Customer Data to Demographics Data\n",
    "\n",
    "At this point, you have clustered data based on demographics of the general population of Germany, and seen how the customer data for a mail-order sales company maps onto those demographic clusters. In this final substep, you will compare the two cluster distributions to see where the strongest customer base for the company is.\n",
    "\n",
    "Consider the proportion of persons in each cluster for the general population, and the proportions for the customers. If we think the company's customer base to be universal, then the cluster assignment proportions should be fairly similar between the two. If there are only particular segments of the population that are interested in the company's products, then we should see a mismatch from one to the other. If there is a higher proportion of persons in a cluster for the customer data compared to the general population (e.g. 5% of persons are assigned to a cluster for the general population, but 15% of the customer data is closest to that cluster's centroid) then that suggests the people in that cluster to be a target audience for the company. On the other hand, the proportion of the data in a cluster being larger in the general population than the customer data (e.g. only 2% of customers closest to a population centroid that captures 6% of the data) suggests that group of persons to be outside of the target demographics.\n",
    "\n",
    "Take a look at the following points in this step:\n",
    "\n",
    "- Compute the proportion of data points in each cluster for the general population and the customer data. Visualizations will be useful here: both for the individual dataset proportions, but also to visualize the ratios in cluster representation between groups. Seaborn's [`countplot()`](https://seaborn.pydata.org/generated/seaborn.countplot.html) or [`barplot()`](https://seaborn.pydata.org/generated/seaborn.barplot.html) function could be handy.\n",
    "  - Recall the analysis you performed in step 1.1.3 of the project, where you separated out certain data points from the dataset if they had more than a specified threshold of missing values. If you found that this group was qualitatively different from the main bulk of the data, you should treat this as an additional data cluster in this analysis. Make sure that you account for the number of data points in this subset, for both the general population and customer datasets, when making your computations!\n",
    "- Which cluster or clusters are overrepresented in the customer dataset compared to the general population? Select at least one such cluster and infer what kind of people might be represented by that cluster. Use the principal component interpretations from step 2.3 or look at additional components to help you make this inference. Alternatively, you can use the `.inverse_transform()` method of the PCA and StandardScaler objects to transform centroids back to the original data space and interpret the retrieved values directly.\n",
    "- Perform a similar investigation for the underrepresented clusters. Which cluster or clusters are underrepresented in the customer dataset compared to the general population, and what kinds of people are typified by these clusters?"
   ]
  },
  {
   "cell_type": "markdown",
   "metadata": {},
   "source": [
    "Create proportion data for the general population and customers data so that they can be compared:"
   ]
  },
  {
   "cell_type": "code",
   "execution_count": 75,
   "metadata": {},
   "outputs": [],
   "source": [
    "# Calculate the proportion of data in each cluster for the customer data to the \n",
    "# proportion of data in each cluster for the general population.\n",
    "azdias_proportion = []\n",
    "customers_proportion = []\n",
    "k = 7 # Number of clusters (previously determined).\n",
    "azdias_prediction_length = len(azdias_clusters_prediction)\n",
    "customers_prediction_length = len(customers_clusters_prediction)\n",
    "\n",
    "clusters = [cluster for cluster in range(k)]\n",
    "\n",
    "for cluster in range(k):\n",
    "    azdias_proportion.append((azdias_clusters_prediction == cluster).sum() / azdias_prediction_length)\n",
    "    customers_proportion.append((customers_clusters_prediction == cluster).sum() /customers_prediction_length)"
   ]
  },
  {
   "cell_type": "markdown",
   "metadata": {},
   "source": [
    "Create a new dataset to hold the proportion data:"
   ]
  },
  {
   "cell_type": "code",
   "execution_count": 76,
   "metadata": {},
   "outputs": [
    {
     "data": {
      "text/html": [
       "<div>\n",
       "<style scoped>\n",
       "    .dataframe tbody tr th:only-of-type {\n",
       "        vertical-align: middle;\n",
       "    }\n",
       "\n",
       "    .dataframe tbody tr th {\n",
       "        vertical-align: top;\n",
       "    }\n",
       "\n",
       "    .dataframe thead th {\n",
       "        text-align: right;\n",
       "    }\n",
       "</style>\n",
       "<table border=\"1\" class=\"dataframe\">\n",
       "  <thead>\n",
       "    <tr style=\"text-align: right;\">\n",
       "      <th></th>\n",
       "      <th>Customers Population</th>\n",
       "      <th>General Population</th>\n",
       "    </tr>\n",
       "  </thead>\n",
       "  <tbody>\n",
       "    <tr>\n",
       "      <th>0</th>\n",
       "      <td>0.078779</td>\n",
       "      <td>0.123740</td>\n",
       "    </tr>\n",
       "    <tr>\n",
       "      <th>1</th>\n",
       "      <td>0.258848</td>\n",
       "      <td>0.209189</td>\n",
       "    </tr>\n",
       "    <tr>\n",
       "      <th>2</th>\n",
       "      <td>0.151806</td>\n",
       "      <td>0.159509</td>\n",
       "    </tr>\n",
       "    <tr>\n",
       "      <th>3</th>\n",
       "      <td>0.388854</td>\n",
       "      <td>0.165543</td>\n",
       "    </tr>\n",
       "    <tr>\n",
       "      <th>4</th>\n",
       "      <td>0.018948</td>\n",
       "      <td>0.100596</td>\n",
       "    </tr>\n",
       "    <tr>\n",
       "      <th>5</th>\n",
       "      <td>0.093598</td>\n",
       "      <td>0.122909</td>\n",
       "    </tr>\n",
       "    <tr>\n",
       "      <th>6</th>\n",
       "      <td>0.009167</td>\n",
       "      <td>0.118514</td>\n",
       "    </tr>\n",
       "  </tbody>\n",
       "</table>\n",
       "</div>"
      ],
      "text/plain": [
       "   Customers Population  General Population\n",
       "0              0.078779            0.123740\n",
       "1              0.258848            0.209189\n",
       "2              0.151806            0.159509\n",
       "3              0.388854            0.165543\n",
       "4              0.018948            0.100596\n",
       "5              0.093598            0.122909\n",
       "6              0.009167            0.118514"
      ]
     },
     "execution_count": 76,
     "metadata": {},
     "output_type": "execute_result"
    }
   ],
   "source": [
    "# Create a new dataset to hold the proportion data.\n",
    "proportion_df = pd.DataFrame({'Customers Population': customers_proportion, 'General Population': azdias_proportion})\n",
    "\n",
    "# Display the new dataset.\n",
    "proportion_df.head(k)"
   ]
  },
  {
   "cell_type": "markdown",
   "metadata": {},
   "source": [
    "Calculate the proportion differences for each cluster and display that data:"
   ]
  },
  {
   "cell_type": "code",
   "execution_count": 77,
   "metadata": {},
   "outputs": [
    {
     "data": {
      "text/html": [
       "<div>\n",
       "<style scoped>\n",
       "    .dataframe tbody tr th:only-of-type {\n",
       "        vertical-align: middle;\n",
       "    }\n",
       "\n",
       "    .dataframe tbody tr th {\n",
       "        vertical-align: top;\n",
       "    }\n",
       "\n",
       "    .dataframe thead th {\n",
       "        text-align: right;\n",
       "    }\n",
       "</style>\n",
       "<table border=\"1\" class=\"dataframe\">\n",
       "  <thead>\n",
       "    <tr style=\"text-align: right;\">\n",
       "      <th></th>\n",
       "      <th>Difference</th>\n",
       "    </tr>\n",
       "  </thead>\n",
       "  <tbody>\n",
       "    <tr>\n",
       "      <th>0</th>\n",
       "      <td>-0.044962</td>\n",
       "    </tr>\n",
       "    <tr>\n",
       "      <th>1</th>\n",
       "      <td>0.049659</td>\n",
       "    </tr>\n",
       "    <tr>\n",
       "      <th>2</th>\n",
       "      <td>-0.007703</td>\n",
       "    </tr>\n",
       "    <tr>\n",
       "      <th>3</th>\n",
       "      <td>0.223311</td>\n",
       "    </tr>\n",
       "    <tr>\n",
       "      <th>4</th>\n",
       "      <td>-0.081647</td>\n",
       "    </tr>\n",
       "    <tr>\n",
       "      <th>5</th>\n",
       "      <td>-0.029311</td>\n",
       "    </tr>\n",
       "    <tr>\n",
       "      <th>6</th>\n",
       "      <td>-0.109347</td>\n",
       "    </tr>\n",
       "  </tbody>\n",
       "</table>\n",
       "</div>"
      ],
      "text/plain": [
       "   Difference\n",
       "0   -0.044962\n",
       "1    0.049659\n",
       "2   -0.007703\n",
       "3    0.223311\n",
       "4   -0.081647\n",
       "5   -0.029311\n",
       "6   -0.109347"
      ]
     },
     "execution_count": 77,
     "metadata": {},
     "output_type": "execute_result"
    }
   ],
   "source": [
    "# Calculate the difference between proportions for each cluster.\n",
    "proportion_difference = proportion_df['Customers Population'] - proportion_df['General Population']\n",
    "\n",
    "# Create a new dataset to hold the difference data.\n",
    "proportion_difference_df = pd.DataFrame({'Difference': proportion_difference})\n",
    "\n",
    "# Display the difference data.\n",
    "proportion_difference_df.head(k)"
   ]
  },
  {
   "cell_type": "markdown",
   "metadata": {},
   "source": [
    "Positive values indicate overrepresented clusters and negative values indicate underrepresented clusters.  Based on the difference data, clusters 1 and 3 are overrepresented, whereas clusters 0, 2, 4, 5, and 6 are underrepresented."
   ]
  },
  {
   "cell_type": "markdown",
   "metadata": {},
   "source": [
    "Graph the proportion data so that the customer data and general population data can be easily compared:"
   ]
  },
  {
   "cell_type": "code",
   "execution_count": 78,
   "metadata": {},
   "outputs": [
    {
     "data": {
      "image/png": "[encoded data removed]",
      "text/plain": [
       "<Figure size 648x432 with 1 Axes>"
      ]
     },
     "metadata": {
      "needs_background": "light"
     },
     "output_type": "display_data"
    }
   ],
   "source": [
    "# Graph the proportion data.\n",
    "proportion_df.plot(kind = 'bar', figsize = (9, 6))\n",
    "plot.title('Proportion of Customer Data Versus Proportion of General Population Data:')\n",
    "plot.xlabel('Cluster')\n",
    "plot.ylabel('Proportion of People in Each Cluster')\n",
    "\n",
    "# Display the chart.\n",
    "plot.show()"
   ]
  },
  {
   "cell_type": "markdown",
   "metadata": {},
   "source": [
    "From the graph it can be determined (by visual inspection) that cluster 3 is the most overrepresented cluster, and cluster 6 is the most underrepresented cluster.  This is also confirmed by looking at the previously generated difference data and noting the largest positive value (most overrepresented) and the smallest negative value (most underrepresented)."
   ]
  },
  {
   "cell_type": "markdown",
   "metadata": {},
   "source": [
    "Determine the kinds of people that are overrepresented in the customer data compared to the general population using cluster 3:"
   ]
  },
  {
   "cell_type": "code",
   "execution_count": 79,
   "metadata": {},
   "outputs": [
    {
     "data": {
      "text/plain": [
       "ALTERSKATEGORIE_GROB        3.430133\n",
       "ANREDE_KZ                   1.002482\n",
       "FINANZ_MINIMALIST           4.591851\n",
       "FINANZ_SPARER               1.726930\n",
       "FINANZ_VORSORGER            4.212032\n",
       "FINANZ_ANLEGER              1.915580\n",
       "FINANZ_UNAUFFAELLIGER       2.050437\n",
       "FINANZ_HAUSBAUER            2.008050\n",
       "GREEN_AVANTGARDE            0.368815\n",
       "HEALTH_TYP                  2.175995\n",
       "RETOURTYP_BK_S              3.839512\n",
       "SEMIO_SOZ                   4.622728\n",
       "SEMIO_FAM                   4.658601\n",
       "SEMIO_REL                   3.734044\n",
       "SEMIO_MAT                   3.586786\n",
       "SEMIO_VERT                  6.022477\n",
       "SEMIO_LUST                  4.959165\n",
       "SEMIO_ERL                   4.167631\n",
       "SEMIO_KULT                  4.949326\n",
       "SEMIO_RAT                   2.797210\n",
       "SEMIO_KRIT                  3.464418\n",
       "SEMIO_DOM                   3.354617\n",
       "SEMIO_KAEM                  2.714661\n",
       "SEMIO_PFLICHT               3.192550\n",
       "SEMIO_TRADV                 3.114560\n",
       "SOHO_KZ                     0.009018\n",
       "VERS_TYP                    1.549392\n",
       "ANZ_PERSONEN                1.975193\n",
       "ANZ_TITEL                   0.005709\n",
       "HH_EINKOMMEN_SCORE          3.266304\n",
       "W_KEIT_KIND_HH              4.150065\n",
       "WOHNDAUER_2008              8.331842\n",
       "ANZ_HAUSHALTE_AKTIV         2.501569\n",
       "ANZ_HH_TITEL                0.011963\n",
       "KONSUMNAEHE                 3.764338\n",
       "MIN_GEBAEUDEJAHR         1993.731730\n",
       "OST_WEST_KZ                 0.157455\n",
       "KBA05_ANTG1                 2.492075\n",
       "KBA05_ANTG2                 1.140598\n",
       "KBA05_ANTG3                 0.159219\n",
       "KBA05_ANTG4                 0.044969\n",
       "KBA05_GBZ                   4.032279\n",
       "BALLRAUM                    4.864351\n",
       "EWDICHTE                    3.016060\n",
       "INNENSTADT                  5.425987\n",
       "GEBAEUDETYP_RASTER          4.015489\n",
       "KKK                         2.621171\n",
       "MOBI_REGIO                  4.019959\n",
       "ONLINE_AFFINITAET           2.860233\n",
       "REGIOTYP                    4.139405\n",
       "KBA13_ANZAHL_PKW          677.640908\n",
       "PLZ8_ANTG1                  2.867889\n",
       "PLZ8_ANTG2                  2.366961\n",
       "PLZ8_ANTG3                  0.955671\n",
       "PLZ8_ANTG4                  0.262977\n",
       "PLZ8_HHZ                    3.468916\n",
       "PLZ8_GBZ                    3.854016\n",
       "ARBEIT                      2.774350\n",
       "ORTSGR_KLS9                 4.071142\n",
       "RELAT_AB                    2.553595\n",
       "DECADE                      3.611212\n",
       "MOVEMENT                    0.624862\n",
       "WEALTH                      2.331699\n",
       "LIFE_STAGE                  3.388364\n",
       "dtype: float64"
      ]
     },
     "execution_count": 79,
     "metadata": {},
     "output_type": "execute_result"
    }
   ],
   "source": [
    "# What kinds of people are part of a cluster that is overepresented in the\n",
    "# customer data compared to the general population?\n",
    "centroid_3 = scaler.inverse_transform(pca.inverse_transform(model_7.cluster_centers_[3]))\n",
    "overrepresented_df = pd.Series(data = centroid_3, index = customers_clean.columns)\n",
    "\n",
    "# Display items of the overrepresented data.\n",
    "overrepresented_df"
   ]
  },
  {
   "cell_type": "markdown",
   "metadata": {},
   "source": [
    "Determine the kinds of people that are underrepresented in the customer data compared to the general population using cluster 6:"
   ]
  },
  {
   "cell_type": "code",
   "execution_count": 80,
   "metadata": {},
   "outputs": [
    {
     "data": {
      "text/plain": [
       "ALTERSKATEGORIE_GROB        1.840355\n",
       "ANREDE_KZ                   1.611599\n",
       "FINANZ_MINIMALIST           1.379519\n",
       "FINANZ_SPARER               4.377067\n",
       "FINANZ_VORSORGER            2.079273\n",
       "FINANZ_ANLEGER              3.911499\n",
       "FINANZ_UNAUFFAELLIGER       3.681939\n",
       "FINANZ_HAUSBAUER            4.085311\n",
       "GREEN_AVANTGARDE            0.043723\n",
       "HEALTH_TYP                  2.274679\n",
       "RETOURTYP_BK_S              2.727814\n",
       "SEMIO_SOZ                   4.564854\n",
       "SEMIO_FAM                   5.105932\n",
       "SEMIO_REL                   5.909284\n",
       "SEMIO_MAT                   4.913640\n",
       "SEMIO_VERT                  3.623474\n",
       "SEMIO_LUST                  3.054743\n",
       "SEMIO_ERL                   3.551041\n",
       "SEMIO_KULT                  5.269627\n",
       "SEMIO_RAT                   5.406556\n",
       "SEMIO_KRIT                  4.497244\n",
       "SEMIO_DOM                   4.921887\n",
       "SEMIO_KAEM                  4.886891\n",
       "SEMIO_PFLICHT               6.105091\n",
       "SEMIO_TRADV                 5.280104\n",
       "SOHO_KZ                     0.007732\n",
       "VERS_TYP                    1.493552\n",
       "ANZ_PERSONEN                1.443508\n",
       "ANZ_TITEL                   0.001855\n",
       "HH_EINKOMMEN_SCORE          5.630886\n",
       "W_KEIT_KIND_HH              4.215945\n",
       "WOHNDAUER_2008              7.216781\n",
       "ANZ_HAUSHALTE_AKTIV        18.520278\n",
       "ANZ_HH_TITEL                0.074536\n",
       "KONSUMNAEHE                 1.936847\n",
       "MIN_GEBAEUDEJAHR         1992.380763\n",
       "OST_WEST_KZ                 0.329567\n",
       "KBA05_ANTG1                 0.226174\n",
       "KBA05_ANTG2                 0.998953\n",
       "KBA05_ANTG3                 1.175022\n",
       "KBA05_ANTG4                 0.796855\n",
       "KBA05_GBZ                   1.903571\n",
       "BALLRAUM                    2.835998\n",
       "EWDICHTE                    5.463818\n",
       "INNENSTADT                  2.902602\n",
       "GEBAEUDETYP_RASTER          3.251615\n",
       "KKK                         2.972031\n",
       "MOBI_REGIO                  1.513443\n",
       "ONLINE_AFFINITAET           2.907885\n",
       "REGIOTYP                    5.114269\n",
       "KBA13_ANZAHL_PKW          471.881494\n",
       "PLZ8_ANTG1                  1.269821\n",
       "PLZ8_ANTG2                  3.313784\n",
       "PLZ8_ANTG3                  2.571570\n",
       "PLZ8_ANTG4                  1.470391\n",
       "PLZ8_HHZ                    3.743234\n",
       "PLZ8_GBZ                    2.417558\n",
       "ARBEIT                      3.758353\n",
       "ORTSGR_KLS9                 7.364138\n",
       "RELAT_AB                    3.805182\n",
       "DECADE                      5.538232\n",
       "MOVEMENT                    0.934658\n",
       "WEALTH                      4.550654\n",
       "LIFE_STAGE                  1.856530\n",
       "dtype: float64"
      ]
     },
     "execution_count": 80,
     "metadata": {},
     "output_type": "execute_result"
    }
   ],
   "source": [
    "# What kinds of people are part of a cluster that is underrepresented in the\n",
    "# customer data compared to the general population?\n",
    "centroid_6 = scaler.inverse_transform(pca.inverse_transform(model_7.cluster_centers_[6]))\n",
    "underrepresented_df = pd.Series(data = centroid_6, index = customers_clean.columns)\n",
    "\n",
    "# Display items of the underrepresented data.\n",
    "underrepresented_df"
   ]
  },
  {
   "cell_type": "markdown",
   "metadata": {},
   "source": [
    "### Discussion 3.3: Compare Customer Data to Demographics Data"
   ]
  },
  {
   "cell_type": "markdown",
   "metadata": {},
   "source": [
    "**Observations:**"
   ]
  },
  {
   "cell_type": "markdown",
   "metadata": {},
   "source": [
    "Clusters 1 and 3 are popular (overrepresented) with the mail-order company. Cluster 3 is the most overrepresented.\n",
    "\n",
    "Clusters 0, 2, 4, 5, and 6 are unpopular (underrepresented) with the mail-order company. Cluster 6 is the most underepresented."
   ]
  },
  {
   "cell_type": "markdown",
   "metadata": {},
   "source": [
    "**Conclusions:**"
   ]
  },
  {
   "cell_type": "markdown",
   "metadata": {},
   "source": [
    "Looking at the first eight features (with feature definitions from the data dictionary) for cluster 3 shows that the people in this cluster tend to be older (46 to 60 years old), male, very low to low in *low* financial interest, high to very high in money saving, very low to low in being prepared, high to very high in investing, average to high in inconspicuousness, and average to high in home ownership.\n",
    "\n",
    "Looking at the first eight features (with data definitions from the data dictionary) for cluster 6 shows that the people in this cluster tend to be young (less than 30 years old), male, high to very high in *low* financial interest, very low to low in money saving, average to high in being prepared, low to average in investing, low to average in inconspicuousness, and very low to low in home ownership.\n",
    "\n",
    "In summary, the data would infer that customers that are popular with the mail order company are older, inclined to make good financial decisions (in the present and the future), and likely own their own homes.  Customers that are unpopular with the mail order company are younger, financially less sophisticated (make less good financial decisions for the present and the future), and likely do not own their own home."
   ]
  },
  {
   "cell_type": "code",
   "execution_count": null,
   "metadata": {},
   "outputs": [],
   "source": []
  }
 ],
 "metadata": {
  "kernelspec": {
   "display_name": "Python 3 (ipykernel)",
   "language": "python",
   "name": "python3"
  },
  "language_info": {
   "codemirror_mode": {
    "name": "ipython",
    "version": 3
   },
   "file_extension": ".py",
   "mimetype": "text/x-python",
   "name": "python",
   "nbconvert_exporter": "python",
   "pygments_lexer": "ipython3",
   "version": "3.9.13"
  }
 },
 "nbformat": 4,
 "nbformat_minor": 2
}
